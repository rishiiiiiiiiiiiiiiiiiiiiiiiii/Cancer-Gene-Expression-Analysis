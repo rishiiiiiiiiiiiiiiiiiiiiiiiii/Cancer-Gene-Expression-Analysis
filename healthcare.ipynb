{
 "cells": [
  {
   "cell_type": "markdown",
   "id": "d4bf9f6a",
   "metadata": {
    "id": "HhqX1lFyju1d",
    "papermill": {
     "duration": 0.032371,
     "end_time": "2022-08-09T11:28:24.683010",
     "exception": false,
     "start_time": "2022-08-09T11:28:24.650639",
     "status": "completed"
    },
    "tags": []
   },
   "source": [
    "Exploratory Data Analysis"
   ]
  },
  {
   "cell_type": "code",
   "execution_count": 1,
   "id": "dcc419bf",
   "metadata": {
    "execution": {
     "iopub.execute_input": "2022-08-09T11:28:24.746448Z",
     "iopub.status.busy": "2022-08-09T11:28:24.745975Z",
     "iopub.status.idle": "2022-08-09T11:28:24.765015Z",
     "shell.execute_reply": "2022-08-09T11:28:24.763756Z"
    },
    "papermill": {
     "duration": 0.054555,
     "end_time": "2022-08-09T11:28:24.768307",
     "exception": false,
     "start_time": "2022-08-09T11:28:24.713752",
     "status": "completed"
    },
    "tags": []
   },
   "outputs": [
    {
     "name": "stdout",
     "output_type": "stream",
     "text": [
      "/kaggle/input/icmr-data/data.csv\n",
      "/kaggle/input/icmr-data/labels.csv\n"
     ]
    }
   ],
   "source": [
    "# This Python 3 environment comes with many helpful analytics libraries installed\n",
    "# It is defined by the kaggle/python Docker image: https://github.com/kaggle/docker-python\n",
    "# For example, here's several helpful packages to load\n",
    "\n",
    "import numpy as np # linear algebra\n",
    "import pandas as pd # data processing, CSV file I/O (e.g. pd.read_csv)\n",
    "\n",
    "# Input data files are available in the read-only \"../input/\" directory\n",
    "# For example, running this (by clicking run or pressing Shift+Enter) will list all files under the input directory\n",
    "\n",
    "import os\n",
    "for dirname, _, filenames in os.walk('/kaggle/input'):\n",
    "    for filename in filenames:\n",
    "        print(os.path.join(dirname, filename))\n",
    "\n",
    "# You can write up to 20GB to the current directory (/kaggle/working/) that gets preserved as output when you create a version using \"Save & Run All\" \n",
    "# You can also write temporary files to /kaggle/temp/, but they won't be saved outside of the current session"
   ]
  },
  {
   "cell_type": "code",
   "execution_count": 2,
   "id": "7794ca21",
   "metadata": {
    "execution": {
     "iopub.execute_input": "2022-08-09T11:28:24.832895Z",
     "iopub.status.busy": "2022-08-09T11:28:24.831608Z",
     "iopub.status.idle": "2022-08-09T11:28:26.497976Z",
     "shell.execute_reply": "2022-08-09T11:28:26.496617Z"
    },
    "id": "xBTG5DeNXTAN",
    "papermill": {
     "duration": 1.702179,
     "end_time": "2022-08-09T11:28:26.501736",
     "exception": false,
     "start_time": "2022-08-09T11:28:24.799557",
     "status": "completed"
    },
    "tags": []
   },
   "outputs": [],
   "source": [
    "import pandas as pd\n",
    "import numpy as np\n",
    "import scipy.stats as stats\n",
    "import matplotlib.pyplot as plt\n",
    "import seaborn as sns\n",
    "\n",
    "from sklearn.decomposition import PCA\n",
    "from sklearn.discriminant_analysis import LinearDiscriminantAnalysis\n",
    "\n",
    "colors = ['royalblue','red','deeppink', 'maroon', 'mediumorchid', 'tan', 'forestgreen', 'olive', 'goldenrod', 'lightcyan', 'navy']\n",
    "vectorizer = np.vectorize(lambda x: colors[x % len(colors)])"
   ]
  },
  {
   "cell_type": "code",
   "execution_count": 3,
   "id": "bc963a3e",
   "metadata": {
    "execution": {
     "iopub.execute_input": "2022-08-09T11:28:26.569763Z",
     "iopub.status.busy": "2022-08-09T11:28:26.569317Z",
     "iopub.status.idle": "2022-08-09T11:28:39.092461Z",
     "shell.execute_reply": "2022-08-09T11:28:39.090920Z"
    },
    "id": "anqYkgcVU83y",
    "papermill": {
     "duration": 12.559399,
     "end_time": "2022-08-09T11:28:39.095683",
     "exception": false,
     "start_time": "2022-08-09T11:28:26.536284",
     "status": "completed"
    },
    "tags": []
   },
   "outputs": [],
   "source": [
    "input_path='/kaggle/input/icmr-data/'\n",
    "\n",
    "df1='data.csv'\n",
    "df2='labels.csv'\n",
    "\n",
    "data = pd.read_csv(input_path + df1)\n",
    "label = pd.read_csv(input_path + df2)"
   ]
  },
  {
   "cell_type": "markdown",
   "id": "672be158",
   "metadata": {
    "id": "bCRgrTdBkkM4",
    "papermill": {
     "duration": 0.030187,
     "end_time": "2022-08-09T11:28:39.156555",
     "exception": false,
     "start_time": "2022-08-09T11:28:39.126368",
     "status": "completed"
    },
    "tags": []
   },
   "source": [
    "1. Merge data set"
   ]
  },
  {
   "cell_type": "code",
   "execution_count": 4,
   "id": "12ac7e66",
   "metadata": {
    "execution": {
     "iopub.execute_input": "2022-08-09T11:28:39.219950Z",
     "iopub.status.busy": "2022-08-09T11:28:39.219150Z",
     "iopub.status.idle": "2022-08-09T11:28:39.564154Z",
     "shell.execute_reply": "2022-08-09T11:28:39.563268Z"
    },
    "executionInfo": {
     "elapsed": 877,
     "status": "ok",
     "timestamp": 1655460090642,
     "user": {
      "displayName": "Shibu Mohapatra",
      "userId": "07626953913233812311"
     },
     "user_tz": -330
    },
    "id": "ptB3aTUDkmud",
    "outputId": "0ea9e352-fbba-4a1b-8e38-9ce9d48c8c1a",
    "papermill": {
     "duration": 0.379996,
     "end_time": "2022-08-09T11:28:39.566867",
     "exception": false,
     "start_time": "2022-08-09T11:28:39.186871",
     "status": "completed"
    },
    "tags": []
   },
   "outputs": [
    {
     "data": {
      "text/html": [
       "<div>\n",
       "<style scoped>\n",
       "    .dataframe tbody tr th:only-of-type {\n",
       "        vertical-align: middle;\n",
       "    }\n",
       "\n",
       "    .dataframe tbody tr th {\n",
       "        vertical-align: top;\n",
       "    }\n",
       "\n",
       "    .dataframe thead th {\n",
       "        text-align: right;\n",
       "    }\n",
       "</style>\n",
       "<table border=\"1\" class=\"dataframe\">\n",
       "  <thead>\n",
       "    <tr style=\"text-align: right;\">\n",
       "      <th></th>\n",
       "      <th>Unnamed: 0</th>\n",
       "      <th>Class</th>\n",
       "      <th>gene_0</th>\n",
       "      <th>gene_1</th>\n",
       "      <th>gene_2</th>\n",
       "      <th>gene_3</th>\n",
       "      <th>gene_4</th>\n",
       "      <th>gene_5</th>\n",
       "      <th>gene_6</th>\n",
       "      <th>gene_7</th>\n",
       "      <th>...</th>\n",
       "      <th>gene_20521</th>\n",
       "      <th>gene_20522</th>\n",
       "      <th>gene_20523</th>\n",
       "      <th>gene_20524</th>\n",
       "      <th>gene_20525</th>\n",
       "      <th>gene_20526</th>\n",
       "      <th>gene_20527</th>\n",
       "      <th>gene_20528</th>\n",
       "      <th>gene_20529</th>\n",
       "      <th>gene_20530</th>\n",
       "    </tr>\n",
       "  </thead>\n",
       "  <tbody>\n",
       "    <tr>\n",
       "      <th>0</th>\n",
       "      <td>sample_0</td>\n",
       "      <td>PRAD</td>\n",
       "      <td>0.0</td>\n",
       "      <td>2.017209</td>\n",
       "      <td>3.265527</td>\n",
       "      <td>5.478487</td>\n",
       "      <td>10.431999</td>\n",
       "      <td>0.0</td>\n",
       "      <td>7.175175</td>\n",
       "      <td>0.591871</td>\n",
       "      <td>...</td>\n",
       "      <td>4.926711</td>\n",
       "      <td>8.210257</td>\n",
       "      <td>9.723516</td>\n",
       "      <td>7.220030</td>\n",
       "      <td>9.119813</td>\n",
       "      <td>12.003135</td>\n",
       "      <td>9.650743</td>\n",
       "      <td>8.921326</td>\n",
       "      <td>5.286759</td>\n",
       "      <td>0.0</td>\n",
       "    </tr>\n",
       "    <tr>\n",
       "      <th>1</th>\n",
       "      <td>sample_1</td>\n",
       "      <td>LUAD</td>\n",
       "      <td>0.0</td>\n",
       "      <td>0.592732</td>\n",
       "      <td>1.588421</td>\n",
       "      <td>7.586157</td>\n",
       "      <td>9.623011</td>\n",
       "      <td>0.0</td>\n",
       "      <td>6.816049</td>\n",
       "      <td>0.000000</td>\n",
       "      <td>...</td>\n",
       "      <td>4.593372</td>\n",
       "      <td>7.323865</td>\n",
       "      <td>9.740931</td>\n",
       "      <td>6.256586</td>\n",
       "      <td>8.381612</td>\n",
       "      <td>12.674552</td>\n",
       "      <td>10.517059</td>\n",
       "      <td>9.397854</td>\n",
       "      <td>2.094168</td>\n",
       "      <td>0.0</td>\n",
       "    </tr>\n",
       "    <tr>\n",
       "      <th>2</th>\n",
       "      <td>sample_2</td>\n",
       "      <td>PRAD</td>\n",
       "      <td>0.0</td>\n",
       "      <td>3.511759</td>\n",
       "      <td>4.327199</td>\n",
       "      <td>6.881787</td>\n",
       "      <td>9.870730</td>\n",
       "      <td>0.0</td>\n",
       "      <td>6.972130</td>\n",
       "      <td>0.452595</td>\n",
       "      <td>...</td>\n",
       "      <td>5.125213</td>\n",
       "      <td>8.127123</td>\n",
       "      <td>10.908640</td>\n",
       "      <td>5.401607</td>\n",
       "      <td>9.911597</td>\n",
       "      <td>9.045255</td>\n",
       "      <td>9.788359</td>\n",
       "      <td>10.090470</td>\n",
       "      <td>1.683023</td>\n",
       "      <td>0.0</td>\n",
       "    </tr>\n",
       "    <tr>\n",
       "      <th>3</th>\n",
       "      <td>sample_3</td>\n",
       "      <td>PRAD</td>\n",
       "      <td>0.0</td>\n",
       "      <td>3.663618</td>\n",
       "      <td>4.507649</td>\n",
       "      <td>6.659068</td>\n",
       "      <td>10.196184</td>\n",
       "      <td>0.0</td>\n",
       "      <td>7.843375</td>\n",
       "      <td>0.434882</td>\n",
       "      <td>...</td>\n",
       "      <td>6.076566</td>\n",
       "      <td>8.792959</td>\n",
       "      <td>10.141520</td>\n",
       "      <td>8.942805</td>\n",
       "      <td>9.601208</td>\n",
       "      <td>11.392682</td>\n",
       "      <td>9.694814</td>\n",
       "      <td>9.684365</td>\n",
       "      <td>3.292001</td>\n",
       "      <td>0.0</td>\n",
       "    </tr>\n",
       "    <tr>\n",
       "      <th>4</th>\n",
       "      <td>sample_4</td>\n",
       "      <td>BRCA</td>\n",
       "      <td>0.0</td>\n",
       "      <td>2.655741</td>\n",
       "      <td>2.821547</td>\n",
       "      <td>6.539454</td>\n",
       "      <td>9.738265</td>\n",
       "      <td>0.0</td>\n",
       "      <td>6.566967</td>\n",
       "      <td>0.360982</td>\n",
       "      <td>...</td>\n",
       "      <td>5.996032</td>\n",
       "      <td>8.891425</td>\n",
       "      <td>10.373790</td>\n",
       "      <td>7.181162</td>\n",
       "      <td>9.846910</td>\n",
       "      <td>11.922439</td>\n",
       "      <td>9.217749</td>\n",
       "      <td>9.461191</td>\n",
       "      <td>5.110372</td>\n",
       "      <td>0.0</td>\n",
       "    </tr>\n",
       "  </tbody>\n",
       "</table>\n",
       "<p>5 rows × 20533 columns</p>\n",
       "</div>"
      ],
      "text/plain": [
       "  Unnamed: 0 Class  gene_0    gene_1    gene_2    gene_3     gene_4  gene_5  \\\n",
       "0   sample_0  PRAD     0.0  2.017209  3.265527  5.478487  10.431999     0.0   \n",
       "1   sample_1  LUAD     0.0  0.592732  1.588421  7.586157   9.623011     0.0   \n",
       "2   sample_2  PRAD     0.0  3.511759  4.327199  6.881787   9.870730     0.0   \n",
       "3   sample_3  PRAD     0.0  3.663618  4.507649  6.659068  10.196184     0.0   \n",
       "4   sample_4  BRCA     0.0  2.655741  2.821547  6.539454   9.738265     0.0   \n",
       "\n",
       "     gene_6    gene_7  ...  gene_20521  gene_20522  gene_20523  gene_20524  \\\n",
       "0  7.175175  0.591871  ...    4.926711    8.210257    9.723516    7.220030   \n",
       "1  6.816049  0.000000  ...    4.593372    7.323865    9.740931    6.256586   \n",
       "2  6.972130  0.452595  ...    5.125213    8.127123   10.908640    5.401607   \n",
       "3  7.843375  0.434882  ...    6.076566    8.792959   10.141520    8.942805   \n",
       "4  6.566967  0.360982  ...    5.996032    8.891425   10.373790    7.181162   \n",
       "\n",
       "   gene_20525  gene_20526  gene_20527  gene_20528  gene_20529  gene_20530  \n",
       "0    9.119813   12.003135    9.650743    8.921326    5.286759         0.0  \n",
       "1    8.381612   12.674552   10.517059    9.397854    2.094168         0.0  \n",
       "2    9.911597    9.045255    9.788359   10.090470    1.683023         0.0  \n",
       "3    9.601208   11.392682    9.694814    9.684365    3.292001         0.0  \n",
       "4    9.846910   11.922439    9.217749    9.461191    5.110372         0.0  \n",
       "\n",
       "[5 rows x 20533 columns]"
      ]
     },
     "execution_count": 4,
     "metadata": {},
     "output_type": "execute_result"
    }
   ],
   "source": [
    "df = pd.merge(label,data)\n",
    "df.head()"
   ]
  },
  {
   "cell_type": "code",
   "execution_count": 5,
   "id": "a1859b64",
   "metadata": {
    "execution": {
     "iopub.execute_input": "2022-08-09T11:28:39.633173Z",
     "iopub.status.busy": "2022-08-09T11:28:39.632465Z",
     "iopub.status.idle": "2022-08-09T11:28:39.733572Z",
     "shell.execute_reply": "2022-08-09T11:28:39.732776Z"
    },
    "executionInfo": {
     "elapsed": 11,
     "status": "ok",
     "timestamp": 1655460090643,
     "user": {
      "displayName": "Shibu Mohapatra",
      "userId": "07626953913233812311"
     },
     "user_tz": -330
    },
    "id": "xgOWU47vml6J",
    "outputId": "1d5d136b-a5e1-4087-c593-41422041b81a",
    "papermill": {
     "duration": 0.137098,
     "end_time": "2022-08-09T11:28:39.735832",
     "exception": false,
     "start_time": "2022-08-09T11:28:39.598734",
     "status": "completed"
    },
    "tags": []
   },
   "outputs": [
    {
     "data": {
      "text/plain": [
       "Unnamed: 0    0\n",
       "Class         0\n",
       "gene_0        0\n",
       "gene_1        0\n",
       "gene_2        0\n",
       "             ..\n",
       "gene_20526    0\n",
       "gene_20527    0\n",
       "gene_20528    0\n",
       "gene_20529    0\n",
       "gene_20530    0\n",
       "Length: 20533, dtype: int64"
      ]
     },
     "execution_count": 5,
     "metadata": {},
     "output_type": "execute_result"
    }
   ],
   "source": [
    "df.isnull().sum()"
   ]
  },
  {
   "cell_type": "code",
   "execution_count": 6,
   "id": "d17a8eb6",
   "metadata": {
    "execution": {
     "iopub.execute_input": "2022-08-09T11:28:39.800576Z",
     "iopub.status.busy": "2022-08-09T11:28:39.800172Z",
     "iopub.status.idle": "2022-08-09T11:29:22.035720Z",
     "shell.execute_reply": "2022-08-09T11:29:22.034344Z"
    },
    "executionInfo": {
     "elapsed": 48930,
     "status": "ok",
     "timestamp": 1655460139567,
     "user": {
      "displayName": "Shibu Mohapatra",
      "userId": "07626953913233812311"
     },
     "user_tz": -330
    },
    "id": "Gt6FZ4Humowd",
    "outputId": "95895d6c-7db2-4690-cac8-67f234ea36d2",
    "papermill": {
     "duration": 42.301605,
     "end_time": "2022-08-09T11:29:22.068550",
     "exception": false,
     "start_time": "2022-08-09T11:28:39.766945",
     "status": "completed"
    },
    "tags": []
   },
   "outputs": [
    {
     "data": {
      "text/html": [
       "<div>\n",
       "<style scoped>\n",
       "    .dataframe tbody tr th:only-of-type {\n",
       "        vertical-align: middle;\n",
       "    }\n",
       "\n",
       "    .dataframe tbody tr th {\n",
       "        vertical-align: top;\n",
       "    }\n",
       "\n",
       "    .dataframe thead th {\n",
       "        text-align: right;\n",
       "    }\n",
       "</style>\n",
       "<table border=\"1\" class=\"dataframe\">\n",
       "  <thead>\n",
       "    <tr style=\"text-align: right;\">\n",
       "      <th></th>\n",
       "      <th>gene_0</th>\n",
       "      <th>gene_1</th>\n",
       "      <th>gene_2</th>\n",
       "      <th>gene_3</th>\n",
       "      <th>gene_4</th>\n",
       "      <th>gene_5</th>\n",
       "      <th>gene_6</th>\n",
       "      <th>gene_7</th>\n",
       "      <th>gene_8</th>\n",
       "      <th>gene_9</th>\n",
       "      <th>...</th>\n",
       "      <th>gene_20521</th>\n",
       "      <th>gene_20522</th>\n",
       "      <th>gene_20523</th>\n",
       "      <th>gene_20524</th>\n",
       "      <th>gene_20525</th>\n",
       "      <th>gene_20526</th>\n",
       "      <th>gene_20527</th>\n",
       "      <th>gene_20528</th>\n",
       "      <th>gene_20529</th>\n",
       "      <th>gene_20530</th>\n",
       "    </tr>\n",
       "  </thead>\n",
       "  <tbody>\n",
       "    <tr>\n",
       "      <th>count</th>\n",
       "      <td>801.000000</td>\n",
       "      <td>801.000000</td>\n",
       "      <td>801.000000</td>\n",
       "      <td>801.000000</td>\n",
       "      <td>801.000000</td>\n",
       "      <td>801.0</td>\n",
       "      <td>801.000000</td>\n",
       "      <td>801.000000</td>\n",
       "      <td>801.000000</td>\n",
       "      <td>801.000000</td>\n",
       "      <td>...</td>\n",
       "      <td>801.000000</td>\n",
       "      <td>801.000000</td>\n",
       "      <td>801.000000</td>\n",
       "      <td>801.000000</td>\n",
       "      <td>801.000000</td>\n",
       "      <td>801.000000</td>\n",
       "      <td>801.000000</td>\n",
       "      <td>801.000000</td>\n",
       "      <td>801.000000</td>\n",
       "      <td>801.000000</td>\n",
       "    </tr>\n",
       "    <tr>\n",
       "      <th>mean</th>\n",
       "      <td>0.026642</td>\n",
       "      <td>3.010909</td>\n",
       "      <td>3.095350</td>\n",
       "      <td>6.722305</td>\n",
       "      <td>9.813612</td>\n",
       "      <td>0.0</td>\n",
       "      <td>7.405509</td>\n",
       "      <td>0.499882</td>\n",
       "      <td>0.016744</td>\n",
       "      <td>0.013428</td>\n",
       "      <td>...</td>\n",
       "      <td>5.896573</td>\n",
       "      <td>8.765891</td>\n",
       "      <td>10.056252</td>\n",
       "      <td>4.847727</td>\n",
       "      <td>9.741987</td>\n",
       "      <td>11.742228</td>\n",
       "      <td>10.155271</td>\n",
       "      <td>9.590726</td>\n",
       "      <td>5.528177</td>\n",
       "      <td>0.095411</td>\n",
       "    </tr>\n",
       "    <tr>\n",
       "      <th>std</th>\n",
       "      <td>0.136850</td>\n",
       "      <td>1.200828</td>\n",
       "      <td>1.065601</td>\n",
       "      <td>0.638819</td>\n",
       "      <td>0.506537</td>\n",
       "      <td>0.0</td>\n",
       "      <td>1.108237</td>\n",
       "      <td>0.508799</td>\n",
       "      <td>0.133635</td>\n",
       "      <td>0.204722</td>\n",
       "      <td>...</td>\n",
       "      <td>0.746399</td>\n",
       "      <td>0.603176</td>\n",
       "      <td>0.379278</td>\n",
       "      <td>2.382728</td>\n",
       "      <td>0.533898</td>\n",
       "      <td>0.670371</td>\n",
       "      <td>0.580569</td>\n",
       "      <td>0.563849</td>\n",
       "      <td>2.073859</td>\n",
       "      <td>0.364529</td>\n",
       "    </tr>\n",
       "    <tr>\n",
       "      <th>min</th>\n",
       "      <td>0.000000</td>\n",
       "      <td>0.000000</td>\n",
       "      <td>0.000000</td>\n",
       "      <td>5.009284</td>\n",
       "      <td>8.435999</td>\n",
       "      <td>0.0</td>\n",
       "      <td>3.930747</td>\n",
       "      <td>0.000000</td>\n",
       "      <td>0.000000</td>\n",
       "      <td>0.000000</td>\n",
       "      <td>...</td>\n",
       "      <td>2.853517</td>\n",
       "      <td>6.678368</td>\n",
       "      <td>8.669456</td>\n",
       "      <td>0.000000</td>\n",
       "      <td>7.974942</td>\n",
       "      <td>9.045255</td>\n",
       "      <td>7.530141</td>\n",
       "      <td>7.864533</td>\n",
       "      <td>0.593975</td>\n",
       "      <td>0.000000</td>\n",
       "    </tr>\n",
       "    <tr>\n",
       "      <th>25%</th>\n",
       "      <td>0.000000</td>\n",
       "      <td>2.299039</td>\n",
       "      <td>2.390365</td>\n",
       "      <td>6.303346</td>\n",
       "      <td>9.464466</td>\n",
       "      <td>0.0</td>\n",
       "      <td>6.676042</td>\n",
       "      <td>0.000000</td>\n",
       "      <td>0.000000</td>\n",
       "      <td>0.000000</td>\n",
       "      <td>...</td>\n",
       "      <td>5.454926</td>\n",
       "      <td>8.383834</td>\n",
       "      <td>9.826027</td>\n",
       "      <td>3.130750</td>\n",
       "      <td>9.400747</td>\n",
       "      <td>11.315857</td>\n",
       "      <td>9.836525</td>\n",
       "      <td>9.244219</td>\n",
       "      <td>4.092385</td>\n",
       "      <td>0.000000</td>\n",
       "    </tr>\n",
       "    <tr>\n",
       "      <th>50%</th>\n",
       "      <td>0.000000</td>\n",
       "      <td>3.143687</td>\n",
       "      <td>3.127006</td>\n",
       "      <td>6.655893</td>\n",
       "      <td>9.791599</td>\n",
       "      <td>0.0</td>\n",
       "      <td>7.450114</td>\n",
       "      <td>0.443076</td>\n",
       "      <td>0.000000</td>\n",
       "      <td>0.000000</td>\n",
       "      <td>...</td>\n",
       "      <td>5.972582</td>\n",
       "      <td>8.784144</td>\n",
       "      <td>10.066385</td>\n",
       "      <td>5.444935</td>\n",
       "      <td>9.784524</td>\n",
       "      <td>11.749802</td>\n",
       "      <td>10.191207</td>\n",
       "      <td>9.566511</td>\n",
       "      <td>5.218618</td>\n",
       "      <td>0.000000</td>\n",
       "    </tr>\n",
       "    <tr>\n",
       "      <th>75%</th>\n",
       "      <td>0.000000</td>\n",
       "      <td>3.883484</td>\n",
       "      <td>3.802534</td>\n",
       "      <td>7.038447</td>\n",
       "      <td>10.142324</td>\n",
       "      <td>0.0</td>\n",
       "      <td>8.121984</td>\n",
       "      <td>0.789354</td>\n",
       "      <td>0.000000</td>\n",
       "      <td>0.000000</td>\n",
       "      <td>...</td>\n",
       "      <td>6.411292</td>\n",
       "      <td>9.147136</td>\n",
       "      <td>10.299025</td>\n",
       "      <td>6.637412</td>\n",
       "      <td>10.082269</td>\n",
       "      <td>12.177852</td>\n",
       "      <td>10.578561</td>\n",
       "      <td>9.917888</td>\n",
       "      <td>6.876382</td>\n",
       "      <td>0.000000</td>\n",
       "    </tr>\n",
       "    <tr>\n",
       "      <th>max</th>\n",
       "      <td>1.482332</td>\n",
       "      <td>6.237034</td>\n",
       "      <td>6.063484</td>\n",
       "      <td>10.129528</td>\n",
       "      <td>11.355621</td>\n",
       "      <td>0.0</td>\n",
       "      <td>10.718190</td>\n",
       "      <td>2.779008</td>\n",
       "      <td>1.785592</td>\n",
       "      <td>4.067604</td>\n",
       "      <td>...</td>\n",
       "      <td>7.771054</td>\n",
       "      <td>11.105431</td>\n",
       "      <td>11.318243</td>\n",
       "      <td>9.207495</td>\n",
       "      <td>11.811632</td>\n",
       "      <td>13.715361</td>\n",
       "      <td>11.675653</td>\n",
       "      <td>12.813320</td>\n",
       "      <td>11.205836</td>\n",
       "      <td>5.254133</td>\n",
       "    </tr>\n",
       "  </tbody>\n",
       "</table>\n",
       "<p>8 rows × 20531 columns</p>\n",
       "</div>"
      ],
      "text/plain": [
       "           gene_0      gene_1      gene_2      gene_3      gene_4  gene_5  \\\n",
       "count  801.000000  801.000000  801.000000  801.000000  801.000000   801.0   \n",
       "mean     0.026642    3.010909    3.095350    6.722305    9.813612     0.0   \n",
       "std      0.136850    1.200828    1.065601    0.638819    0.506537     0.0   \n",
       "min      0.000000    0.000000    0.000000    5.009284    8.435999     0.0   \n",
       "25%      0.000000    2.299039    2.390365    6.303346    9.464466     0.0   \n",
       "50%      0.000000    3.143687    3.127006    6.655893    9.791599     0.0   \n",
       "75%      0.000000    3.883484    3.802534    7.038447   10.142324     0.0   \n",
       "max      1.482332    6.237034    6.063484   10.129528   11.355621     0.0   \n",
       "\n",
       "           gene_6      gene_7      gene_8      gene_9  ...  gene_20521  \\\n",
       "count  801.000000  801.000000  801.000000  801.000000  ...  801.000000   \n",
       "mean     7.405509    0.499882    0.016744    0.013428  ...    5.896573   \n",
       "std      1.108237    0.508799    0.133635    0.204722  ...    0.746399   \n",
       "min      3.930747    0.000000    0.000000    0.000000  ...    2.853517   \n",
       "25%      6.676042    0.000000    0.000000    0.000000  ...    5.454926   \n",
       "50%      7.450114    0.443076    0.000000    0.000000  ...    5.972582   \n",
       "75%      8.121984    0.789354    0.000000    0.000000  ...    6.411292   \n",
       "max     10.718190    2.779008    1.785592    4.067604  ...    7.771054   \n",
       "\n",
       "       gene_20522  gene_20523  gene_20524  gene_20525  gene_20526  gene_20527  \\\n",
       "count  801.000000  801.000000  801.000000  801.000000  801.000000  801.000000   \n",
       "mean     8.765891   10.056252    4.847727    9.741987   11.742228   10.155271   \n",
       "std      0.603176    0.379278    2.382728    0.533898    0.670371    0.580569   \n",
       "min      6.678368    8.669456    0.000000    7.974942    9.045255    7.530141   \n",
       "25%      8.383834    9.826027    3.130750    9.400747   11.315857    9.836525   \n",
       "50%      8.784144   10.066385    5.444935    9.784524   11.749802   10.191207   \n",
       "75%      9.147136   10.299025    6.637412   10.082269   12.177852   10.578561   \n",
       "max     11.105431   11.318243    9.207495   11.811632   13.715361   11.675653   \n",
       "\n",
       "       gene_20528  gene_20529  gene_20530  \n",
       "count  801.000000  801.000000  801.000000  \n",
       "mean     9.590726    5.528177    0.095411  \n",
       "std      0.563849    2.073859    0.364529  \n",
       "min      7.864533    0.593975    0.000000  \n",
       "25%      9.244219    4.092385    0.000000  \n",
       "50%      9.566511    5.218618    0.000000  \n",
       "75%      9.917888    6.876382    0.000000  \n",
       "max     12.813320   11.205836    5.254133  \n",
       "\n",
       "[8 rows x 20531 columns]"
      ]
     },
     "execution_count": 6,
     "metadata": {},
     "output_type": "execute_result"
    }
   ],
   "source": [
    "df.describe()"
   ]
  },
  {
   "cell_type": "markdown",
   "id": "1b114f1b",
   "metadata": {
    "id": "xTQXjt7zmtb_",
    "papermill": {
     "duration": 0.030434,
     "end_time": "2022-08-09T11:29:22.129701",
     "exception": false,
     "start_time": "2022-08-09T11:29:22.099267",
     "status": "completed"
    },
    "tags": []
   },
   "source": [
    "2. Plot the merged dataset as a hierarchically-clustered heatmap."
   ]
  },
  {
   "cell_type": "code",
   "execution_count": 7,
   "id": "7e1e79d9",
   "metadata": {
    "execution": {
     "iopub.execute_input": "2022-08-09T11:29:22.194825Z",
     "iopub.status.busy": "2022-08-09T11:29:22.193253Z",
     "iopub.status.idle": "2022-08-09T11:29:23.879252Z",
     "shell.execute_reply": "2022-08-09T11:29:23.878146Z"
    },
    "executionInfo": {
     "elapsed": 2475,
     "status": "ok",
     "timestamp": 1655460142039,
     "user": {
      "displayName": "Shibu Mohapatra",
      "userId": "07626953913233812311"
     },
     "user_tz": -330
    },
    "id": "m5hdp2D6m1SK",
    "outputId": "9f806b75-ad6d-4ea2-f74e-d59a797f5dfd",
    "papermill": {
     "duration": 1.721739,
     "end_time": "2022-08-09T11:29:23.882366",
     "exception": false,
     "start_time": "2022-08-09T11:29:22.160627",
     "status": "completed"
    },
    "tags": []
   },
   "outputs": [
    {
     "data": {
      "text/html": [
       "<div>\n",
       "<style scoped>\n",
       "    .dataframe tbody tr th:only-of-type {\n",
       "        vertical-align: middle;\n",
       "    }\n",
       "\n",
       "    .dataframe tbody tr th {\n",
       "        vertical-align: top;\n",
       "    }\n",
       "\n",
       "    .dataframe thead th {\n",
       "        text-align: right;\n",
       "    }\n",
       "</style>\n",
       "<table border=\"1\" class=\"dataframe\">\n",
       "  <thead>\n",
       "    <tr style=\"text-align: right;\">\n",
       "      <th></th>\n",
       "      <th>gene_0</th>\n",
       "      <th>gene_1</th>\n",
       "      <th>gene_10</th>\n",
       "      <th>gene_100</th>\n",
       "      <th>gene_1000</th>\n",
       "      <th>gene_10000</th>\n",
       "      <th>gene_10001</th>\n",
       "      <th>gene_10002</th>\n",
       "      <th>gene_10003</th>\n",
       "      <th>gene_10004</th>\n",
       "      <th>...</th>\n",
       "      <th>gene_9990</th>\n",
       "      <th>gene_9991</th>\n",
       "      <th>gene_9992</th>\n",
       "      <th>gene_9993</th>\n",
       "      <th>gene_9994</th>\n",
       "      <th>gene_9995</th>\n",
       "      <th>gene_9996</th>\n",
       "      <th>gene_9997</th>\n",
       "      <th>gene_9998</th>\n",
       "      <th>gene_9999</th>\n",
       "    </tr>\n",
       "    <tr>\n",
       "      <th>Class</th>\n",
       "      <th></th>\n",
       "      <th></th>\n",
       "      <th></th>\n",
       "      <th></th>\n",
       "      <th></th>\n",
       "      <th></th>\n",
       "      <th></th>\n",
       "      <th></th>\n",
       "      <th></th>\n",
       "      <th></th>\n",
       "      <th></th>\n",
       "      <th></th>\n",
       "      <th></th>\n",
       "      <th></th>\n",
       "      <th></th>\n",
       "      <th></th>\n",
       "      <th></th>\n",
       "      <th></th>\n",
       "      <th></th>\n",
       "      <th></th>\n",
       "      <th></th>\n",
       "    </tr>\n",
       "  </thead>\n",
       "  <tbody>\n",
       "    <tr>\n",
       "      <th>BRCA</th>\n",
       "      <td>0.011362</td>\n",
       "      <td>2.839739</td>\n",
       "      <td>0.544066</td>\n",
       "      <td>10.681488</td>\n",
       "      <td>10.303568</td>\n",
       "      <td>3.258028</td>\n",
       "      <td>7.339461</td>\n",
       "      <td>7.900497</td>\n",
       "      <td>7.489146</td>\n",
       "      <td>7.508378</td>\n",
       "      <td>...</td>\n",
       "      <td>1.969278</td>\n",
       "      <td>5.142237</td>\n",
       "      <td>1.736160</td>\n",
       "      <td>2.312551</td>\n",
       "      <td>1.696127</td>\n",
       "      <td>2.493789</td>\n",
       "      <td>0.046527</td>\n",
       "      <td>2.099709</td>\n",
       "      <td>0.151063</td>\n",
       "      <td>6.954733</td>\n",
       "    </tr>\n",
       "    <tr>\n",
       "      <th>COAD</th>\n",
       "      <td>0.022212</td>\n",
       "      <td>3.438381</td>\n",
       "      <td>0.357278</td>\n",
       "      <td>11.015745</td>\n",
       "      <td>9.951124</td>\n",
       "      <td>3.462039</td>\n",
       "      <td>5.526673</td>\n",
       "      <td>7.487396</td>\n",
       "      <td>3.783493</td>\n",
       "      <td>6.959238</td>\n",
       "      <td>...</td>\n",
       "      <td>2.216178</td>\n",
       "      <td>0.354828</td>\n",
       "      <td>1.833606</td>\n",
       "      <td>1.619692</td>\n",
       "      <td>3.839205</td>\n",
       "      <td>2.396207</td>\n",
       "      <td>0.090327</td>\n",
       "      <td>2.298246</td>\n",
       "      <td>0.065007</td>\n",
       "      <td>6.618466</td>\n",
       "    </tr>\n",
       "    <tr>\n",
       "      <th>KIRC</th>\n",
       "      <td>0.046544</td>\n",
       "      <td>2.398129</td>\n",
       "      <td>1.166824</td>\n",
       "      <td>10.238999</td>\n",
       "      <td>11.148094</td>\n",
       "      <td>1.651798</td>\n",
       "      <td>6.895752</td>\n",
       "      <td>7.686932</td>\n",
       "      <td>7.269611</td>\n",
       "      <td>7.636246</td>\n",
       "      <td>...</td>\n",
       "      <td>1.824964</td>\n",
       "      <td>0.596508</td>\n",
       "      <td>2.393303</td>\n",
       "      <td>1.872888</td>\n",
       "      <td>1.289448</td>\n",
       "      <td>3.139623</td>\n",
       "      <td>0.130416</td>\n",
       "      <td>2.387948</td>\n",
       "      <td>0.148641</td>\n",
       "      <td>6.429343</td>\n",
       "    </tr>\n",
       "    <tr>\n",
       "      <th>LUAD</th>\n",
       "      <td>0.041088</td>\n",
       "      <td>3.358260</td>\n",
       "      <td>0.607541</td>\n",
       "      <td>10.517670</td>\n",
       "      <td>10.503698</td>\n",
       "      <td>3.754181</td>\n",
       "      <td>7.281878</td>\n",
       "      <td>7.041924</td>\n",
       "      <td>6.145042</td>\n",
       "      <td>7.148682</td>\n",
       "      <td>...</td>\n",
       "      <td>2.609490</td>\n",
       "      <td>2.801700</td>\n",
       "      <td>2.738326</td>\n",
       "      <td>1.869805</td>\n",
       "      <td>2.217144</td>\n",
       "      <td>2.459608</td>\n",
       "      <td>0.042070</td>\n",
       "      <td>2.281828</td>\n",
       "      <td>0.056608</td>\n",
       "      <td>6.721517</td>\n",
       "    </tr>\n",
       "    <tr>\n",
       "      <th>PRAD</th>\n",
       "      <td>0.026544</td>\n",
       "      <td>3.441041</td>\n",
       "      <td>0.765608</td>\n",
       "      <td>10.282936</td>\n",
       "      <td>9.967433</td>\n",
       "      <td>1.949878</td>\n",
       "      <td>7.946141</td>\n",
       "      <td>8.529695</td>\n",
       "      <td>5.696368</td>\n",
       "      <td>7.396572</td>\n",
       "      <td>...</td>\n",
       "      <td>1.623491</td>\n",
       "      <td>4.594215</td>\n",
       "      <td>1.684084</td>\n",
       "      <td>2.588050</td>\n",
       "      <td>1.703772</td>\n",
       "      <td>3.568490</td>\n",
       "      <td>0.572893</td>\n",
       "      <td>3.621548</td>\n",
       "      <td>0.094953</td>\n",
       "      <td>7.104225</td>\n",
       "    </tr>\n",
       "  </tbody>\n",
       "</table>\n",
       "<p>5 rows × 20531 columns</p>\n",
       "</div>"
      ],
      "text/plain": [
       "         gene_0    gene_1   gene_10   gene_100  gene_1000  gene_10000  \\\n",
       "Class                                                                   \n",
       "BRCA   0.011362  2.839739  0.544066  10.681488  10.303568    3.258028   \n",
       "COAD   0.022212  3.438381  0.357278  11.015745   9.951124    3.462039   \n",
       "KIRC   0.046544  2.398129  1.166824  10.238999  11.148094    1.651798   \n",
       "LUAD   0.041088  3.358260  0.607541  10.517670  10.503698    3.754181   \n",
       "PRAD   0.026544  3.441041  0.765608  10.282936   9.967433    1.949878   \n",
       "\n",
       "       gene_10001  gene_10002  gene_10003  gene_10004  ...  gene_9990  \\\n",
       "Class                                                  ...              \n",
       "BRCA     7.339461    7.900497    7.489146    7.508378  ...   1.969278   \n",
       "COAD     5.526673    7.487396    3.783493    6.959238  ...   2.216178   \n",
       "KIRC     6.895752    7.686932    7.269611    7.636246  ...   1.824964   \n",
       "LUAD     7.281878    7.041924    6.145042    7.148682  ...   2.609490   \n",
       "PRAD     7.946141    8.529695    5.696368    7.396572  ...   1.623491   \n",
       "\n",
       "       gene_9991  gene_9992  gene_9993  gene_9994  gene_9995  gene_9996  \\\n",
       "Class                                                                     \n",
       "BRCA    5.142237   1.736160   2.312551   1.696127   2.493789   0.046527   \n",
       "COAD    0.354828   1.833606   1.619692   3.839205   2.396207   0.090327   \n",
       "KIRC    0.596508   2.393303   1.872888   1.289448   3.139623   0.130416   \n",
       "LUAD    2.801700   2.738326   1.869805   2.217144   2.459608   0.042070   \n",
       "PRAD    4.594215   1.684084   2.588050   1.703772   3.568490   0.572893   \n",
       "\n",
       "       gene_9997  gene_9998  gene_9999  \n",
       "Class                                   \n",
       "BRCA    2.099709   0.151063   6.954733  \n",
       "COAD    2.298246   0.065007   6.618466  \n",
       "KIRC    2.387948   0.148641   6.429343  \n",
       "LUAD    2.281828   0.056608   6.721517  \n",
       "PRAD    3.621548   0.094953   7.104225  \n",
       "\n",
       "[5 rows x 20531 columns]"
      ]
     },
     "execution_count": 7,
     "metadata": {},
     "output_type": "execute_result"
    }
   ],
   "source": [
    "heatmap_data = pd.pivot_table(df, index=['Class'])\n",
    "                             \n",
    "heatmap_data.head()"
   ]
  },
  {
   "cell_type": "code",
   "execution_count": 8,
   "id": "ffe6eb60",
   "metadata": {
    "execution": {
     "iopub.execute_input": "2022-08-09T11:29:23.948653Z",
     "iopub.status.busy": "2022-08-09T11:29:23.947837Z",
     "iopub.status.idle": "2022-08-09T11:29:55.045935Z",
     "shell.execute_reply": "2022-08-09T11:29:55.044991Z"
    },
    "executionInfo": {
     "elapsed": 61349,
     "status": "ok",
     "timestamp": 1655460203378,
     "user": {
      "displayName": "Shibu Mohapatra",
      "userId": "07626953913233812311"
     },
     "user_tz": -330
    },
    "id": "kiYZV6oUm6J0",
    "outputId": "c66120ba-82ac-47bc-83cb-56f4dd0101f4",
    "papermill": {
     "duration": 31.165973,
     "end_time": "2022-08-09T11:29:55.080836",
     "exception": false,
     "start_time": "2022-08-09T11:29:23.914863",
     "status": "completed"
    },
    "tags": []
   },
   "outputs": [
    {
     "name": "stderr",
     "output_type": "stream",
     "text": [
      "/opt/conda/lib/python3.7/site-packages/seaborn/matrix.py:654: UserWarning: Clustering large matrix with scipy. Installing `fastcluster` may give better performance.\n",
      "  warnings.warn(msg)\n",
      "/opt/conda/lib/python3.7/site-packages/ipykernel_launcher.py:3: MatplotlibDeprecationWarning: savefig() got unexpected keyword argument \"figsize\" which is no longer supported as of 3.3 and will become an error in 3.6\n",
      "  This is separate from the ipykernel package so we can avoid doing imports until\n"
     ]
    },
    {
     "data": {
      "image/png": "[encoded data removed]",
      "text/plain": [
       "<Figure size 720x720 with 4 Axes>"
      ]
     },
     "metadata": {
      "needs_background": "light"
     },
     "output_type": "display_data"
    }
   ],
   "source": [
    "sns.clustermap(heatmap_data)\n",
    "plt.savefig('heatmap_with_Seaborn_clustermap_python.jpg',\n",
    "            dpi=150, figsize=(8,12))"
   ]
  },
  {
   "cell_type": "code",
   "execution_count": 9,
   "id": "5567ea8f",
   "metadata": {
    "execution": {
     "iopub.execute_input": "2022-08-09T11:29:55.148654Z",
     "iopub.status.busy": "2022-08-09T11:29:55.148218Z",
     "iopub.status.idle": "2022-08-09T11:30:28.280968Z",
     "shell.execute_reply": "2022-08-09T11:30:28.279598Z"
    },
    "executionInfo": {
     "elapsed": 28065,
     "status": "ok",
     "timestamp": 1655460231400,
     "user": {
      "displayName": "Shibu Mohapatra",
      "userId": "07626953913233812311"
     },
     "user_tz": -330
    },
    "id": "kmRRQ5o_m-eq",
    "outputId": "427d8d66-d06f-4cdd-b9a8-97e2513a4cd9",
    "papermill": {
     "duration": 33.206456,
     "end_time": "2022-08-09T11:30:28.320132",
     "exception": false,
     "start_time": "2022-08-09T11:29:55.113676",
     "status": "completed"
    },
    "tags": []
   },
   "outputs": [
    {
     "data": {
      "image/png": "[encoded data removed]",
      "text/plain": [
       "<Figure size 1296x864 with 4 Axes>"
      ]
     },
     "metadata": {
      "needs_background": "light"
     },
     "output_type": "display_data"
    }
   ],
   "source": [
    "sns.clustermap(heatmap_data, figsize=(18,12))\n",
    "plt.savefig('clustered_heatmap_with_dendrograms_Seaborn_clustermap_python.jpg',dpi=150)"
   ]
  },
  {
   "cell_type": "markdown",
   "id": "fb50ae9d",
   "metadata": {
    "id": "Tx9IzbssnE5Z",
    "papermill": {
     "duration": 0.034593,
     "end_time": "2022-08-09T11:30:28.389149",
     "exception": false,
     "start_time": "2022-08-09T11:30:28.354556",
     "status": "completed"
    },
    "tags": []
   },
   "source": [
    "3. Perform Null Hypothesis testing"
   ]
  },
  {
   "cell_type": "markdown",
   "id": "6ab084d5",
   "metadata": {
    "id": "P-qHw--HnIcy",
    "papermill": {
     "duration": 0.033728,
     "end_time": "2022-08-09T11:30:28.457304",
     "exception": false,
     "start_time": "2022-08-09T11:30:28.423576",
     "status": "completed"
    },
    "tags": []
   },
   "source": [
    "histogram to check if the data is normally distributed"
   ]
  },
  {
   "cell_type": "code",
   "execution_count": 10,
   "id": "843170a8",
   "metadata": {
    "execution": {
     "iopub.execute_input": "2022-08-09T11:30:28.528989Z",
     "iopub.status.busy": "2022-08-09T11:30:28.528570Z",
     "iopub.status.idle": "2022-08-09T11:30:28.739750Z",
     "shell.execute_reply": "2022-08-09T11:30:28.738488Z"
    },
    "executionInfo": {
     "elapsed": 1003,
     "status": "ok",
     "timestamp": 1655460232395,
     "user": {
      "displayName": "Shibu Mohapatra",
      "userId": "07626953913233812311"
     },
     "user_tz": -330
    },
    "id": "uPa1viWenI8h",
    "outputId": "c97fd267-4556-47c4-ff44-39834fe92437",
    "papermill": {
     "duration": 0.250356,
     "end_time": "2022-08-09T11:30:28.742366",
     "exception": false,
     "start_time": "2022-08-09T11:30:28.492010",
     "status": "completed"
    },
    "tags": []
   },
   "outputs": [
    {
     "data": {
      "image/png": "[encoded data removed]",
      "text/plain": [
       "<Figure size 1008x432 with 1 Axes>"
      ]
     },
     "metadata": {
      "needs_background": "light"
     },
     "output_type": "display_data"
    }
   ],
   "source": [
    "plt.figure(figsize=(14,6))\n",
    "plt.hist(df['Class'])\n",
    "plt.show()"
   ]
  },
  {
   "cell_type": "code",
   "execution_count": 11,
   "id": "001cf3a0",
   "metadata": {
    "execution": {
     "iopub.execute_input": "2022-08-09T11:30:28.814225Z",
     "iopub.status.busy": "2022-08-09T11:30:28.813296Z",
     "iopub.status.idle": "2022-08-09T11:30:28.922669Z",
     "shell.execute_reply": "2022-08-09T11:30:28.921419Z"
    },
    "executionInfo": {
     "elapsed": 55,
     "status": "ok",
     "timestamp": 1655460232396,
     "user": {
      "displayName": "Shibu Mohapatra",
      "userId": "07626953913233812311"
     },
     "user_tz": -330
    },
    "id": "FEbJ6drqnm1W",
    "outputId": "13db4923-8164-4de2-af60-50517d45cef9",
    "papermill": {
     "duration": 0.148438,
     "end_time": "2022-08-09T11:30:28.925406",
     "exception": false,
     "start_time": "2022-08-09T11:30:28.776968",
     "status": "completed"
    },
    "tags": []
   },
   "outputs": [
    {
     "data": {
      "text/html": [
       "<div>\n",
       "<style scoped>\n",
       "    .dataframe tbody tr th:only-of-type {\n",
       "        vertical-align: middle;\n",
       "    }\n",
       "\n",
       "    .dataframe tbody tr th {\n",
       "        vertical-align: top;\n",
       "    }\n",
       "\n",
       "    .dataframe thead th {\n",
       "        text-align: right;\n",
       "    }\n",
       "</style>\n",
       "<table border=\"1\" class=\"dataframe\">\n",
       "  <thead>\n",
       "    <tr style=\"text-align: right;\">\n",
       "      <th></th>\n",
       "      <th>Class</th>\n",
       "      <th>gene_0</th>\n",
       "      <th>gene_1</th>\n",
       "      <th>gene_2</th>\n",
       "      <th>gene_3</th>\n",
       "      <th>gene_4</th>\n",
       "      <th>gene_5</th>\n",
       "      <th>gene_6</th>\n",
       "      <th>gene_7</th>\n",
       "      <th>gene_8</th>\n",
       "      <th>...</th>\n",
       "      <th>gene_20521</th>\n",
       "      <th>gene_20522</th>\n",
       "      <th>gene_20523</th>\n",
       "      <th>gene_20524</th>\n",
       "      <th>gene_20525</th>\n",
       "      <th>gene_20526</th>\n",
       "      <th>gene_20527</th>\n",
       "      <th>gene_20528</th>\n",
       "      <th>gene_20529</th>\n",
       "      <th>gene_20530</th>\n",
       "    </tr>\n",
       "  </thead>\n",
       "  <tbody>\n",
       "    <tr>\n",
       "      <th>0</th>\n",
       "      <td>PRAD</td>\n",
       "      <td>0.0</td>\n",
       "      <td>2.017209</td>\n",
       "      <td>3.265527</td>\n",
       "      <td>5.478487</td>\n",
       "      <td>10.431999</td>\n",
       "      <td>0.0</td>\n",
       "      <td>7.175175</td>\n",
       "      <td>0.591871</td>\n",
       "      <td>0.0</td>\n",
       "      <td>...</td>\n",
       "      <td>4.926711</td>\n",
       "      <td>8.210257</td>\n",
       "      <td>9.723516</td>\n",
       "      <td>7.220030</td>\n",
       "      <td>9.119813</td>\n",
       "      <td>12.003135</td>\n",
       "      <td>9.650743</td>\n",
       "      <td>8.921326</td>\n",
       "      <td>5.286759</td>\n",
       "      <td>0.000000</td>\n",
       "    </tr>\n",
       "    <tr>\n",
       "      <th>1</th>\n",
       "      <td>LUAD</td>\n",
       "      <td>0.0</td>\n",
       "      <td>0.592732</td>\n",
       "      <td>1.588421</td>\n",
       "      <td>7.586157</td>\n",
       "      <td>9.623011</td>\n",
       "      <td>0.0</td>\n",
       "      <td>6.816049</td>\n",
       "      <td>0.000000</td>\n",
       "      <td>0.0</td>\n",
       "      <td>...</td>\n",
       "      <td>4.593372</td>\n",
       "      <td>7.323865</td>\n",
       "      <td>9.740931</td>\n",
       "      <td>6.256586</td>\n",
       "      <td>8.381612</td>\n",
       "      <td>12.674552</td>\n",
       "      <td>10.517059</td>\n",
       "      <td>9.397854</td>\n",
       "      <td>2.094168</td>\n",
       "      <td>0.000000</td>\n",
       "    </tr>\n",
       "    <tr>\n",
       "      <th>2</th>\n",
       "      <td>PRAD</td>\n",
       "      <td>0.0</td>\n",
       "      <td>3.511759</td>\n",
       "      <td>4.327199</td>\n",
       "      <td>6.881787</td>\n",
       "      <td>9.870730</td>\n",
       "      <td>0.0</td>\n",
       "      <td>6.972130</td>\n",
       "      <td>0.452595</td>\n",
       "      <td>0.0</td>\n",
       "      <td>...</td>\n",
       "      <td>5.125213</td>\n",
       "      <td>8.127123</td>\n",
       "      <td>10.908640</td>\n",
       "      <td>5.401607</td>\n",
       "      <td>9.911597</td>\n",
       "      <td>9.045255</td>\n",
       "      <td>9.788359</td>\n",
       "      <td>10.090470</td>\n",
       "      <td>1.683023</td>\n",
       "      <td>0.000000</td>\n",
       "    </tr>\n",
       "    <tr>\n",
       "      <th>3</th>\n",
       "      <td>PRAD</td>\n",
       "      <td>0.0</td>\n",
       "      <td>3.663618</td>\n",
       "      <td>4.507649</td>\n",
       "      <td>6.659068</td>\n",
       "      <td>10.196184</td>\n",
       "      <td>0.0</td>\n",
       "      <td>7.843375</td>\n",
       "      <td>0.434882</td>\n",
       "      <td>0.0</td>\n",
       "      <td>...</td>\n",
       "      <td>6.076566</td>\n",
       "      <td>8.792959</td>\n",
       "      <td>10.141520</td>\n",
       "      <td>8.942805</td>\n",
       "      <td>9.601208</td>\n",
       "      <td>11.392682</td>\n",
       "      <td>9.694814</td>\n",
       "      <td>9.684365</td>\n",
       "      <td>3.292001</td>\n",
       "      <td>0.000000</td>\n",
       "    </tr>\n",
       "    <tr>\n",
       "      <th>4</th>\n",
       "      <td>BRCA</td>\n",
       "      <td>0.0</td>\n",
       "      <td>2.655741</td>\n",
       "      <td>2.821547</td>\n",
       "      <td>6.539454</td>\n",
       "      <td>9.738265</td>\n",
       "      <td>0.0</td>\n",
       "      <td>6.566967</td>\n",
       "      <td>0.360982</td>\n",
       "      <td>0.0</td>\n",
       "      <td>...</td>\n",
       "      <td>5.996032</td>\n",
       "      <td>8.891425</td>\n",
       "      <td>10.373790</td>\n",
       "      <td>7.181162</td>\n",
       "      <td>9.846910</td>\n",
       "      <td>11.922439</td>\n",
       "      <td>9.217749</td>\n",
       "      <td>9.461191</td>\n",
       "      <td>5.110372</td>\n",
       "      <td>0.000000</td>\n",
       "    </tr>\n",
       "    <tr>\n",
       "      <th>...</th>\n",
       "      <td>...</td>\n",
       "      <td>...</td>\n",
       "      <td>...</td>\n",
       "      <td>...</td>\n",
       "      <td>...</td>\n",
       "      <td>...</td>\n",
       "      <td>...</td>\n",
       "      <td>...</td>\n",
       "      <td>...</td>\n",
       "      <td>...</td>\n",
       "      <td>...</td>\n",
       "      <td>...</td>\n",
       "      <td>...</td>\n",
       "      <td>...</td>\n",
       "      <td>...</td>\n",
       "      <td>...</td>\n",
       "      <td>...</td>\n",
       "      <td>...</td>\n",
       "      <td>...</td>\n",
       "      <td>...</td>\n",
       "      <td>...</td>\n",
       "    </tr>\n",
       "    <tr>\n",
       "      <th>796</th>\n",
       "      <td>BRCA</td>\n",
       "      <td>0.0</td>\n",
       "      <td>1.865642</td>\n",
       "      <td>2.718197</td>\n",
       "      <td>7.350099</td>\n",
       "      <td>10.006003</td>\n",
       "      <td>0.0</td>\n",
       "      <td>6.764792</td>\n",
       "      <td>0.496922</td>\n",
       "      <td>0.0</td>\n",
       "      <td>...</td>\n",
       "      <td>6.088133</td>\n",
       "      <td>9.118313</td>\n",
       "      <td>10.004852</td>\n",
       "      <td>4.484415</td>\n",
       "      <td>9.614701</td>\n",
       "      <td>12.031267</td>\n",
       "      <td>9.813063</td>\n",
       "      <td>10.092770</td>\n",
       "      <td>8.819269</td>\n",
       "      <td>0.000000</td>\n",
       "    </tr>\n",
       "    <tr>\n",
       "      <th>797</th>\n",
       "      <td>LUAD</td>\n",
       "      <td>0.0</td>\n",
       "      <td>3.942955</td>\n",
       "      <td>4.453807</td>\n",
       "      <td>6.346597</td>\n",
       "      <td>10.056868</td>\n",
       "      <td>0.0</td>\n",
       "      <td>7.320331</td>\n",
       "      <td>0.000000</td>\n",
       "      <td>0.0</td>\n",
       "      <td>...</td>\n",
       "      <td>6.371876</td>\n",
       "      <td>9.623335</td>\n",
       "      <td>9.823921</td>\n",
       "      <td>6.555327</td>\n",
       "      <td>9.064002</td>\n",
       "      <td>11.633422</td>\n",
       "      <td>10.317266</td>\n",
       "      <td>8.745983</td>\n",
       "      <td>9.659081</td>\n",
       "      <td>0.000000</td>\n",
       "    </tr>\n",
       "    <tr>\n",
       "      <th>798</th>\n",
       "      <td>COAD</td>\n",
       "      <td>0.0</td>\n",
       "      <td>3.249582</td>\n",
       "      <td>3.707492</td>\n",
       "      <td>8.185901</td>\n",
       "      <td>9.504082</td>\n",
       "      <td>0.0</td>\n",
       "      <td>7.536589</td>\n",
       "      <td>1.811101</td>\n",
       "      <td>0.0</td>\n",
       "      <td>...</td>\n",
       "      <td>5.719386</td>\n",
       "      <td>8.610704</td>\n",
       "      <td>10.485517</td>\n",
       "      <td>3.589763</td>\n",
       "      <td>9.350636</td>\n",
       "      <td>12.180944</td>\n",
       "      <td>10.681194</td>\n",
       "      <td>9.466711</td>\n",
       "      <td>4.677458</td>\n",
       "      <td>0.586693</td>\n",
       "    </tr>\n",
       "    <tr>\n",
       "      <th>799</th>\n",
       "      <td>PRAD</td>\n",
       "      <td>0.0</td>\n",
       "      <td>2.590339</td>\n",
       "      <td>2.787976</td>\n",
       "      <td>7.318624</td>\n",
       "      <td>9.987136</td>\n",
       "      <td>0.0</td>\n",
       "      <td>9.213464</td>\n",
       "      <td>0.000000</td>\n",
       "      <td>0.0</td>\n",
       "      <td>...</td>\n",
       "      <td>5.785237</td>\n",
       "      <td>8.605387</td>\n",
       "      <td>11.004677</td>\n",
       "      <td>4.745888</td>\n",
       "      <td>9.626383</td>\n",
       "      <td>11.198279</td>\n",
       "      <td>10.335513</td>\n",
       "      <td>10.400581</td>\n",
       "      <td>5.718751</td>\n",
       "      <td>0.000000</td>\n",
       "    </tr>\n",
       "    <tr>\n",
       "      <th>800</th>\n",
       "      <td>PRAD</td>\n",
       "      <td>0.0</td>\n",
       "      <td>2.325242</td>\n",
       "      <td>3.805932</td>\n",
       "      <td>6.530246</td>\n",
       "      <td>9.560367</td>\n",
       "      <td>0.0</td>\n",
       "      <td>7.957027</td>\n",
       "      <td>0.000000</td>\n",
       "      <td>0.0</td>\n",
       "      <td>...</td>\n",
       "      <td>6.403075</td>\n",
       "      <td>8.594354</td>\n",
       "      <td>10.243079</td>\n",
       "      <td>9.139459</td>\n",
       "      <td>10.102934</td>\n",
       "      <td>11.641081</td>\n",
       "      <td>10.607358</td>\n",
       "      <td>9.844794</td>\n",
       "      <td>4.550716</td>\n",
       "      <td>0.000000</td>\n",
       "    </tr>\n",
       "  </tbody>\n",
       "</table>\n",
       "<p>801 rows × 20532 columns</p>\n",
       "</div>"
      ],
      "text/plain": [
       "    Class  gene_0    gene_1    gene_2    gene_3     gene_4  gene_5    gene_6  \\\n",
       "0    PRAD     0.0  2.017209  3.265527  5.478487  10.431999     0.0  7.175175   \n",
       "1    LUAD     0.0  0.592732  1.588421  7.586157   9.623011     0.0  6.816049   \n",
       "2    PRAD     0.0  3.511759  4.327199  6.881787   9.870730     0.0  6.972130   \n",
       "3    PRAD     0.0  3.663618  4.507649  6.659068  10.196184     0.0  7.843375   \n",
       "4    BRCA     0.0  2.655741  2.821547  6.539454   9.738265     0.0  6.566967   \n",
       "..    ...     ...       ...       ...       ...        ...     ...       ...   \n",
       "796  BRCA     0.0  1.865642  2.718197  7.350099  10.006003     0.0  6.764792   \n",
       "797  LUAD     0.0  3.942955  4.453807  6.346597  10.056868     0.0  7.320331   \n",
       "798  COAD     0.0  3.249582  3.707492  8.185901   9.504082     0.0  7.536589   \n",
       "799  PRAD     0.0  2.590339  2.787976  7.318624   9.987136     0.0  9.213464   \n",
       "800  PRAD     0.0  2.325242  3.805932  6.530246   9.560367     0.0  7.957027   \n",
       "\n",
       "       gene_7  gene_8  ...  gene_20521  gene_20522  gene_20523  gene_20524  \\\n",
       "0    0.591871     0.0  ...    4.926711    8.210257    9.723516    7.220030   \n",
       "1    0.000000     0.0  ...    4.593372    7.323865    9.740931    6.256586   \n",
       "2    0.452595     0.0  ...    5.125213    8.127123   10.908640    5.401607   \n",
       "3    0.434882     0.0  ...    6.076566    8.792959   10.141520    8.942805   \n",
       "4    0.360982     0.0  ...    5.996032    8.891425   10.373790    7.181162   \n",
       "..        ...     ...  ...         ...         ...         ...         ...   \n",
       "796  0.496922     0.0  ...    6.088133    9.118313   10.004852    4.484415   \n",
       "797  0.000000     0.0  ...    6.371876    9.623335    9.823921    6.555327   \n",
       "798  1.811101     0.0  ...    5.719386    8.610704   10.485517    3.589763   \n",
       "799  0.000000     0.0  ...    5.785237    8.605387   11.004677    4.745888   \n",
       "800  0.000000     0.0  ...    6.403075    8.594354   10.243079    9.139459   \n",
       "\n",
       "     gene_20525  gene_20526  gene_20527  gene_20528  gene_20529  gene_20530  \n",
       "0      9.119813   12.003135    9.650743    8.921326    5.286759    0.000000  \n",
       "1      8.381612   12.674552   10.517059    9.397854    2.094168    0.000000  \n",
       "2      9.911597    9.045255    9.788359   10.090470    1.683023    0.000000  \n",
       "3      9.601208   11.392682    9.694814    9.684365    3.292001    0.000000  \n",
       "4      9.846910   11.922439    9.217749    9.461191    5.110372    0.000000  \n",
       "..          ...         ...         ...         ...         ...         ...  \n",
       "796    9.614701   12.031267    9.813063   10.092770    8.819269    0.000000  \n",
       "797    9.064002   11.633422   10.317266    8.745983    9.659081    0.000000  \n",
       "798    9.350636   12.180944   10.681194    9.466711    4.677458    0.586693  \n",
       "799    9.626383   11.198279   10.335513   10.400581    5.718751    0.000000  \n",
       "800   10.102934   11.641081   10.607358    9.844794    4.550716    0.000000  \n",
       "\n",
       "[801 rows x 20532 columns]"
      ]
     },
     "execution_count": 11,
     "metadata": {},
     "output_type": "execute_result"
    }
   ],
   "source": [
    "non_cat_data = df.drop(['Unnamed: 0'], axis=1)\n",
    "non_cat_data"
   ]
  },
  {
   "cell_type": "markdown",
   "id": "79b37f15",
   "metadata": {
    "id": "AUadocMUnu1J",
    "papermill": {
     "duration": 0.03459,
     "end_time": "2022-08-09T11:30:28.995051",
     "exception": false,
     "start_time": "2022-08-09T11:30:28.960461",
     "status": "completed"
    },
    "tags": []
   },
   "source": [
    "F-test"
   ]
  },
  {
   "cell_type": "code",
   "execution_count": 12,
   "id": "43d1d0a6",
   "metadata": {
    "execution": {
     "iopub.execute_input": "2022-08-09T11:30:29.068816Z",
     "iopub.status.busy": "2022-08-09T11:30:29.068039Z",
     "iopub.status.idle": "2022-08-09T11:30:29.073269Z",
     "shell.execute_reply": "2022-08-09T11:30:29.072348Z"
    },
    "id": "E5T2ECGtn1X0",
    "papermill": {
     "duration": 0.044573,
     "end_time": "2022-08-09T11:30:29.075669",
     "exception": false,
     "start_time": "2022-08-09T11:30:29.031096",
     "status": "completed"
    },
    "tags": []
   },
   "outputs": [],
   "source": [
    "df_f_test=df"
   ]
  },
  {
   "cell_type": "code",
   "execution_count": 13,
   "id": "ef23cea5",
   "metadata": {
    "execution": {
     "iopub.execute_input": "2022-08-09T11:30:29.146913Z",
     "iopub.status.busy": "2022-08-09T11:30:29.146041Z",
     "iopub.status.idle": "2022-08-09T11:30:29.154081Z",
     "shell.execute_reply": "2022-08-09T11:30:29.153018Z"
    },
    "id": "oWiwaM8Mn8KW",
    "papermill": {
     "duration": 0.04728,
     "end_time": "2022-08-09T11:30:29.157275",
     "exception": false,
     "start_time": "2022-08-09T11:30:29.109995",
     "status": "completed"
    },
    "tags": []
   },
   "outputs": [],
   "source": [
    "def f_test(df_f_test,gene):  \n",
    "    df_anova = df_f_test[[gene,'Class']]\n",
    "    grps = pd.unique(df_anova.Class.values)\n",
    "    grps\n",
    "    d_data = {grp:df_anova[gene][df_anova.Class == grp] for grp in grps}\n",
    "    F, p = stats.f_oneway(d_data['LUAD'], d_data['PRAD'], d_data['BRCA'], d_data['KIRC'], d_data['COAD'])\n",
    "    print(\"p_values:-\",p)\n",
    "    if p<0.05:\n",
    "        print(\"reject null hypothesis\")\n",
    "    else:\n",
    "        print(\"accept null hypothesis\")\n",
    "        \n",
    "    return "
   ]
  },
  {
   "cell_type": "code",
   "execution_count": 14,
   "id": "42c79267",
   "metadata": {
    "execution": {
     "iopub.execute_input": "2022-08-09T11:30:29.230589Z",
     "iopub.status.busy": "2022-08-09T11:30:29.229856Z",
     "iopub.status.idle": "2022-08-09T11:30:29.240285Z",
     "shell.execute_reply": "2022-08-09T11:30:29.238826Z"
    },
    "executionInfo": {
     "elapsed": 44,
     "status": "ok",
     "timestamp": 1655460232398,
     "user": {
      "displayName": "Shibu Mohapatra",
      "userId": "07626953913233812311"
     },
     "user_tz": -330
    },
    "id": "5MBnfYgDoBNz",
    "outputId": "31ccfcfe-7daf-4926-bf76-fc6f867f5d24",
    "papermill": {
     "duration": 0.050802,
     "end_time": "2022-08-09T11:30:29.243342",
     "exception": false,
     "start_time": "2022-08-09T11:30:29.192540",
     "status": "completed"
    },
    "tags": []
   },
   "outputs": [
    {
     "name": "stdout",
     "output_type": "stream",
     "text": [
      "p_values:- 1.3204696481527206e-08\n",
      "reject null hypothesis\n"
     ]
    }
   ],
   "source": [
    "f_test(df_f_test,\"gene_6\")"
   ]
  },
  {
   "cell_type": "code",
   "execution_count": 15,
   "id": "aa86e155",
   "metadata": {
    "execution": {
     "iopub.execute_input": "2022-08-09T11:30:29.315989Z",
     "iopub.status.busy": "2022-08-09T11:30:29.315572Z",
     "iopub.status.idle": "2022-08-09T11:30:29.325954Z",
     "shell.execute_reply": "2022-08-09T11:30:29.324451Z"
    },
    "executionInfo": {
     "elapsed": 38,
     "status": "ok",
     "timestamp": 1655460232398,
     "user": {
      "displayName": "Shibu Mohapatra",
      "userId": "07626953913233812311"
     },
     "user_tz": -330
    },
    "id": "Vie6DmkKoH-O",
    "outputId": "ca73c5b2-46be-49a1-9e1e-0998ca296fda",
    "papermill": {
     "duration": 0.04932,
     "end_time": "2022-08-09T11:30:29.328689",
     "exception": false,
     "start_time": "2022-08-09T11:30:29.279369",
     "status": "completed"
    },
    "tags": []
   },
   "outputs": [
    {
     "name": "stdout",
     "output_type": "stream",
     "text": [
      "p_values:- 2.5680834666440006e-18\n",
      "reject null hypothesis\n"
     ]
    }
   ],
   "source": [
    "f_test(df_f_test,\"gene_20522\")"
   ]
  },
  {
   "cell_type": "code",
   "execution_count": 16,
   "id": "2a5a6f61",
   "metadata": {
    "execution": {
     "iopub.execute_input": "2022-08-09T11:30:29.401469Z",
     "iopub.status.busy": "2022-08-09T11:30:29.401055Z",
     "iopub.status.idle": "2022-08-09T11:30:29.418085Z",
     "shell.execute_reply": "2022-08-09T11:30:29.417008Z"
    },
    "executionInfo": {
     "elapsed": 34,
     "status": "ok",
     "timestamp": 1655460232399,
     "user": {
      "displayName": "Shibu Mohapatra",
      "userId": "07626953913233812311"
     },
     "user_tz": -330
    },
    "id": "Y-jBnJd3oKN1",
    "outputId": "52b0178a-9b09-40d8-831c-b655d3aa5582",
    "papermill": {
     "duration": 0.057324,
     "end_time": "2022-08-09T11:30:29.421441",
     "exception": false,
     "start_time": "2022-08-09T11:30:29.364117",
     "status": "completed"
    },
    "tags": []
   },
   "outputs": [
    {
     "name": "stdout",
     "output_type": "stream",
     "text": [
      "p_values:- nan\n",
      "accept null hypothesis\n"
     ]
    },
    {
     "name": "stderr",
     "output_type": "stream",
     "text": [
      "/opt/conda/lib/python3.7/site-packages/scipy/stats/stats.py:3650: F_onewayConstantInputWarning: Each of the input arrays is constant;the F statistic is not defined or infinite\n",
      "  warnings.warn(F_onewayConstantInputWarning())\n"
     ]
    }
   ],
   "source": [
    "f_test(df_f_test,\"gene_5\")"
   ]
  },
  {
   "cell_type": "code",
   "execution_count": 17,
   "id": "79e559cd",
   "metadata": {
    "execution": {
     "iopub.execute_input": "2022-08-09T11:30:29.495695Z",
     "iopub.status.busy": "2022-08-09T11:30:29.495261Z",
     "iopub.status.idle": "2022-08-09T11:30:29.577824Z",
     "shell.execute_reply": "2022-08-09T11:30:29.576164Z"
    },
    "id": "O768Qh_7q2c1",
    "papermill": {
     "duration": 0.122373,
     "end_time": "2022-08-09T11:30:29.580811",
     "exception": false,
     "start_time": "2022-08-09T11:30:29.458438",
     "status": "completed"
    },
    "tags": []
   },
   "outputs": [],
   "source": [
    "df_cat_data = df\n",
    "df_cat_data['Class'] = df_cat_data['Class'].map({'PRAD': 1, 'LUAD': 2, 'BRCA': 3, 'KIRC': 4, 'COAD': 5}) \n",
    "df_cat_data = df_cat_data.drop(['Unnamed: 0'],axis=1)"
   ]
  },
  {
   "cell_type": "markdown",
   "id": "bf649afb",
   "metadata": {
    "id": "2HTElgU-pESJ",
    "papermill": {
     "duration": 0.033733,
     "end_time": "2022-08-09T11:30:29.649415",
     "exception": false,
     "start_time": "2022-08-09T11:30:29.615682",
     "status": "completed"
    },
    "tags": []
   },
   "source": [
    "Dimensionality Reduction"
   ]
  },
  {
   "cell_type": "markdown",
   "id": "c1a4d4ac",
   "metadata": {
    "id": "BaQM5qpqpGpa",
    "papermill": {
     "duration": 0.036338,
     "end_time": "2022-08-09T11:30:29.720775",
     "exception": false,
     "start_time": "2022-08-09T11:30:29.684437",
     "status": "completed"
    },
    "tags": []
   },
   "source": [
    "1. Each sample has expression values for around 20K genes. However, it may not be necessary to include all 20K genes expression values to analyze each cancer type. Therefore, we will identify a smaller set of attributes which will then be used to fit multiclass classification models. So, the first task targets the dimensionality reduction using various techniques such as, PCA, LDA, and t-SNE\n"
   ]
  },
  {
   "cell_type": "markdown",
   "id": "3649a6b2",
   "metadata": {
    "id": "4I7e2En9pW6q",
    "papermill": {
     "duration": 0.034963,
     "end_time": "2022-08-09T11:30:29.790448",
     "exception": false,
     "start_time": "2022-08-09T11:30:29.755485",
     "status": "completed"
    },
    "tags": []
   },
   "source": [
    "Dimensionality Reduction using PCA"
   ]
  },
  {
   "cell_type": "code",
   "execution_count": 18,
   "id": "dcd96f70",
   "metadata": {
    "execution": {
     "iopub.execute_input": "2022-08-09T11:30:29.861908Z",
     "iopub.status.busy": "2022-08-09T11:30:29.861419Z",
     "iopub.status.idle": "2022-08-09T11:30:30.038995Z",
     "shell.execute_reply": "2022-08-09T11:30:30.037528Z"
    },
    "executionInfo": {
     "elapsed": 28,
     "status": "ok",
     "timestamp": 1655460232400,
     "user": {
      "displayName": "Shibu Mohapatra",
      "userId": "07626953913233812311"
     },
     "user_tz": -330
    },
    "id": "gPwC8IsXpO2C",
    "outputId": "79180cda-e052-4236-d71a-a3aefdac53fc",
    "papermill": {
     "duration": 0.217217,
     "end_time": "2022-08-09T11:30:30.042117",
     "exception": false,
     "start_time": "2022-08-09T11:30:29.824900",
     "status": "completed"
    },
    "tags": []
   },
   "outputs": [
    {
     "data": {
      "text/html": [
       "<div>\n",
       "<style scoped>\n",
       "    .dataframe tbody tr th:only-of-type {\n",
       "        vertical-align: middle;\n",
       "    }\n",
       "\n",
       "    .dataframe tbody tr th {\n",
       "        vertical-align: top;\n",
       "    }\n",
       "\n",
       "    .dataframe thead th {\n",
       "        text-align: right;\n",
       "    }\n",
       "</style>\n",
       "<table border=\"1\" class=\"dataframe\">\n",
       "  <thead>\n",
       "    <tr style=\"text-align: right;\">\n",
       "      <th></th>\n",
       "      <th>gene_0</th>\n",
       "      <th>gene_1</th>\n",
       "      <th>gene_2</th>\n",
       "      <th>gene_3</th>\n",
       "      <th>gene_4</th>\n",
       "      <th>gene_5</th>\n",
       "      <th>gene_6</th>\n",
       "      <th>gene_7</th>\n",
       "      <th>gene_8</th>\n",
       "      <th>gene_9</th>\n",
       "      <th>...</th>\n",
       "      <th>gene_20521</th>\n",
       "      <th>gene_20522</th>\n",
       "      <th>gene_20523</th>\n",
       "      <th>gene_20524</th>\n",
       "      <th>gene_20525</th>\n",
       "      <th>gene_20526</th>\n",
       "      <th>gene_20527</th>\n",
       "      <th>gene_20528</th>\n",
       "      <th>gene_20529</th>\n",
       "      <th>gene_20530</th>\n",
       "    </tr>\n",
       "  </thead>\n",
       "  <tbody>\n",
       "    <tr>\n",
       "      <th>0</th>\n",
       "      <td>0.0</td>\n",
       "      <td>2.017209</td>\n",
       "      <td>3.265527</td>\n",
       "      <td>5.478487</td>\n",
       "      <td>10.431999</td>\n",
       "      <td>0.0</td>\n",
       "      <td>7.175175</td>\n",
       "      <td>0.591871</td>\n",
       "      <td>0.0</td>\n",
       "      <td>0.0</td>\n",
       "      <td>...</td>\n",
       "      <td>4.926711</td>\n",
       "      <td>8.210257</td>\n",
       "      <td>9.723516</td>\n",
       "      <td>7.220030</td>\n",
       "      <td>9.119813</td>\n",
       "      <td>12.003135</td>\n",
       "      <td>9.650743</td>\n",
       "      <td>8.921326</td>\n",
       "      <td>5.286759</td>\n",
       "      <td>0.0</td>\n",
       "    </tr>\n",
       "    <tr>\n",
       "      <th>1</th>\n",
       "      <td>0.0</td>\n",
       "      <td>0.592732</td>\n",
       "      <td>1.588421</td>\n",
       "      <td>7.586157</td>\n",
       "      <td>9.623011</td>\n",
       "      <td>0.0</td>\n",
       "      <td>6.816049</td>\n",
       "      <td>0.000000</td>\n",
       "      <td>0.0</td>\n",
       "      <td>0.0</td>\n",
       "      <td>...</td>\n",
       "      <td>4.593372</td>\n",
       "      <td>7.323865</td>\n",
       "      <td>9.740931</td>\n",
       "      <td>6.256586</td>\n",
       "      <td>8.381612</td>\n",
       "      <td>12.674552</td>\n",
       "      <td>10.517059</td>\n",
       "      <td>9.397854</td>\n",
       "      <td>2.094168</td>\n",
       "      <td>0.0</td>\n",
       "    </tr>\n",
       "    <tr>\n",
       "      <th>2</th>\n",
       "      <td>0.0</td>\n",
       "      <td>3.511759</td>\n",
       "      <td>4.327199</td>\n",
       "      <td>6.881787</td>\n",
       "      <td>9.870730</td>\n",
       "      <td>0.0</td>\n",
       "      <td>6.972130</td>\n",
       "      <td>0.452595</td>\n",
       "      <td>0.0</td>\n",
       "      <td>0.0</td>\n",
       "      <td>...</td>\n",
       "      <td>5.125213</td>\n",
       "      <td>8.127123</td>\n",
       "      <td>10.908640</td>\n",
       "      <td>5.401607</td>\n",
       "      <td>9.911597</td>\n",
       "      <td>9.045255</td>\n",
       "      <td>9.788359</td>\n",
       "      <td>10.090470</td>\n",
       "      <td>1.683023</td>\n",
       "      <td>0.0</td>\n",
       "    </tr>\n",
       "    <tr>\n",
       "      <th>3</th>\n",
       "      <td>0.0</td>\n",
       "      <td>3.663618</td>\n",
       "      <td>4.507649</td>\n",
       "      <td>6.659068</td>\n",
       "      <td>10.196184</td>\n",
       "      <td>0.0</td>\n",
       "      <td>7.843375</td>\n",
       "      <td>0.434882</td>\n",
       "      <td>0.0</td>\n",
       "      <td>0.0</td>\n",
       "      <td>...</td>\n",
       "      <td>6.076566</td>\n",
       "      <td>8.792959</td>\n",
       "      <td>10.141520</td>\n",
       "      <td>8.942805</td>\n",
       "      <td>9.601208</td>\n",
       "      <td>11.392682</td>\n",
       "      <td>9.694814</td>\n",
       "      <td>9.684365</td>\n",
       "      <td>3.292001</td>\n",
       "      <td>0.0</td>\n",
       "    </tr>\n",
       "    <tr>\n",
       "      <th>4</th>\n",
       "      <td>0.0</td>\n",
       "      <td>2.655741</td>\n",
       "      <td>2.821547</td>\n",
       "      <td>6.539454</td>\n",
       "      <td>9.738265</td>\n",
       "      <td>0.0</td>\n",
       "      <td>6.566967</td>\n",
       "      <td>0.360982</td>\n",
       "      <td>0.0</td>\n",
       "      <td>0.0</td>\n",
       "      <td>...</td>\n",
       "      <td>5.996032</td>\n",
       "      <td>8.891425</td>\n",
       "      <td>10.373790</td>\n",
       "      <td>7.181162</td>\n",
       "      <td>9.846910</td>\n",
       "      <td>11.922439</td>\n",
       "      <td>9.217749</td>\n",
       "      <td>9.461191</td>\n",
       "      <td>5.110372</td>\n",
       "      <td>0.0</td>\n",
       "    </tr>\n",
       "  </tbody>\n",
       "</table>\n",
       "<p>5 rows × 20531 columns</p>\n",
       "</div>"
      ],
      "text/plain": [
       "   gene_0    gene_1    gene_2    gene_3     gene_4  gene_5    gene_6  \\\n",
       "0     0.0  2.017209  3.265527  5.478487  10.431999     0.0  7.175175   \n",
       "1     0.0  0.592732  1.588421  7.586157   9.623011     0.0  6.816049   \n",
       "2     0.0  3.511759  4.327199  6.881787   9.870730     0.0  6.972130   \n",
       "3     0.0  3.663618  4.507649  6.659068  10.196184     0.0  7.843375   \n",
       "4     0.0  2.655741  2.821547  6.539454   9.738265     0.0  6.566967   \n",
       "\n",
       "     gene_7  gene_8  gene_9  ...  gene_20521  gene_20522  gene_20523  \\\n",
       "0  0.591871     0.0     0.0  ...    4.926711    8.210257    9.723516   \n",
       "1  0.000000     0.0     0.0  ...    4.593372    7.323865    9.740931   \n",
       "2  0.452595     0.0     0.0  ...    5.125213    8.127123   10.908640   \n",
       "3  0.434882     0.0     0.0  ...    6.076566    8.792959   10.141520   \n",
       "4  0.360982     0.0     0.0  ...    5.996032    8.891425   10.373790   \n",
       "\n",
       "   gene_20524  gene_20525  gene_20526  gene_20527  gene_20528  gene_20529  \\\n",
       "0    7.220030    9.119813   12.003135    9.650743    8.921326    5.286759   \n",
       "1    6.256586    8.381612   12.674552   10.517059    9.397854    2.094168   \n",
       "2    5.401607    9.911597    9.045255    9.788359   10.090470    1.683023   \n",
       "3    8.942805    9.601208   11.392682    9.694814    9.684365    3.292001   \n",
       "4    7.181162    9.846910   11.922439    9.217749    9.461191    5.110372   \n",
       "\n",
       "   gene_20530  \n",
       "0         0.0  \n",
       "1         0.0  \n",
       "2         0.0  \n",
       "3         0.0  \n",
       "4         0.0  \n",
       "\n",
       "[5 rows x 20531 columns]"
      ]
     },
     "execution_count": 18,
     "metadata": {},
     "output_type": "execute_result"
    }
   ],
   "source": [
    "# Define data \n",
    "df_pca = df.drop(['Unnamed: 0'], axis=1)\n",
    "df_pca = df_pca.drop(['Class'], axis=1)\n",
    "df_pca.head()"
   ]
  },
  {
   "cell_type": "code",
   "execution_count": 19,
   "id": "94b27b6f",
   "metadata": {
    "execution": {
     "iopub.execute_input": "2022-08-09T11:30:30.116407Z",
     "iopub.status.busy": "2022-08-09T11:30:30.116011Z",
     "iopub.status.idle": "2022-08-09T11:30:30.123625Z",
     "shell.execute_reply": "2022-08-09T11:30:30.122438Z"
    },
    "executionInfo": {
     "elapsed": 26,
     "status": "ok",
     "timestamp": 1655460232400,
     "user": {
      "displayName": "Shibu Mohapatra",
      "userId": "07626953913233812311"
     },
     "user_tz": -330
    },
    "id": "NW6n08ulpkH1",
    "outputId": "4e58d600-9d67-4b9d-b9a3-bf5c754231b9",
    "papermill": {
     "duration": 0.047615,
     "end_time": "2022-08-09T11:30:30.126102",
     "exception": false,
     "start_time": "2022-08-09T11:30:30.078487",
     "status": "completed"
    },
    "tags": []
   },
   "outputs": [
    {
     "data": {
      "text/plain": [
       "(801, 20531)"
      ]
     },
     "execution_count": 19,
     "metadata": {},
     "output_type": "execute_result"
    }
   ],
   "source": [
    "df_pca.values.shape"
   ]
  },
  {
   "cell_type": "code",
   "execution_count": 20,
   "id": "b48a3912",
   "metadata": {
    "execution": {
     "iopub.execute_input": "2022-08-09T11:30:30.198860Z",
     "iopub.status.busy": "2022-08-09T11:30:30.198091Z",
     "iopub.status.idle": "2022-08-09T11:30:30.203203Z",
     "shell.execute_reply": "2022-08-09T11:30:30.201834Z"
    },
    "id": "TByewX0ypmp3",
    "papermill": {
     "duration": 0.044289,
     "end_time": "2022-08-09T11:30:30.205855",
     "exception": false,
     "start_time": "2022-08-09T11:30:30.161566",
     "status": "completed"
    },
    "tags": []
   },
   "outputs": [],
   "source": [
    "x_pca = df_pca.values"
   ]
  },
  {
   "cell_type": "markdown",
   "id": "891ce479",
   "metadata": {
    "id": "pUGrhk4SqBVk",
    "papermill": {
     "duration": 0.035282,
     "end_time": "2022-08-09T11:30:30.277343",
     "exception": false,
     "start_time": "2022-08-09T11:30:30.242061",
     "status": "completed"
    },
    "tags": []
   },
   "source": [
    "2. Input: Complete dataset including all genes (20531)"
   ]
  },
  {
   "cell_type": "markdown",
   "id": "cf2857bd",
   "metadata": {
    "id": "bYn65TEXqAxv",
    "papermill": {
     "duration": 0.034374,
     "end_time": "2022-08-09T11:30:30.346750",
     "exception": false,
     "start_time": "2022-08-09T11:30:30.312376",
     "status": "completed"
    },
    "tags": []
   },
   "source": [
    "Scaling the data using standard scaler method"
   ]
  },
  {
   "cell_type": "code",
   "execution_count": 21,
   "id": "d091803c",
   "metadata": {
    "execution": {
     "iopub.execute_input": "2022-08-09T11:30:30.420033Z",
     "iopub.status.busy": "2022-08-09T11:30:30.419530Z",
     "iopub.status.idle": "2022-08-09T11:30:30.790191Z",
     "shell.execute_reply": "2022-08-09T11:30:30.788824Z"
    },
    "executionInfo": {
     "elapsed": 21,
     "status": "ok",
     "timestamp": 1655460232402,
     "user": {
      "displayName": "Shibu Mohapatra",
      "userId": "07626953913233812311"
     },
     "user_tz": -330
    },
    "id": "FznfBqodqQOv",
    "outputId": "2b654ec8-59e1-4cc9-a2c7-38aa77ff880f",
    "papermill": {
     "duration": 0.411573,
     "end_time": "2022-08-09T11:30:30.792993",
     "exception": false,
     "start_time": "2022-08-09T11:30:30.381420",
     "status": "completed"
    },
    "tags": []
   },
   "outputs": [
    {
     "data": {
      "text/plain": [
       "array([[-0.19479935, -0.82802988,  0.15980044, ..., -1.18793812,\n",
       "        -0.11648251, -0.26190144],\n",
       "       [-0.19479935, -2.01501735, -1.415042  , ..., -0.34227662,\n",
       "        -1.65688871, -0.26190144],\n",
       "       [-0.19479935,  0.41734754,  1.15673547, ...,  0.88686027,\n",
       "        -1.85526414, -0.26190144],\n",
       "       ...,\n",
       "       [-0.19479935,  0.19888076,  0.57481583, ..., -0.22008186,\n",
       "        -0.41046699,  1.3485582 ],\n",
       "       [-0.19479935, -0.35045311, -0.28863152, ...,  1.43719268,\n",
       "         0.09195083, -0.26190144],\n",
       "       [-0.19479935, -0.57135218,  0.66725377, ...,  0.45087581,\n",
       "        -0.47161901, -0.26190144]])"
      ]
     },
     "execution_count": 21,
     "metadata": {},
     "output_type": "execute_result"
    }
   ],
   "source": [
    "from sklearn.preprocessing import StandardScaler\n",
    "scaler = StandardScaler()\n",
    "X_Scaled = scaler.fit_transform(x_pca)\n",
    "X_Scaled"
   ]
  },
  {
   "cell_type": "markdown",
   "id": "3b8b2e3c",
   "metadata": {
    "id": "qkJVc3zBqVTU",
    "papermill": {
     "duration": 0.03448,
     "end_time": "2022-08-09T11:30:30.862781",
     "exception": false,
     "start_time": "2022-08-09T11:30:30.828301",
     "status": "completed"
    },
    "tags": []
   },
   "source": [
    "Perform PCA with n_components=2"
   ]
  },
  {
   "cell_type": "code",
   "execution_count": 22,
   "id": "1f270109",
   "metadata": {
    "execution": {
     "iopub.execute_input": "2022-08-09T11:30:30.940214Z",
     "iopub.status.busy": "2022-08-09T11:30:30.939392Z",
     "iopub.status.idle": "2022-08-09T11:30:30.944801Z",
     "shell.execute_reply": "2022-08-09T11:30:30.943912Z"
    },
    "id": "v0qshiUpqX4j",
    "papermill": {
     "duration": 0.045088,
     "end_time": "2022-08-09T11:30:30.946934",
     "exception": false,
     "start_time": "2022-08-09T11:30:30.901846",
     "status": "completed"
    },
    "tags": []
   },
   "outputs": [],
   "source": [
    "# Import PCA from sklearn and define the n_components as 2 \n",
    "from sklearn.decomposition import PCA\n",
    "pca_with_2=PCA(n_components=2)"
   ]
  },
  {
   "cell_type": "code",
   "execution_count": 23,
   "id": "94d7d55b",
   "metadata": {
    "execution": {
     "iopub.execute_input": "2022-08-09T11:30:31.022344Z",
     "iopub.status.busy": "2022-08-09T11:30:31.021325Z",
     "iopub.status.idle": "2022-08-09T11:30:33.436841Z",
     "shell.execute_reply": "2022-08-09T11:30:33.435069Z"
    },
    "executionInfo": {
     "elapsed": 1461,
     "status": "ok",
     "timestamp": 1655460233847,
     "user": {
      "displayName": "Shibu Mohapatra",
      "userId": "07626953913233812311"
     },
     "user_tz": -330
    },
    "id": "P77wbz_MqZnS",
    "outputId": "72474135-bd83-4e1e-9ec5-b79d331678c7",
    "papermill": {
     "duration": 2.456914,
     "end_time": "2022-08-09T11:30:33.440155",
     "exception": false,
     "start_time": "2022-08-09T11:30:30.983241",
     "status": "completed"
    },
    "tags": []
   },
   "outputs": [
    {
     "data": {
      "text/plain": [
       "(801, 2)"
      ]
     },
     "execution_count": 23,
     "metadata": {},
     "output_type": "execute_result"
    }
   ],
   "source": [
    "#Perform fit transform on the scaled data\n",
    "X_pca_with_2 = pca_with_2.fit_transform(X_Scaled)\n",
    "X_pca_with_2.shape"
   ]
  },
  {
   "cell_type": "code",
   "execution_count": 24,
   "id": "9f666103",
   "metadata": {
    "execution": {
     "iopub.execute_input": "2022-08-09T11:30:33.529397Z",
     "iopub.status.busy": "2022-08-09T11:30:33.527683Z",
     "iopub.status.idle": "2022-08-09T11:30:33.537643Z",
     "shell.execute_reply": "2022-08-09T11:30:33.536609Z"
    },
    "executionInfo": {
     "elapsed": 9,
     "status": "ok",
     "timestamp": 1655460233848,
     "user": {
      "displayName": "Shibu Mohapatra",
      "userId": "07626953913233812311"
     },
     "user_tz": -330
    },
    "id": "1oTPhfVMqbyu",
    "outputId": "d24b4879-79ba-4038-8b61-d8984f28534c",
    "papermill": {
     "duration": 0.055163,
     "end_time": "2022-08-09T11:30:33.540240",
     "exception": false,
     "start_time": "2022-08-09T11:30:33.485077",
     "status": "completed"
    },
    "tags": []
   },
   "outputs": [
    {
     "data": {
      "text/plain": [
       "array([[-57.44698682,  95.41098071],\n",
       "       [-16.91943014,   0.73247012],\n",
       "       [-70.34521842, -19.30332565],\n",
       "       ...,\n",
       "       [ -4.13308877,  15.69001225],\n",
       "       [-30.81475735,  33.52642233],\n",
       "       [-22.34455653,   4.05235605]])"
      ]
     },
     "execution_count": 24,
     "metadata": {},
     "output_type": "execute_result"
    }
   ],
   "source": [
    "X_pca_with_2"
   ]
  },
  {
   "cell_type": "code",
   "execution_count": 25,
   "id": "e93f4a71",
   "metadata": {
    "execution": {
     "iopub.execute_input": "2022-08-09T11:30:33.626860Z",
     "iopub.status.busy": "2022-08-09T11:30:33.625988Z",
     "iopub.status.idle": "2022-08-09T11:30:33.647281Z",
     "shell.execute_reply": "2022-08-09T11:30:33.646398Z"
    },
    "executionInfo": {
     "elapsed": 6,
     "status": "ok",
     "timestamp": 1655460233848,
     "user": {
      "displayName": "Shibu Mohapatra",
      "userId": "07626953913233812311"
     },
     "user_tz": -330
    },
    "id": "1JaTAKAwqd05",
    "outputId": "8b589d5a-def1-440c-a9ce-cebf3f344518",
    "papermill": {
     "duration": 0.067927,
     "end_time": "2022-08-09T11:30:33.650083",
     "exception": false,
     "start_time": "2022-08-09T11:30:33.582156",
     "status": "completed"
    },
    "tags": []
   },
   "outputs": [
    {
     "data": {
      "text/html": [
       "<div>\n",
       "<style scoped>\n",
       "    .dataframe tbody tr th:only-of-type {\n",
       "        vertical-align: middle;\n",
       "    }\n",
       "\n",
       "    .dataframe tbody tr th {\n",
       "        vertical-align: top;\n",
       "    }\n",
       "\n",
       "    .dataframe thead th {\n",
       "        text-align: right;\n",
       "    }\n",
       "</style>\n",
       "<table border=\"1\" class=\"dataframe\">\n",
       "  <thead>\n",
       "    <tr style=\"text-align: right;\">\n",
       "      <th></th>\n",
       "      <th>pca1</th>\n",
       "      <th>pca2</th>\n",
       "      <th>cancer_type</th>\n",
       "    </tr>\n",
       "  </thead>\n",
       "  <tbody>\n",
       "    <tr>\n",
       "      <th>0</th>\n",
       "      <td>-57.446987</td>\n",
       "      <td>95.410981</td>\n",
       "      <td>1</td>\n",
       "    </tr>\n",
       "    <tr>\n",
       "      <th>1</th>\n",
       "      <td>-16.919430</td>\n",
       "      <td>0.732470</td>\n",
       "      <td>2</td>\n",
       "    </tr>\n",
       "    <tr>\n",
       "      <th>2</th>\n",
       "      <td>-70.345218</td>\n",
       "      <td>-19.303326</td>\n",
       "      <td>1</td>\n",
       "    </tr>\n",
       "    <tr>\n",
       "      <th>3</th>\n",
       "      <td>-49.161591</td>\n",
       "      <td>-9.227586</td>\n",
       "      <td>1</td>\n",
       "    </tr>\n",
       "    <tr>\n",
       "      <th>4</th>\n",
       "      <td>-18.132534</td>\n",
       "      <td>-51.327797</td>\n",
       "      <td>3</td>\n",
       "    </tr>\n",
       "    <tr>\n",
       "      <th>...</th>\n",
       "      <td>...</td>\n",
       "      <td>...</td>\n",
       "      <td>...</td>\n",
       "    </tr>\n",
       "    <tr>\n",
       "      <th>796</th>\n",
       "      <td>-12.417385</td>\n",
       "      <td>-42.321573</td>\n",
       "      <td>3</td>\n",
       "    </tr>\n",
       "    <tr>\n",
       "      <th>797</th>\n",
       "      <td>-29.415555</td>\n",
       "      <td>28.526282</td>\n",
       "      <td>2</td>\n",
       "    </tr>\n",
       "    <tr>\n",
       "      <th>798</th>\n",
       "      <td>-4.133089</td>\n",
       "      <td>15.690012</td>\n",
       "      <td>5</td>\n",
       "    </tr>\n",
       "    <tr>\n",
       "      <th>799</th>\n",
       "      <td>-30.814757</td>\n",
       "      <td>33.526422</td>\n",
       "      <td>1</td>\n",
       "    </tr>\n",
       "    <tr>\n",
       "      <th>800</th>\n",
       "      <td>-22.344557</td>\n",
       "      <td>4.052356</td>\n",
       "      <td>1</td>\n",
       "    </tr>\n",
       "  </tbody>\n",
       "</table>\n",
       "<p>801 rows × 3 columns</p>\n",
       "</div>"
      ],
      "text/plain": [
       "          pca1       pca2  cancer_type\n",
       "0   -57.446987  95.410981            1\n",
       "1   -16.919430   0.732470            2\n",
       "2   -70.345218 -19.303326            1\n",
       "3   -49.161591  -9.227586            1\n",
       "4   -18.132534 -51.327797            3\n",
       "..         ...        ...          ...\n",
       "796 -12.417385 -42.321573            3\n",
       "797 -29.415555  28.526282            2\n",
       "798  -4.133089  15.690012            5\n",
       "799 -30.814757  33.526422            1\n",
       "800 -22.344557   4.052356            1\n",
       "\n",
       "[801 rows x 3 columns]"
      ]
     },
     "execution_count": 25,
     "metadata": {},
     "output_type": "execute_result"
    }
   ],
   "source": [
    "# Put the data back on the 2 columns defined \n",
    "df_pca = pd.DataFrame(X_pca_with_2)\n",
    "df_pca.columns = ['pca1','pca2']\n",
    "\n",
    "# Add the convereted categorical data for \n",
    "df_pca['cancer_type']=df_cat_data['Class']\n",
    "df_pca"
   ]
  },
  {
   "cell_type": "code",
   "execution_count": 26,
   "id": "dfadf913",
   "metadata": {
    "execution": {
     "iopub.execute_input": "2022-08-09T11:30:33.735132Z",
     "iopub.status.busy": "2022-08-09T11:30:33.734281Z",
     "iopub.status.idle": "2022-08-09T11:30:34.146188Z",
     "shell.execute_reply": "2022-08-09T11:30:34.144810Z"
    },
    "executionInfo": {
     "elapsed": 1052,
     "status": "ok",
     "timestamp": 1655460234896,
     "user": {
      "displayName": "Shibu Mohapatra",
      "userId": "07626953913233812311"
     },
     "user_tz": -330
    },
    "id": "qYhnejPtrBq1",
    "outputId": "fc2fe777-788a-4192-ddc0-00fb46d9b766",
    "papermill": {
     "duration": 0.457677,
     "end_time": "2022-08-09T11:30:34.149034",
     "exception": false,
     "start_time": "2022-08-09T11:30:33.691357",
     "status": "completed"
    },
    "tags": []
   },
   "outputs": [
    {
     "data": {
      "text/plain": [
       "<AxesSubplot:xlabel='pca1', ylabel='pca2'>"
      ]
     },
     "execution_count": 26,
     "metadata": {},
     "output_type": "execute_result"
    },
    {
     "data": {
      "image/png": "[encoded data removed]",
      "text/plain": [
       "<Figure size 432x288 with 1 Axes>"
      ]
     },
     "metadata": {
      "needs_background": "light"
     },
     "output_type": "display_data"
    }
   ],
   "source": [
    "# Present the data on the 5 clusters using seaborn maps \n",
    "sns.scatterplot(x='pca1',y='pca2', hue = 'cancer_type',data=df_pca)"
   ]
  },
  {
   "cell_type": "markdown",
   "id": "6e950543",
   "metadata": {
    "id": "VyE6-_Q0rLuk",
    "papermill": {
     "duration": 0.043258,
     "end_time": "2022-08-09T11:30:34.235968",
     "exception": false,
     "start_time": "2022-08-09T11:30:34.192710",
     "status": "completed"
    },
    "tags": []
   },
   "source": [
    "PCA with n_components=.995"
   ]
  },
  {
   "cell_type": "code",
   "execution_count": 27,
   "id": "b7931841",
   "metadata": {
    "execution": {
     "iopub.execute_input": "2022-08-09T11:30:34.325701Z",
     "iopub.status.busy": "2022-08-09T11:30:34.324123Z",
     "iopub.status.idle": "2022-08-09T11:30:45.103602Z",
     "shell.execute_reply": "2022-08-09T11:30:45.101970Z"
    },
    "executionInfo": {
     "elapsed": 7628,
     "status": "ok",
     "timestamp": 1655460242521,
     "user": {
      "displayName": "Shibu Mohapatra",
      "userId": "07626953913233812311"
     },
     "user_tz": -330
    },
    "id": "EX28Fm1ArNDE",
    "outputId": "63119a53-4839-467a-8b58-cda62b3d3c5b",
    "papermill": {
     "duration": 10.829816,
     "end_time": "2022-08-09T11:30:45.108606",
     "exception": false,
     "start_time": "2022-08-09T11:30:34.278790",
     "status": "completed"
    },
    "tags": []
   },
   "outputs": [
    {
     "data": {
      "text/plain": [
       "array([[-6.27554152e+01, -9.40719735e+01,  8.95198311e+01, ...,\n",
       "         3.09258084e+00,  7.13597730e-01, -8.21221710e-02],\n",
       "       [-2.43289636e+00,  9.05858418e+01, -1.06730787e+00, ...,\n",
       "         1.39674724e-02, -3.95175744e-01, -9.49947250e-01],\n",
       "       [-7.12668528e+01, -8.06460774e+00,  6.61124549e+01, ...,\n",
       "         1.28898532e-01, -2.64530262e-01,  3.84594189e-01],\n",
       "       ...,\n",
       "       [ 1.04862615e+01,  2.15705946e+01,  4.13458784e+01, ...,\n",
       "        -6.47882986e-01, -2.07256774e-01,  1.38942922e-01],\n",
       "       [-5.50636049e+01, -9.23947780e+01,  8.00500394e+01, ...,\n",
       "         1.74673062e+00,  2.02232239e+00, -1.92708948e+00],\n",
       "       [-4.91030338e+01, -5.09976391e+01,  4.05037544e+01, ...,\n",
       "         1.80367340e+00,  2.22994027e+00, -8.07255452e-01]])"
      ]
     },
     "execution_count": 27,
     "metadata": {},
     "output_type": "execute_result"
    }
   ],
   "source": [
    "pca_with_995=PCA(.995)\n",
    "X_pca_with_995 = pca_with_995.fit_transform(x_pca)\n",
    "X_pca_with_995.shape\n",
    "X_pca_with_995"
   ]
  },
  {
   "cell_type": "code",
   "execution_count": 28,
   "id": "41cd30cd",
   "metadata": {
    "execution": {
     "iopub.execute_input": "2022-08-09T11:30:45.221386Z",
     "iopub.status.busy": "2022-08-09T11:30:45.220946Z",
     "iopub.status.idle": "2022-08-09T11:30:45.255283Z",
     "shell.execute_reply": "2022-08-09T11:30:45.254038Z"
    },
    "executionInfo": {
     "elapsed": 10,
     "status": "ok",
     "timestamp": 1655460242522,
     "user": {
      "displayName": "Shibu Mohapatra",
      "userId": "07626953913233812311"
     },
     "user_tz": -330
    },
    "id": "6z32iFbgrRcp",
    "outputId": "4dbdd633-3099-44b6-f954-5aa1b28bf9d2",
    "papermill": {
     "duration": 0.076614,
     "end_time": "2022-08-09T11:30:45.257816",
     "exception": false,
     "start_time": "2022-08-09T11:30:45.181202",
     "status": "completed"
    },
    "tags": []
   },
   "outputs": [
    {
     "data": {
      "text/html": [
       "<div>\n",
       "<style scoped>\n",
       "    .dataframe tbody tr th:only-of-type {\n",
       "        vertical-align: middle;\n",
       "    }\n",
       "\n",
       "    .dataframe tbody tr th {\n",
       "        vertical-align: top;\n",
       "    }\n",
       "\n",
       "    .dataframe thead th {\n",
       "        text-align: right;\n",
       "    }\n",
       "</style>\n",
       "<table border=\"1\" class=\"dataframe\">\n",
       "  <thead>\n",
       "    <tr style=\"text-align: right;\">\n",
       "      <th></th>\n",
       "      <th>0</th>\n",
       "      <th>1</th>\n",
       "      <th>2</th>\n",
       "      <th>3</th>\n",
       "      <th>4</th>\n",
       "      <th>5</th>\n",
       "      <th>6</th>\n",
       "      <th>7</th>\n",
       "      <th>8</th>\n",
       "      <th>9</th>\n",
       "      <th>...</th>\n",
       "      <th>738</th>\n",
       "      <th>739</th>\n",
       "      <th>740</th>\n",
       "      <th>741</th>\n",
       "      <th>742</th>\n",
       "      <th>743</th>\n",
       "      <th>744</th>\n",
       "      <th>745</th>\n",
       "      <th>746</th>\n",
       "      <th>cancer_type</th>\n",
       "    </tr>\n",
       "  </thead>\n",
       "  <tbody>\n",
       "    <tr>\n",
       "      <th>0</th>\n",
       "      <td>-62.755415</td>\n",
       "      <td>-94.071973</td>\n",
       "      <td>89.519831</td>\n",
       "      <td>-15.942567</td>\n",
       "      <td>81.423539</td>\n",
       "      <td>-13.998292</td>\n",
       "      <td>7.716073</td>\n",
       "      <td>-22.936551</td>\n",
       "      <td>-32.837892</td>\n",
       "      <td>-2.202680</td>\n",
       "      <td>...</td>\n",
       "      <td>-4.081064</td>\n",
       "      <td>-0.626193</td>\n",
       "      <td>-1.265756</td>\n",
       "      <td>-0.017984</td>\n",
       "      <td>-2.740860</td>\n",
       "      <td>0.944037</td>\n",
       "      <td>3.092581</td>\n",
       "      <td>0.713598</td>\n",
       "      <td>-0.082122</td>\n",
       "      <td>1</td>\n",
       "    </tr>\n",
       "    <tr>\n",
       "      <th>1</th>\n",
       "      <td>-2.432896</td>\n",
       "      <td>90.585842</td>\n",
       "      <td>-1.067308</td>\n",
       "      <td>-53.083120</td>\n",
       "      <td>-15.676684</td>\n",
       "      <td>60.842472</td>\n",
       "      <td>10.257369</td>\n",
       "      <td>-48.822959</td>\n",
       "      <td>14.257400</td>\n",
       "      <td>-12.214352</td>\n",
       "      <td>...</td>\n",
       "      <td>0.215619</td>\n",
       "      <td>-0.593678</td>\n",
       "      <td>-0.403462</td>\n",
       "      <td>1.181537</td>\n",
       "      <td>0.490910</td>\n",
       "      <td>0.197768</td>\n",
       "      <td>0.013967</td>\n",
       "      <td>-0.395176</td>\n",
       "      <td>-0.949947</td>\n",
       "      <td>2</td>\n",
       "    </tr>\n",
       "    <tr>\n",
       "      <th>2</th>\n",
       "      <td>-71.266853</td>\n",
       "      <td>-8.064608</td>\n",
       "      <td>66.112455</td>\n",
       "      <td>81.381475</td>\n",
       "      <td>-7.525685</td>\n",
       "      <td>109.824273</td>\n",
       "      <td>5.519407</td>\n",
       "      <td>-13.364480</td>\n",
       "      <td>38.415728</td>\n",
       "      <td>-5.124731</td>\n",
       "      <td>...</td>\n",
       "      <td>0.263786</td>\n",
       "      <td>0.328453</td>\n",
       "      <td>0.004078</td>\n",
       "      <td>0.363928</td>\n",
       "      <td>-1.109210</td>\n",
       "      <td>0.331488</td>\n",
       "      <td>0.128899</td>\n",
       "      <td>-0.264530</td>\n",
       "      <td>0.384594</td>\n",
       "      <td>1</td>\n",
       "    </tr>\n",
       "    <tr>\n",
       "      <th>3</th>\n",
       "      <td>-84.770785</td>\n",
       "      <td>-73.244566</td>\n",
       "      <td>74.181000</td>\n",
       "      <td>27.022697</td>\n",
       "      <td>-18.044895</td>\n",
       "      <td>50.116433</td>\n",
       "      <td>-3.495197</td>\n",
       "      <td>-11.318520</td>\n",
       "      <td>8.319656</td>\n",
       "      <td>-3.149509</td>\n",
       "      <td>...</td>\n",
       "      <td>0.381578</td>\n",
       "      <td>0.652455</td>\n",
       "      <td>-3.624900</td>\n",
       "      <td>-1.203028</td>\n",
       "      <td>-2.347912</td>\n",
       "      <td>1.577992</td>\n",
       "      <td>-0.781748</td>\n",
       "      <td>0.120442</td>\n",
       "      <td>-0.057973</td>\n",
       "      <td>1</td>\n",
       "    </tr>\n",
       "    <tr>\n",
       "      <th>4</th>\n",
       "      <td>-69.560171</td>\n",
       "      <td>-9.612940</td>\n",
       "      <td>-67.497549</td>\n",
       "      <td>34.868543</td>\n",
       "      <td>-1.795849</td>\n",
       "      <td>-6.676780</td>\n",
       "      <td>-2.840781</td>\n",
       "      <td>16.780157</td>\n",
       "      <td>-49.319753</td>\n",
       "      <td>10.508631</td>\n",
       "      <td>...</td>\n",
       "      <td>1.488047</td>\n",
       "      <td>2.767486</td>\n",
       "      <td>-0.631562</td>\n",
       "      <td>-0.794275</td>\n",
       "      <td>-0.514008</td>\n",
       "      <td>-1.875969</td>\n",
       "      <td>-2.526109</td>\n",
       "      <td>-1.073803</td>\n",
       "      <td>-1.161728</td>\n",
       "      <td>3</td>\n",
       "    </tr>\n",
       "    <tr>\n",
       "      <th>...</th>\n",
       "      <td>...</td>\n",
       "      <td>...</td>\n",
       "      <td>...</td>\n",
       "      <td>...</td>\n",
       "      <td>...</td>\n",
       "      <td>...</td>\n",
       "      <td>...</td>\n",
       "      <td>...</td>\n",
       "      <td>...</td>\n",
       "      <td>...</td>\n",
       "      <td>...</td>\n",
       "      <td>...</td>\n",
       "      <td>...</td>\n",
       "      <td>...</td>\n",
       "      <td>...</td>\n",
       "      <td>...</td>\n",
       "      <td>...</td>\n",
       "      <td>...</td>\n",
       "      <td>...</td>\n",
       "      <td>...</td>\n",
       "      <td>...</td>\n",
       "    </tr>\n",
       "    <tr>\n",
       "      <th>796</th>\n",
       "      <td>-60.861882</td>\n",
       "      <td>-22.278633</td>\n",
       "      <td>-80.927167</td>\n",
       "      <td>42.670292</td>\n",
       "      <td>7.843763</td>\n",
       "      <td>-4.545218</td>\n",
       "      <td>-27.602910</td>\n",
       "      <td>-8.840676</td>\n",
       "      <td>-31.531870</td>\n",
       "      <td>6.380236</td>\n",
       "      <td>...</td>\n",
       "      <td>-0.780676</td>\n",
       "      <td>0.105227</td>\n",
       "      <td>-2.001001</td>\n",
       "      <td>1.579115</td>\n",
       "      <td>0.955344</td>\n",
       "      <td>0.085881</td>\n",
       "      <td>2.667448</td>\n",
       "      <td>0.632850</td>\n",
       "      <td>0.023523</td>\n",
       "      <td>3</td>\n",
       "    </tr>\n",
       "    <tr>\n",
       "      <th>797</th>\n",
       "      <td>-14.465433</td>\n",
       "      <td>53.392194</td>\n",
       "      <td>38.153904</td>\n",
       "      <td>-63.217345</td>\n",
       "      <td>22.799082</td>\n",
       "      <td>39.543441</td>\n",
       "      <td>-47.899401</td>\n",
       "      <td>39.925172</td>\n",
       "      <td>-12.413483</td>\n",
       "      <td>43.364820</td>\n",
       "      <td>...</td>\n",
       "      <td>-0.712822</td>\n",
       "      <td>0.624739</td>\n",
       "      <td>-0.162403</td>\n",
       "      <td>-0.238540</td>\n",
       "      <td>0.584705</td>\n",
       "      <td>1.404867</td>\n",
       "      <td>0.564251</td>\n",
       "      <td>-0.054682</td>\n",
       "      <td>-0.905574</td>\n",
       "      <td>2</td>\n",
       "    </tr>\n",
       "    <tr>\n",
       "      <th>798</th>\n",
       "      <td>10.486261</td>\n",
       "      <td>21.570595</td>\n",
       "      <td>41.345878</td>\n",
       "      <td>-59.639929</td>\n",
       "      <td>-2.163066</td>\n",
       "      <td>-96.453878</td>\n",
       "      <td>38.375897</td>\n",
       "      <td>46.997294</td>\n",
       "      <td>60.604643</td>\n",
       "      <td>59.967025</td>\n",
       "      <td>...</td>\n",
       "      <td>0.269628</td>\n",
       "      <td>-0.348648</td>\n",
       "      <td>-0.531710</td>\n",
       "      <td>0.055553</td>\n",
       "      <td>0.220559</td>\n",
       "      <td>0.331122</td>\n",
       "      <td>-0.647883</td>\n",
       "      <td>-0.207257</td>\n",
       "      <td>0.138943</td>\n",
       "      <td>5</td>\n",
       "    </tr>\n",
       "    <tr>\n",
       "      <th>799</th>\n",
       "      <td>-55.063605</td>\n",
       "      <td>-92.394778</td>\n",
       "      <td>80.050039</td>\n",
       "      <td>-7.782015</td>\n",
       "      <td>15.180574</td>\n",
       "      <td>2.563620</td>\n",
       "      <td>8.487660</td>\n",
       "      <td>10.571657</td>\n",
       "      <td>11.710577</td>\n",
       "      <td>1.304005</td>\n",
       "      <td>...</td>\n",
       "      <td>0.045885</td>\n",
       "      <td>-2.222754</td>\n",
       "      <td>-4.115667</td>\n",
       "      <td>-0.064646</td>\n",
       "      <td>-0.447662</td>\n",
       "      <td>-0.243658</td>\n",
       "      <td>1.746731</td>\n",
       "      <td>2.022322</td>\n",
       "      <td>-1.927089</td>\n",
       "      <td>1</td>\n",
       "    </tr>\n",
       "    <tr>\n",
       "      <th>800</th>\n",
       "      <td>-49.103034</td>\n",
       "      <td>-50.997639</td>\n",
       "      <td>40.503754</td>\n",
       "      <td>-31.495505</td>\n",
       "      <td>-10.361908</td>\n",
       "      <td>-1.272555</td>\n",
       "      <td>9.185948</td>\n",
       "      <td>-31.629661</td>\n",
       "      <td>40.799717</td>\n",
       "      <td>-5.265109</td>\n",
       "      <td>...</td>\n",
       "      <td>-1.429271</td>\n",
       "      <td>-1.286569</td>\n",
       "      <td>-0.166544</td>\n",
       "      <td>3.095998</td>\n",
       "      <td>0.935408</td>\n",
       "      <td>2.854994</td>\n",
       "      <td>1.803673</td>\n",
       "      <td>2.229940</td>\n",
       "      <td>-0.807255</td>\n",
       "      <td>1</td>\n",
       "    </tr>\n",
       "  </tbody>\n",
       "</table>\n",
       "<p>801 rows × 748 columns</p>\n",
       "</div>"
      ],
      "text/plain": [
       "             0          1          2          3          4           5  \\\n",
       "0   -62.755415 -94.071973  89.519831 -15.942567  81.423539  -13.998292   \n",
       "1    -2.432896  90.585842  -1.067308 -53.083120 -15.676684   60.842472   \n",
       "2   -71.266853  -8.064608  66.112455  81.381475  -7.525685  109.824273   \n",
       "3   -84.770785 -73.244566  74.181000  27.022697 -18.044895   50.116433   \n",
       "4   -69.560171  -9.612940 -67.497549  34.868543  -1.795849   -6.676780   \n",
       "..         ...        ...        ...        ...        ...         ...   \n",
       "796 -60.861882 -22.278633 -80.927167  42.670292   7.843763   -4.545218   \n",
       "797 -14.465433  53.392194  38.153904 -63.217345  22.799082   39.543441   \n",
       "798  10.486261  21.570595  41.345878 -59.639929  -2.163066  -96.453878   \n",
       "799 -55.063605 -92.394778  80.050039  -7.782015  15.180574    2.563620   \n",
       "800 -49.103034 -50.997639  40.503754 -31.495505 -10.361908   -1.272555   \n",
       "\n",
       "             6          7          8          9  ...       738       739  \\\n",
       "0     7.716073 -22.936551 -32.837892  -2.202680  ... -4.081064 -0.626193   \n",
       "1    10.257369 -48.822959  14.257400 -12.214352  ...  0.215619 -0.593678   \n",
       "2     5.519407 -13.364480  38.415728  -5.124731  ...  0.263786  0.328453   \n",
       "3    -3.495197 -11.318520   8.319656  -3.149509  ...  0.381578  0.652455   \n",
       "4    -2.840781  16.780157 -49.319753  10.508631  ...  1.488047  2.767486   \n",
       "..         ...        ...        ...        ...  ...       ...       ...   \n",
       "796 -27.602910  -8.840676 -31.531870   6.380236  ... -0.780676  0.105227   \n",
       "797 -47.899401  39.925172 -12.413483  43.364820  ... -0.712822  0.624739   \n",
       "798  38.375897  46.997294  60.604643  59.967025  ...  0.269628 -0.348648   \n",
       "799   8.487660  10.571657  11.710577   1.304005  ...  0.045885 -2.222754   \n",
       "800   9.185948 -31.629661  40.799717  -5.265109  ... -1.429271 -1.286569   \n",
       "\n",
       "          740       741       742       743       744       745       746  \\\n",
       "0   -1.265756 -0.017984 -2.740860  0.944037  3.092581  0.713598 -0.082122   \n",
       "1   -0.403462  1.181537  0.490910  0.197768  0.013967 -0.395176 -0.949947   \n",
       "2    0.004078  0.363928 -1.109210  0.331488  0.128899 -0.264530  0.384594   \n",
       "3   -3.624900 -1.203028 -2.347912  1.577992 -0.781748  0.120442 -0.057973   \n",
       "4   -0.631562 -0.794275 -0.514008 -1.875969 -2.526109 -1.073803 -1.161728   \n",
       "..        ...       ...       ...       ...       ...       ...       ...   \n",
       "796 -2.001001  1.579115  0.955344  0.085881  2.667448  0.632850  0.023523   \n",
       "797 -0.162403 -0.238540  0.584705  1.404867  0.564251 -0.054682 -0.905574   \n",
       "798 -0.531710  0.055553  0.220559  0.331122 -0.647883 -0.207257  0.138943   \n",
       "799 -4.115667 -0.064646 -0.447662 -0.243658  1.746731  2.022322 -1.927089   \n",
       "800 -0.166544  3.095998  0.935408  2.854994  1.803673  2.229940 -0.807255   \n",
       "\n",
       "     cancer_type  \n",
       "0              1  \n",
       "1              2  \n",
       "2              1  \n",
       "3              1  \n",
       "4              3  \n",
       "..           ...  \n",
       "796            3  \n",
       "797            2  \n",
       "798            5  \n",
       "799            1  \n",
       "800            1  \n",
       "\n",
       "[801 rows x 748 columns]"
      ]
     },
     "execution_count": 28,
     "metadata": {},
     "output_type": "execute_result"
    }
   ],
   "source": [
    "df_pca_995 = pd.DataFrame(X_pca_with_995)\n",
    "df_pca_995['cancer_type']=df_cat_data['Class']\n",
    "df_pca_995"
   ]
  },
  {
   "cell_type": "code",
   "execution_count": 29,
   "id": "3f9404fe",
   "metadata": {
    "execution": {
     "iopub.execute_input": "2022-08-09T11:30:45.335359Z",
     "iopub.status.busy": "2022-08-09T11:30:45.334280Z",
     "iopub.status.idle": "2022-08-09T11:30:45.677670Z",
     "shell.execute_reply": "2022-08-09T11:30:45.676131Z"
    },
    "executionInfo": {
     "elapsed": 1314,
     "status": "ok",
     "timestamp": 1655460243828,
     "user": {
      "displayName": "Shibu Mohapatra",
      "userId": "07626953913233812311"
     },
     "user_tz": -330
    },
    "id": "TWQQOOXprUUV",
    "outputId": "0c2ea1d8-117e-4d26-e3d2-f0047899b1f9",
    "papermill": {
     "duration": 0.385483,
     "end_time": "2022-08-09T11:30:45.680800",
     "exception": false,
     "start_time": "2022-08-09T11:30:45.295317",
     "status": "completed"
    },
    "tags": []
   },
   "outputs": [
    {
     "data": {
      "text/plain": [
       "<AxesSubplot:xlabel='0', ylabel='1'>"
      ]
     },
     "execution_count": 29,
     "metadata": {},
     "output_type": "execute_result"
    },
    {
     "data": {
      "image/png": "[encoded data removed]",
      "text/plain": [
       "<Figure size 432x288 with 1 Axes>"
      ]
     },
     "metadata": {
      "needs_background": "light"
     },
     "output_type": "display_data"
    }
   ],
   "source": [
    "sns.scatterplot(x=0,y=1,hue = 'cancer_type', data=df_pca_995)"
   ]
  },
  {
   "cell_type": "markdown",
   "id": "dde69655",
   "metadata": {
    "id": "Y9bAh8wzrYhc",
    "papermill": {
     "duration": 0.037706,
     "end_time": "2022-08-09T11:30:45.756832",
     "exception": false,
     "start_time": "2022-08-09T11:30:45.719126",
     "status": "completed"
    },
    "tags": []
   },
   "source": [
    "3. Output: Selected Genes from each dimensionality reduction method"
   ]
  },
  {
   "cell_type": "markdown",
   "id": "3b38728d",
   "metadata": {
    "id": "xrG7n0T7raoi",
    "papermill": {
     "duration": 0.039289,
     "end_time": "2022-08-09T11:30:45.835319",
     "exception": false,
     "start_time": "2022-08-09T11:30:45.796030",
     "status": "completed"
    },
    "tags": []
   },
   "source": [
    "Dimensionality reduction using t-SNE"
   ]
  },
  {
   "cell_type": "code",
   "execution_count": 30,
   "id": "f1ebb78f",
   "metadata": {
    "execution": {
     "iopub.execute_input": "2022-08-09T11:30:45.921132Z",
     "iopub.status.busy": "2022-08-09T11:30:45.920448Z",
     "iopub.status.idle": "2022-08-09T11:30:46.049847Z",
     "shell.execute_reply": "2022-08-09T11:30:46.048351Z"
    },
    "executionInfo": {
     "elapsed": 11,
     "status": "ok",
     "timestamp": 1655460243829,
     "user": {
      "displayName": "Shibu Mohapatra",
      "userId": "07626953913233812311"
     },
     "user_tz": -330
    },
    "id": "bc1yog35rkPK",
    "outputId": "b1ae7f37-f132-4752-b77c-6756e3b3bdd0",
    "papermill": {
     "duration": 0.178387,
     "end_time": "2022-08-09T11:30:46.053361",
     "exception": false,
     "start_time": "2022-08-09T11:30:45.874974",
     "status": "completed"
    },
    "tags": []
   },
   "outputs": [
    {
     "data": {
      "text/html": [
       "<div>\n",
       "<style scoped>\n",
       "    .dataframe tbody tr th:only-of-type {\n",
       "        vertical-align: middle;\n",
       "    }\n",
       "\n",
       "    .dataframe tbody tr th {\n",
       "        vertical-align: top;\n",
       "    }\n",
       "\n",
       "    .dataframe thead th {\n",
       "        text-align: right;\n",
       "    }\n",
       "</style>\n",
       "<table border=\"1\" class=\"dataframe\">\n",
       "  <thead>\n",
       "    <tr style=\"text-align: right;\">\n",
       "      <th></th>\n",
       "      <th>gene_0</th>\n",
       "      <th>gene_1</th>\n",
       "      <th>gene_2</th>\n",
       "      <th>gene_3</th>\n",
       "      <th>gene_4</th>\n",
       "      <th>gene_5</th>\n",
       "      <th>gene_6</th>\n",
       "      <th>gene_7</th>\n",
       "      <th>gene_8</th>\n",
       "      <th>gene_9</th>\n",
       "      <th>...</th>\n",
       "      <th>gene_20521</th>\n",
       "      <th>gene_20522</th>\n",
       "      <th>gene_20523</th>\n",
       "      <th>gene_20524</th>\n",
       "      <th>gene_20525</th>\n",
       "      <th>gene_20526</th>\n",
       "      <th>gene_20527</th>\n",
       "      <th>gene_20528</th>\n",
       "      <th>gene_20529</th>\n",
       "      <th>gene_20530</th>\n",
       "    </tr>\n",
       "  </thead>\n",
       "  <tbody>\n",
       "    <tr>\n",
       "      <th>0</th>\n",
       "      <td>0.0</td>\n",
       "      <td>2.017209</td>\n",
       "      <td>3.265527</td>\n",
       "      <td>5.478487</td>\n",
       "      <td>10.431999</td>\n",
       "      <td>0.0</td>\n",
       "      <td>7.175175</td>\n",
       "      <td>0.591871</td>\n",
       "      <td>0.0</td>\n",
       "      <td>0.0</td>\n",
       "      <td>...</td>\n",
       "      <td>4.926711</td>\n",
       "      <td>8.210257</td>\n",
       "      <td>9.723516</td>\n",
       "      <td>7.220030</td>\n",
       "      <td>9.119813</td>\n",
       "      <td>12.003135</td>\n",
       "      <td>9.650743</td>\n",
       "      <td>8.921326</td>\n",
       "      <td>5.286759</td>\n",
       "      <td>0.000000</td>\n",
       "    </tr>\n",
       "    <tr>\n",
       "      <th>1</th>\n",
       "      <td>0.0</td>\n",
       "      <td>0.592732</td>\n",
       "      <td>1.588421</td>\n",
       "      <td>7.586157</td>\n",
       "      <td>9.623011</td>\n",
       "      <td>0.0</td>\n",
       "      <td>6.816049</td>\n",
       "      <td>0.000000</td>\n",
       "      <td>0.0</td>\n",
       "      <td>0.0</td>\n",
       "      <td>...</td>\n",
       "      <td>4.593372</td>\n",
       "      <td>7.323865</td>\n",
       "      <td>9.740931</td>\n",
       "      <td>6.256586</td>\n",
       "      <td>8.381612</td>\n",
       "      <td>12.674552</td>\n",
       "      <td>10.517059</td>\n",
       "      <td>9.397854</td>\n",
       "      <td>2.094168</td>\n",
       "      <td>0.000000</td>\n",
       "    </tr>\n",
       "    <tr>\n",
       "      <th>2</th>\n",
       "      <td>0.0</td>\n",
       "      <td>3.511759</td>\n",
       "      <td>4.327199</td>\n",
       "      <td>6.881787</td>\n",
       "      <td>9.870730</td>\n",
       "      <td>0.0</td>\n",
       "      <td>6.972130</td>\n",
       "      <td>0.452595</td>\n",
       "      <td>0.0</td>\n",
       "      <td>0.0</td>\n",
       "      <td>...</td>\n",
       "      <td>5.125213</td>\n",
       "      <td>8.127123</td>\n",
       "      <td>10.908640</td>\n",
       "      <td>5.401607</td>\n",
       "      <td>9.911597</td>\n",
       "      <td>9.045255</td>\n",
       "      <td>9.788359</td>\n",
       "      <td>10.090470</td>\n",
       "      <td>1.683023</td>\n",
       "      <td>0.000000</td>\n",
       "    </tr>\n",
       "    <tr>\n",
       "      <th>3</th>\n",
       "      <td>0.0</td>\n",
       "      <td>3.663618</td>\n",
       "      <td>4.507649</td>\n",
       "      <td>6.659068</td>\n",
       "      <td>10.196184</td>\n",
       "      <td>0.0</td>\n",
       "      <td>7.843375</td>\n",
       "      <td>0.434882</td>\n",
       "      <td>0.0</td>\n",
       "      <td>0.0</td>\n",
       "      <td>...</td>\n",
       "      <td>6.076566</td>\n",
       "      <td>8.792959</td>\n",
       "      <td>10.141520</td>\n",
       "      <td>8.942805</td>\n",
       "      <td>9.601208</td>\n",
       "      <td>11.392682</td>\n",
       "      <td>9.694814</td>\n",
       "      <td>9.684365</td>\n",
       "      <td>3.292001</td>\n",
       "      <td>0.000000</td>\n",
       "    </tr>\n",
       "    <tr>\n",
       "      <th>4</th>\n",
       "      <td>0.0</td>\n",
       "      <td>2.655741</td>\n",
       "      <td>2.821547</td>\n",
       "      <td>6.539454</td>\n",
       "      <td>9.738265</td>\n",
       "      <td>0.0</td>\n",
       "      <td>6.566967</td>\n",
       "      <td>0.360982</td>\n",
       "      <td>0.0</td>\n",
       "      <td>0.0</td>\n",
       "      <td>...</td>\n",
       "      <td>5.996032</td>\n",
       "      <td>8.891425</td>\n",
       "      <td>10.373790</td>\n",
       "      <td>7.181162</td>\n",
       "      <td>9.846910</td>\n",
       "      <td>11.922439</td>\n",
       "      <td>9.217749</td>\n",
       "      <td>9.461191</td>\n",
       "      <td>5.110372</td>\n",
       "      <td>0.000000</td>\n",
       "    </tr>\n",
       "    <tr>\n",
       "      <th>...</th>\n",
       "      <td>...</td>\n",
       "      <td>...</td>\n",
       "      <td>...</td>\n",
       "      <td>...</td>\n",
       "      <td>...</td>\n",
       "      <td>...</td>\n",
       "      <td>...</td>\n",
       "      <td>...</td>\n",
       "      <td>...</td>\n",
       "      <td>...</td>\n",
       "      <td>...</td>\n",
       "      <td>...</td>\n",
       "      <td>...</td>\n",
       "      <td>...</td>\n",
       "      <td>...</td>\n",
       "      <td>...</td>\n",
       "      <td>...</td>\n",
       "      <td>...</td>\n",
       "      <td>...</td>\n",
       "      <td>...</td>\n",
       "      <td>...</td>\n",
       "    </tr>\n",
       "    <tr>\n",
       "      <th>796</th>\n",
       "      <td>0.0</td>\n",
       "      <td>1.865642</td>\n",
       "      <td>2.718197</td>\n",
       "      <td>7.350099</td>\n",
       "      <td>10.006003</td>\n",
       "      <td>0.0</td>\n",
       "      <td>6.764792</td>\n",
       "      <td>0.496922</td>\n",
       "      <td>0.0</td>\n",
       "      <td>0.0</td>\n",
       "      <td>...</td>\n",
       "      <td>6.088133</td>\n",
       "      <td>9.118313</td>\n",
       "      <td>10.004852</td>\n",
       "      <td>4.484415</td>\n",
       "      <td>9.614701</td>\n",
       "      <td>12.031267</td>\n",
       "      <td>9.813063</td>\n",
       "      <td>10.092770</td>\n",
       "      <td>8.819269</td>\n",
       "      <td>0.000000</td>\n",
       "    </tr>\n",
       "    <tr>\n",
       "      <th>797</th>\n",
       "      <td>0.0</td>\n",
       "      <td>3.942955</td>\n",
       "      <td>4.453807</td>\n",
       "      <td>6.346597</td>\n",
       "      <td>10.056868</td>\n",
       "      <td>0.0</td>\n",
       "      <td>7.320331</td>\n",
       "      <td>0.000000</td>\n",
       "      <td>0.0</td>\n",
       "      <td>0.0</td>\n",
       "      <td>...</td>\n",
       "      <td>6.371876</td>\n",
       "      <td>9.623335</td>\n",
       "      <td>9.823921</td>\n",
       "      <td>6.555327</td>\n",
       "      <td>9.064002</td>\n",
       "      <td>11.633422</td>\n",
       "      <td>10.317266</td>\n",
       "      <td>8.745983</td>\n",
       "      <td>9.659081</td>\n",
       "      <td>0.000000</td>\n",
       "    </tr>\n",
       "    <tr>\n",
       "      <th>798</th>\n",
       "      <td>0.0</td>\n",
       "      <td>3.249582</td>\n",
       "      <td>3.707492</td>\n",
       "      <td>8.185901</td>\n",
       "      <td>9.504082</td>\n",
       "      <td>0.0</td>\n",
       "      <td>7.536589</td>\n",
       "      <td>1.811101</td>\n",
       "      <td>0.0</td>\n",
       "      <td>0.0</td>\n",
       "      <td>...</td>\n",
       "      <td>5.719386</td>\n",
       "      <td>8.610704</td>\n",
       "      <td>10.485517</td>\n",
       "      <td>3.589763</td>\n",
       "      <td>9.350636</td>\n",
       "      <td>12.180944</td>\n",
       "      <td>10.681194</td>\n",
       "      <td>9.466711</td>\n",
       "      <td>4.677458</td>\n",
       "      <td>0.586693</td>\n",
       "    </tr>\n",
       "    <tr>\n",
       "      <th>799</th>\n",
       "      <td>0.0</td>\n",
       "      <td>2.590339</td>\n",
       "      <td>2.787976</td>\n",
       "      <td>7.318624</td>\n",
       "      <td>9.987136</td>\n",
       "      <td>0.0</td>\n",
       "      <td>9.213464</td>\n",
       "      <td>0.000000</td>\n",
       "      <td>0.0</td>\n",
       "      <td>0.0</td>\n",
       "      <td>...</td>\n",
       "      <td>5.785237</td>\n",
       "      <td>8.605387</td>\n",
       "      <td>11.004677</td>\n",
       "      <td>4.745888</td>\n",
       "      <td>9.626383</td>\n",
       "      <td>11.198279</td>\n",
       "      <td>10.335513</td>\n",
       "      <td>10.400581</td>\n",
       "      <td>5.718751</td>\n",
       "      <td>0.000000</td>\n",
       "    </tr>\n",
       "    <tr>\n",
       "      <th>800</th>\n",
       "      <td>0.0</td>\n",
       "      <td>2.325242</td>\n",
       "      <td>3.805932</td>\n",
       "      <td>6.530246</td>\n",
       "      <td>9.560367</td>\n",
       "      <td>0.0</td>\n",
       "      <td>7.957027</td>\n",
       "      <td>0.000000</td>\n",
       "      <td>0.0</td>\n",
       "      <td>0.0</td>\n",
       "      <td>...</td>\n",
       "      <td>6.403075</td>\n",
       "      <td>8.594354</td>\n",
       "      <td>10.243079</td>\n",
       "      <td>9.139459</td>\n",
       "      <td>10.102934</td>\n",
       "      <td>11.641081</td>\n",
       "      <td>10.607358</td>\n",
       "      <td>9.844794</td>\n",
       "      <td>4.550716</td>\n",
       "      <td>0.000000</td>\n",
       "    </tr>\n",
       "  </tbody>\n",
       "</table>\n",
       "<p>801 rows × 20531 columns</p>\n",
       "</div>"
      ],
      "text/plain": [
       "     gene_0    gene_1    gene_2    gene_3     gene_4  gene_5    gene_6  \\\n",
       "0       0.0  2.017209  3.265527  5.478487  10.431999     0.0  7.175175   \n",
       "1       0.0  0.592732  1.588421  7.586157   9.623011     0.0  6.816049   \n",
       "2       0.0  3.511759  4.327199  6.881787   9.870730     0.0  6.972130   \n",
       "3       0.0  3.663618  4.507649  6.659068  10.196184     0.0  7.843375   \n",
       "4       0.0  2.655741  2.821547  6.539454   9.738265     0.0  6.566967   \n",
       "..      ...       ...       ...       ...        ...     ...       ...   \n",
       "796     0.0  1.865642  2.718197  7.350099  10.006003     0.0  6.764792   \n",
       "797     0.0  3.942955  4.453807  6.346597  10.056868     0.0  7.320331   \n",
       "798     0.0  3.249582  3.707492  8.185901   9.504082     0.0  7.536589   \n",
       "799     0.0  2.590339  2.787976  7.318624   9.987136     0.0  9.213464   \n",
       "800     0.0  2.325242  3.805932  6.530246   9.560367     0.0  7.957027   \n",
       "\n",
       "       gene_7  gene_8  gene_9  ...  gene_20521  gene_20522  gene_20523  \\\n",
       "0    0.591871     0.0     0.0  ...    4.926711    8.210257    9.723516   \n",
       "1    0.000000     0.0     0.0  ...    4.593372    7.323865    9.740931   \n",
       "2    0.452595     0.0     0.0  ...    5.125213    8.127123   10.908640   \n",
       "3    0.434882     0.0     0.0  ...    6.076566    8.792959   10.141520   \n",
       "4    0.360982     0.0     0.0  ...    5.996032    8.891425   10.373790   \n",
       "..        ...     ...     ...  ...         ...         ...         ...   \n",
       "796  0.496922     0.0     0.0  ...    6.088133    9.118313   10.004852   \n",
       "797  0.000000     0.0     0.0  ...    6.371876    9.623335    9.823921   \n",
       "798  1.811101     0.0     0.0  ...    5.719386    8.610704   10.485517   \n",
       "799  0.000000     0.0     0.0  ...    5.785237    8.605387   11.004677   \n",
       "800  0.000000     0.0     0.0  ...    6.403075    8.594354   10.243079   \n",
       "\n",
       "     gene_20524  gene_20525  gene_20526  gene_20527  gene_20528  gene_20529  \\\n",
       "0      7.220030    9.119813   12.003135    9.650743    8.921326    5.286759   \n",
       "1      6.256586    8.381612   12.674552   10.517059    9.397854    2.094168   \n",
       "2      5.401607    9.911597    9.045255    9.788359   10.090470    1.683023   \n",
       "3      8.942805    9.601208   11.392682    9.694814    9.684365    3.292001   \n",
       "4      7.181162    9.846910   11.922439    9.217749    9.461191    5.110372   \n",
       "..          ...         ...         ...         ...         ...         ...   \n",
       "796    4.484415    9.614701   12.031267    9.813063   10.092770    8.819269   \n",
       "797    6.555327    9.064002   11.633422   10.317266    8.745983    9.659081   \n",
       "798    3.589763    9.350636   12.180944   10.681194    9.466711    4.677458   \n",
       "799    4.745888    9.626383   11.198279   10.335513   10.400581    5.718751   \n",
       "800    9.139459   10.102934   11.641081   10.607358    9.844794    4.550716   \n",
       "\n",
       "     gene_20530  \n",
       "0      0.000000  \n",
       "1      0.000000  \n",
       "2      0.000000  \n",
       "3      0.000000  \n",
       "4      0.000000  \n",
       "..          ...  \n",
       "796    0.000000  \n",
       "797    0.000000  \n",
       "798    0.586693  \n",
       "799    0.000000  \n",
       "800    0.000000  \n",
       "\n",
       "[801 rows x 20531 columns]"
      ]
     },
     "execution_count": 30,
     "metadata": {},
     "output_type": "execute_result"
    }
   ],
   "source": [
    "df_tsne_data = df\n",
    "non_numeric = ['Unnamed: 0','Class']\n",
    "df_tsne_data = df_tsne_data.drop(non_numeric, axis=1)\n",
    "df_tsne_data"
   ]
  },
  {
   "cell_type": "code",
   "execution_count": 31,
   "id": "4318bfd6",
   "metadata": {
    "execution": {
     "iopub.execute_input": "2022-08-09T11:30:46.134025Z",
     "iopub.status.busy": "2022-08-09T11:30:46.133644Z",
     "iopub.status.idle": "2022-08-09T11:30:46.229483Z",
     "shell.execute_reply": "2022-08-09T11:30:46.228127Z"
    },
    "id": "r4oxIdeGrn6q",
    "papermill": {
     "duration": 0.139425,
     "end_time": "2022-08-09T11:30:46.232287",
     "exception": false,
     "start_time": "2022-08-09T11:30:46.092862",
     "status": "completed"
    },
    "tags": []
   },
   "outputs": [],
   "source": [
    "# import t-SNE from sklearn\n",
    "from sklearn.manifold import TSNE\n",
    "m = TSNE(learning_rate=50)"
   ]
  },
  {
   "cell_type": "code",
   "execution_count": 32,
   "id": "be7a8161",
   "metadata": {
    "execution": {
     "iopub.execute_input": "2022-08-09T11:30:46.312953Z",
     "iopub.status.busy": "2022-08-09T11:30:46.311373Z",
     "iopub.status.idle": "2022-08-09T11:30:51.161674Z",
     "shell.execute_reply": "2022-08-09T11:30:51.160672Z"
    },
    "executionInfo": {
     "elapsed": 8985,
     "status": "ok",
     "timestamp": 1655460252805,
     "user": {
      "displayName": "Shibu Mohapatra",
      "userId": "07626953913233812311"
     },
     "user_tz": -330
    },
    "id": "R5bqq-DPrpe1",
    "outputId": "f651071c-3450-4aa7-f4bc-7f2784935108",
    "papermill": {
     "duration": 4.893887,
     "end_time": "2022-08-09T11:30:51.164732",
     "exception": false,
     "start_time": "2022-08-09T11:30:46.270845",
     "status": "completed"
    },
    "tags": []
   },
   "outputs": [
    {
     "name": "stderr",
     "output_type": "stream",
     "text": [
      "/opt/conda/lib/python3.7/site-packages/sklearn/manifold/_t_sne.py:783: FutureWarning: The default initialization in TSNE will change from 'random' to 'pca' in 1.2.\n",
      "  FutureWarning,\n"
     ]
    },
    {
     "data": {
      "text/plain": [
       "array([[-28.459469 ,   0.5037068],\n",
       "       [ -3.6245222,  26.885788 ],\n",
       "       [ -4.0122676,  26.11988  ]], dtype=float32)"
      ]
     },
     "execution_count": 32,
     "metadata": {},
     "output_type": "execute_result"
    }
   ],
   "source": [
    "tnse_features = m.fit_transform(df_tsne_data)\n",
    "tnse_features[1:4,:]"
   ]
  },
  {
   "cell_type": "code",
   "execution_count": 33,
   "id": "e3e338b2",
   "metadata": {
    "execution": {
     "iopub.execute_input": "2022-08-09T11:30:51.249755Z",
     "iopub.status.busy": "2022-08-09T11:30:51.248817Z",
     "iopub.status.idle": "2022-08-09T11:30:51.476255Z",
     "shell.execute_reply": "2022-08-09T11:30:51.474516Z"
    },
    "executionInfo": {
     "elapsed": 37,
     "status": "ok",
     "timestamp": 1655460252806,
     "user": {
      "displayName": "Shibu Mohapatra",
      "userId": "07626953913233812311"
     },
     "user_tz": -330
    },
    "id": "5wNJ7TIvrrG9",
    "outputId": "d7a00ec7-5e2b-44fe-827a-45f8c0a28a7f",
    "papermill": {
     "duration": 0.272844,
     "end_time": "2022-08-09T11:30:51.479176",
     "exception": false,
     "start_time": "2022-08-09T11:30:51.206332",
     "status": "completed"
    },
    "tags": []
   },
   "outputs": [
    {
     "data": {
      "image/png": "[encoded data removed]",
      "text/plain": [
       "<Figure size 432x288 with 1 Axes>"
      ]
     },
     "metadata": {
      "needs_background": "light"
     },
     "output_type": "display_data"
    }
   ],
   "source": [
    "df_tsne_data['x'] = tnse_features[:,0]\n",
    "df_tsne_data['y'] = tnse_features[:,1]\n",
    "\n",
    "import seaborn as sns\n",
    "sns.scatterplot(x='x',y='y',data=df_tsne_data)\n",
    "plt.show()"
   ]
  },
  {
   "cell_type": "code",
   "execution_count": 34,
   "id": "1e9d70bb",
   "metadata": {
    "execution": {
     "iopub.execute_input": "2022-08-09T11:30:51.563483Z",
     "iopub.status.busy": "2022-08-09T11:30:51.563081Z",
     "iopub.status.idle": "2022-08-09T11:30:51.936028Z",
     "shell.execute_reply": "2022-08-09T11:30:51.934554Z"
    },
    "executionInfo": {
     "elapsed": 1154,
     "status": "ok",
     "timestamp": 1655460253927,
     "user": {
      "displayName": "Shibu Mohapatra",
      "userId": "07626953913233812311"
     },
     "user_tz": -330
    },
    "id": "M9MaRR-Mrtpz",
    "outputId": "8c866ed0-c18c-4d37-d93e-7370935760f6",
    "papermill": {
     "duration": 0.418613,
     "end_time": "2022-08-09T11:30:51.938748",
     "exception": false,
     "start_time": "2022-08-09T11:30:51.520135",
     "status": "completed"
    },
    "tags": []
   },
   "outputs": [
    {
     "data": {
      "image/png": "[encoded data removed]",
      "text/plain": [
       "<Figure size 432x288 with 1 Axes>"
      ]
     },
     "metadata": {
      "needs_background": "light"
     },
     "output_type": "display_data"
    }
   ],
   "source": [
    "df_tsne_data['cancer_type']=df_cat_data['Class']\n",
    "sns.scatterplot(x='x',y='y',hue = 'cancer_type', data=df_tsne_data)\n",
    "plt.show()"
   ]
  },
  {
   "cell_type": "markdown",
   "id": "c86ff2cf",
   "metadata": {
    "id": "vBgrCvaxrxv9",
    "papermill": {
     "duration": 0.041652,
     "end_time": "2022-08-09T11:30:52.021889",
     "exception": false,
     "start_time": "2022-08-09T11:30:51.980237",
     "status": "completed"
    },
    "tags": []
   },
   "source": [
    "Dimensionality reduction using LDA"
   ]
  },
  {
   "cell_type": "code",
   "execution_count": 35,
   "id": "9561e908",
   "metadata": {
    "execution": {
     "iopub.execute_input": "2022-08-09T11:30:52.178314Z",
     "iopub.status.busy": "2022-08-09T11:30:52.177318Z",
     "iopub.status.idle": "2022-08-09T11:30:52.372919Z",
     "shell.execute_reply": "2022-08-09T11:30:52.371719Z"
    },
    "executionInfo": {
     "elapsed": 19,
     "status": "ok",
     "timestamp": 1655460253927,
     "user": {
      "displayName": "Shibu Mohapatra",
      "userId": "07626953913233812311"
     },
     "user_tz": -330
    },
    "id": "_wneUypIrzU_",
    "outputId": "8909e61e-33ab-437d-a9a9-97fa4c370ca6",
    "papermill": {
     "duration": 0.312531,
     "end_time": "2022-08-09T11:30:52.375387",
     "exception": false,
     "start_time": "2022-08-09T11:30:52.062856",
     "status": "completed"
    },
    "tags": []
   },
   "outputs": [
    {
     "data": {
      "text/html": [
       "<div>\n",
       "<style scoped>\n",
       "    .dataframe tbody tr th:only-of-type {\n",
       "        vertical-align: middle;\n",
       "    }\n",
       "\n",
       "    .dataframe tbody tr th {\n",
       "        vertical-align: top;\n",
       "    }\n",
       "\n",
       "    .dataframe thead th {\n",
       "        text-align: right;\n",
       "    }\n",
       "</style>\n",
       "<table border=\"1\" class=\"dataframe\">\n",
       "  <thead>\n",
       "    <tr style=\"text-align: right;\">\n",
       "      <th></th>\n",
       "      <th>gene_0</th>\n",
       "      <th>gene_1</th>\n",
       "      <th>gene_2</th>\n",
       "      <th>gene_3</th>\n",
       "      <th>gene_4</th>\n",
       "      <th>gene_5</th>\n",
       "      <th>gene_6</th>\n",
       "      <th>gene_7</th>\n",
       "      <th>gene_8</th>\n",
       "      <th>gene_9</th>\n",
       "      <th>...</th>\n",
       "      <th>gene_20521</th>\n",
       "      <th>gene_20522</th>\n",
       "      <th>gene_20523</th>\n",
       "      <th>gene_20524</th>\n",
       "      <th>gene_20525</th>\n",
       "      <th>gene_20526</th>\n",
       "      <th>gene_20527</th>\n",
       "      <th>gene_20528</th>\n",
       "      <th>gene_20529</th>\n",
       "      <th>gene_20530</th>\n",
       "    </tr>\n",
       "  </thead>\n",
       "  <tbody>\n",
       "    <tr>\n",
       "      <th>0</th>\n",
       "      <td>0.0</td>\n",
       "      <td>2.017209</td>\n",
       "      <td>3.265527</td>\n",
       "      <td>5.478487</td>\n",
       "      <td>10.431999</td>\n",
       "      <td>0.0</td>\n",
       "      <td>7.175175</td>\n",
       "      <td>0.591871</td>\n",
       "      <td>0.0</td>\n",
       "      <td>0.0</td>\n",
       "      <td>...</td>\n",
       "      <td>4.926711</td>\n",
       "      <td>8.210257</td>\n",
       "      <td>9.723516</td>\n",
       "      <td>7.220030</td>\n",
       "      <td>9.119813</td>\n",
       "      <td>12.003135</td>\n",
       "      <td>9.650743</td>\n",
       "      <td>8.921326</td>\n",
       "      <td>5.286759</td>\n",
       "      <td>0.000000</td>\n",
       "    </tr>\n",
       "    <tr>\n",
       "      <th>1</th>\n",
       "      <td>0.0</td>\n",
       "      <td>0.592732</td>\n",
       "      <td>1.588421</td>\n",
       "      <td>7.586157</td>\n",
       "      <td>9.623011</td>\n",
       "      <td>0.0</td>\n",
       "      <td>6.816049</td>\n",
       "      <td>0.000000</td>\n",
       "      <td>0.0</td>\n",
       "      <td>0.0</td>\n",
       "      <td>...</td>\n",
       "      <td>4.593372</td>\n",
       "      <td>7.323865</td>\n",
       "      <td>9.740931</td>\n",
       "      <td>6.256586</td>\n",
       "      <td>8.381612</td>\n",
       "      <td>12.674552</td>\n",
       "      <td>10.517059</td>\n",
       "      <td>9.397854</td>\n",
       "      <td>2.094168</td>\n",
       "      <td>0.000000</td>\n",
       "    </tr>\n",
       "    <tr>\n",
       "      <th>2</th>\n",
       "      <td>0.0</td>\n",
       "      <td>3.511759</td>\n",
       "      <td>4.327199</td>\n",
       "      <td>6.881787</td>\n",
       "      <td>9.870730</td>\n",
       "      <td>0.0</td>\n",
       "      <td>6.972130</td>\n",
       "      <td>0.452595</td>\n",
       "      <td>0.0</td>\n",
       "      <td>0.0</td>\n",
       "      <td>...</td>\n",
       "      <td>5.125213</td>\n",
       "      <td>8.127123</td>\n",
       "      <td>10.908640</td>\n",
       "      <td>5.401607</td>\n",
       "      <td>9.911597</td>\n",
       "      <td>9.045255</td>\n",
       "      <td>9.788359</td>\n",
       "      <td>10.090470</td>\n",
       "      <td>1.683023</td>\n",
       "      <td>0.000000</td>\n",
       "    </tr>\n",
       "    <tr>\n",
       "      <th>3</th>\n",
       "      <td>0.0</td>\n",
       "      <td>3.663618</td>\n",
       "      <td>4.507649</td>\n",
       "      <td>6.659068</td>\n",
       "      <td>10.196184</td>\n",
       "      <td>0.0</td>\n",
       "      <td>7.843375</td>\n",
       "      <td>0.434882</td>\n",
       "      <td>0.0</td>\n",
       "      <td>0.0</td>\n",
       "      <td>...</td>\n",
       "      <td>6.076566</td>\n",
       "      <td>8.792959</td>\n",
       "      <td>10.141520</td>\n",
       "      <td>8.942805</td>\n",
       "      <td>9.601208</td>\n",
       "      <td>11.392682</td>\n",
       "      <td>9.694814</td>\n",
       "      <td>9.684365</td>\n",
       "      <td>3.292001</td>\n",
       "      <td>0.000000</td>\n",
       "    </tr>\n",
       "    <tr>\n",
       "      <th>4</th>\n",
       "      <td>0.0</td>\n",
       "      <td>2.655741</td>\n",
       "      <td>2.821547</td>\n",
       "      <td>6.539454</td>\n",
       "      <td>9.738265</td>\n",
       "      <td>0.0</td>\n",
       "      <td>6.566967</td>\n",
       "      <td>0.360982</td>\n",
       "      <td>0.0</td>\n",
       "      <td>0.0</td>\n",
       "      <td>...</td>\n",
       "      <td>5.996032</td>\n",
       "      <td>8.891425</td>\n",
       "      <td>10.373790</td>\n",
       "      <td>7.181162</td>\n",
       "      <td>9.846910</td>\n",
       "      <td>11.922439</td>\n",
       "      <td>9.217749</td>\n",
       "      <td>9.461191</td>\n",
       "      <td>5.110372</td>\n",
       "      <td>0.000000</td>\n",
       "    </tr>\n",
       "    <tr>\n",
       "      <th>...</th>\n",
       "      <td>...</td>\n",
       "      <td>...</td>\n",
       "      <td>...</td>\n",
       "      <td>...</td>\n",
       "      <td>...</td>\n",
       "      <td>...</td>\n",
       "      <td>...</td>\n",
       "      <td>...</td>\n",
       "      <td>...</td>\n",
       "      <td>...</td>\n",
       "      <td>...</td>\n",
       "      <td>...</td>\n",
       "      <td>...</td>\n",
       "      <td>...</td>\n",
       "      <td>...</td>\n",
       "      <td>...</td>\n",
       "      <td>...</td>\n",
       "      <td>...</td>\n",
       "      <td>...</td>\n",
       "      <td>...</td>\n",
       "      <td>...</td>\n",
       "    </tr>\n",
       "    <tr>\n",
       "      <th>796</th>\n",
       "      <td>0.0</td>\n",
       "      <td>1.865642</td>\n",
       "      <td>2.718197</td>\n",
       "      <td>7.350099</td>\n",
       "      <td>10.006003</td>\n",
       "      <td>0.0</td>\n",
       "      <td>6.764792</td>\n",
       "      <td>0.496922</td>\n",
       "      <td>0.0</td>\n",
       "      <td>0.0</td>\n",
       "      <td>...</td>\n",
       "      <td>6.088133</td>\n",
       "      <td>9.118313</td>\n",
       "      <td>10.004852</td>\n",
       "      <td>4.484415</td>\n",
       "      <td>9.614701</td>\n",
       "      <td>12.031267</td>\n",
       "      <td>9.813063</td>\n",
       "      <td>10.092770</td>\n",
       "      <td>8.819269</td>\n",
       "      <td>0.000000</td>\n",
       "    </tr>\n",
       "    <tr>\n",
       "      <th>797</th>\n",
       "      <td>0.0</td>\n",
       "      <td>3.942955</td>\n",
       "      <td>4.453807</td>\n",
       "      <td>6.346597</td>\n",
       "      <td>10.056868</td>\n",
       "      <td>0.0</td>\n",
       "      <td>7.320331</td>\n",
       "      <td>0.000000</td>\n",
       "      <td>0.0</td>\n",
       "      <td>0.0</td>\n",
       "      <td>...</td>\n",
       "      <td>6.371876</td>\n",
       "      <td>9.623335</td>\n",
       "      <td>9.823921</td>\n",
       "      <td>6.555327</td>\n",
       "      <td>9.064002</td>\n",
       "      <td>11.633422</td>\n",
       "      <td>10.317266</td>\n",
       "      <td>8.745983</td>\n",
       "      <td>9.659081</td>\n",
       "      <td>0.000000</td>\n",
       "    </tr>\n",
       "    <tr>\n",
       "      <th>798</th>\n",
       "      <td>0.0</td>\n",
       "      <td>3.249582</td>\n",
       "      <td>3.707492</td>\n",
       "      <td>8.185901</td>\n",
       "      <td>9.504082</td>\n",
       "      <td>0.0</td>\n",
       "      <td>7.536589</td>\n",
       "      <td>1.811101</td>\n",
       "      <td>0.0</td>\n",
       "      <td>0.0</td>\n",
       "      <td>...</td>\n",
       "      <td>5.719386</td>\n",
       "      <td>8.610704</td>\n",
       "      <td>10.485517</td>\n",
       "      <td>3.589763</td>\n",
       "      <td>9.350636</td>\n",
       "      <td>12.180944</td>\n",
       "      <td>10.681194</td>\n",
       "      <td>9.466711</td>\n",
       "      <td>4.677458</td>\n",
       "      <td>0.586693</td>\n",
       "    </tr>\n",
       "    <tr>\n",
       "      <th>799</th>\n",
       "      <td>0.0</td>\n",
       "      <td>2.590339</td>\n",
       "      <td>2.787976</td>\n",
       "      <td>7.318624</td>\n",
       "      <td>9.987136</td>\n",
       "      <td>0.0</td>\n",
       "      <td>9.213464</td>\n",
       "      <td>0.000000</td>\n",
       "      <td>0.0</td>\n",
       "      <td>0.0</td>\n",
       "      <td>...</td>\n",
       "      <td>5.785237</td>\n",
       "      <td>8.605387</td>\n",
       "      <td>11.004677</td>\n",
       "      <td>4.745888</td>\n",
       "      <td>9.626383</td>\n",
       "      <td>11.198279</td>\n",
       "      <td>10.335513</td>\n",
       "      <td>10.400581</td>\n",
       "      <td>5.718751</td>\n",
       "      <td>0.000000</td>\n",
       "    </tr>\n",
       "    <tr>\n",
       "      <th>800</th>\n",
       "      <td>0.0</td>\n",
       "      <td>2.325242</td>\n",
       "      <td>3.805932</td>\n",
       "      <td>6.530246</td>\n",
       "      <td>9.560367</td>\n",
       "      <td>0.0</td>\n",
       "      <td>7.957027</td>\n",
       "      <td>0.000000</td>\n",
       "      <td>0.0</td>\n",
       "      <td>0.0</td>\n",
       "      <td>...</td>\n",
       "      <td>6.403075</td>\n",
       "      <td>8.594354</td>\n",
       "      <td>10.243079</td>\n",
       "      <td>9.139459</td>\n",
       "      <td>10.102934</td>\n",
       "      <td>11.641081</td>\n",
       "      <td>10.607358</td>\n",
       "      <td>9.844794</td>\n",
       "      <td>4.550716</td>\n",
       "      <td>0.000000</td>\n",
       "    </tr>\n",
       "  </tbody>\n",
       "</table>\n",
       "<p>801 rows × 20531 columns</p>\n",
       "</div>"
      ],
      "text/plain": [
       "     gene_0    gene_1    gene_2    gene_3     gene_4  gene_5    gene_6  \\\n",
       "0       0.0  2.017209  3.265527  5.478487  10.431999     0.0  7.175175   \n",
       "1       0.0  0.592732  1.588421  7.586157   9.623011     0.0  6.816049   \n",
       "2       0.0  3.511759  4.327199  6.881787   9.870730     0.0  6.972130   \n",
       "3       0.0  3.663618  4.507649  6.659068  10.196184     0.0  7.843375   \n",
       "4       0.0  2.655741  2.821547  6.539454   9.738265     0.0  6.566967   \n",
       "..      ...       ...       ...       ...        ...     ...       ...   \n",
       "796     0.0  1.865642  2.718197  7.350099  10.006003     0.0  6.764792   \n",
       "797     0.0  3.942955  4.453807  6.346597  10.056868     0.0  7.320331   \n",
       "798     0.0  3.249582  3.707492  8.185901   9.504082     0.0  7.536589   \n",
       "799     0.0  2.590339  2.787976  7.318624   9.987136     0.0  9.213464   \n",
       "800     0.0  2.325242  3.805932  6.530246   9.560367     0.0  7.957027   \n",
       "\n",
       "       gene_7  gene_8  gene_9  ...  gene_20521  gene_20522  gene_20523  \\\n",
       "0    0.591871     0.0     0.0  ...    4.926711    8.210257    9.723516   \n",
       "1    0.000000     0.0     0.0  ...    4.593372    7.323865    9.740931   \n",
       "2    0.452595     0.0     0.0  ...    5.125213    8.127123   10.908640   \n",
       "3    0.434882     0.0     0.0  ...    6.076566    8.792959   10.141520   \n",
       "4    0.360982     0.0     0.0  ...    5.996032    8.891425   10.373790   \n",
       "..        ...     ...     ...  ...         ...         ...         ...   \n",
       "796  0.496922     0.0     0.0  ...    6.088133    9.118313   10.004852   \n",
       "797  0.000000     0.0     0.0  ...    6.371876    9.623335    9.823921   \n",
       "798  1.811101     0.0     0.0  ...    5.719386    8.610704   10.485517   \n",
       "799  0.000000     0.0     0.0  ...    5.785237    8.605387   11.004677   \n",
       "800  0.000000     0.0     0.0  ...    6.403075    8.594354   10.243079   \n",
       "\n",
       "     gene_20524  gene_20525  gene_20526  gene_20527  gene_20528  gene_20529  \\\n",
       "0      7.220030    9.119813   12.003135    9.650743    8.921326    5.286759   \n",
       "1      6.256586    8.381612   12.674552   10.517059    9.397854    2.094168   \n",
       "2      5.401607    9.911597    9.045255    9.788359   10.090470    1.683023   \n",
       "3      8.942805    9.601208   11.392682    9.694814    9.684365    3.292001   \n",
       "4      7.181162    9.846910   11.922439    9.217749    9.461191    5.110372   \n",
       "..          ...         ...         ...         ...         ...         ...   \n",
       "796    4.484415    9.614701   12.031267    9.813063   10.092770    8.819269   \n",
       "797    6.555327    9.064002   11.633422   10.317266    8.745983    9.659081   \n",
       "798    3.589763    9.350636   12.180944   10.681194    9.466711    4.677458   \n",
       "799    4.745888    9.626383   11.198279   10.335513   10.400581    5.718751   \n",
       "800    9.139459   10.102934   11.641081   10.607358    9.844794    4.550716   \n",
       "\n",
       "     gene_20530  \n",
       "0      0.000000  \n",
       "1      0.000000  \n",
       "2      0.000000  \n",
       "3      0.000000  \n",
       "4      0.000000  \n",
       "..          ...  \n",
       "796    0.000000  \n",
       "797    0.000000  \n",
       "798    0.586693  \n",
       "799    0.000000  \n",
       "800    0.000000  \n",
       "\n",
       "[801 rows x 20531 columns]"
      ]
     },
     "execution_count": 35,
     "metadata": {},
     "output_type": "execute_result"
    }
   ],
   "source": [
    "df_lda = df.drop(['Unnamed: 0'], axis=1)\n",
    "df_lda = df_lda.drop(['Class'], axis=1)\n",
    "x_lda = df_lda\n",
    "x_lda"
   ]
  },
  {
   "cell_type": "code",
   "execution_count": 36,
   "id": "e6bc944a",
   "metadata": {
    "execution": {
     "iopub.execute_input": "2022-08-09T11:30:52.460923Z",
     "iopub.status.busy": "2022-08-09T11:30:52.460141Z",
     "iopub.status.idle": "2022-08-09T11:30:52.466946Z",
     "shell.execute_reply": "2022-08-09T11:30:52.465710Z"
    },
    "executionInfo": {
     "elapsed": 18,
     "status": "ok",
     "timestamp": 1655460253928,
     "user": {
      "displayName": "Shibu Mohapatra",
      "userId": "07626953913233812311"
     },
     "user_tz": -330
    },
    "id": "UJsfH6pXr5BE",
    "outputId": "040b1a73-79fc-4163-ebcf-e90d7530671a",
    "papermill": {
     "duration": 0.053039,
     "end_time": "2022-08-09T11:30:52.469171",
     "exception": false,
     "start_time": "2022-08-09T11:30:52.416132",
     "status": "completed"
    },
    "tags": []
   },
   "outputs": [
    {
     "data": {
      "text/plain": [
       "(801, 20531)"
      ]
     },
     "execution_count": 36,
     "metadata": {},
     "output_type": "execute_result"
    }
   ],
   "source": [
    "x_lda.shape"
   ]
  },
  {
   "cell_type": "code",
   "execution_count": 37,
   "id": "f300deca",
   "metadata": {
    "execution": {
     "iopub.execute_input": "2022-08-09T11:30:52.553864Z",
     "iopub.status.busy": "2022-08-09T11:30:52.553114Z",
     "iopub.status.idle": "2022-08-09T11:30:52.562221Z",
     "shell.execute_reply": "2022-08-09T11:30:52.560914Z"
    },
    "executionInfo": {
     "elapsed": 15,
     "status": "ok",
     "timestamp": 1655460253928,
     "user": {
      "displayName": "Shibu Mohapatra",
      "userId": "07626953913233812311"
     },
     "user_tz": -330
    },
    "id": "KI9YWJVTr8iU",
    "outputId": "4724cbb3-b217-4b8b-f5fb-665a60cb29c8",
    "papermill": {
     "duration": 0.054418,
     "end_time": "2022-08-09T11:30:52.564406",
     "exception": false,
     "start_time": "2022-08-09T11:30:52.509988",
     "status": "completed"
    },
    "tags": []
   },
   "outputs": [
    {
     "data": {
      "text/plain": [
       "array([1, 2, 1, 1, 3, 1, 4, 1, 3, 1, 3, 4, 1, 3, 3, 3, 2, 4, 4, 1, 3, 4,\n",
       "       2, 3, 4, 2, 5, 3, 3, 3, 3, 3, 4, 3, 1, 3, 4, 2, 3, 3, 4, 1, 1, 4,\n",
       "       4, 3, 1, 5, 3, 2, 3, 2, 3, 1, 5, 3, 3, 5, 4, 3, 2, 4, 3, 2, 1, 5,\n",
       "       3, 1, 4, 3, 4, 3, 3, 2, 3, 2, 3, 4, 1, 5, 3, 1, 3, 3, 1, 1, 3, 3,\n",
       "       4, 3, 1, 1, 3, 3, 3, 1, 5, 3, 1, 3, 3, 4, 3, 4, 2, 4, 2, 5, 2, 2,\n",
       "       1, 3, 2, 1, 3, 4, 4, 4, 3, 3, 2, 4, 2, 3, 1, 1, 1, 3, 4, 2, 5, 3,\n",
       "       5, 3, 3, 4, 2, 3, 4, 5, 3, 1, 3, 4, 2, 5, 1, 3, 2, 2, 2, 2, 3, 3,\n",
       "       2, 3, 3, 1, 1, 2, 1, 2, 4, 3, 1, 2, 5, 4, 2, 3, 4, 2, 3, 2, 3, 3,\n",
       "       3, 1, 3, 4, 5, 4, 3, 1, 1, 1, 2, 2, 3, 2, 2, 4, 2, 1, 2, 3, 3, 3,\n",
       "       2, 2, 3, 4, 4, 4, 4, 1, 3, 1, 3, 2, 2, 3, 1, 3, 1, 3, 3, 3, 2, 3,\n",
       "       4, 2, 4, 4, 2, 3, 4, 1, 3, 2, 2, 1, 5, 3, 4, 1, 4, 5, 3, 4, 4, 2,\n",
       "       1, 1, 2, 2, 4, 3, 3, 5, 3, 1, 5, 3, 1, 4, 1, 1, 1, 3, 5, 5, 2, 5,\n",
       "       5, 1, 2, 3, 3, 4, 4, 3, 5, 1, 4, 1, 3, 3, 4, 3, 3, 3, 3, 2, 2, 3,\n",
       "       3, 3, 4, 4, 4, 4, 3, 3, 3, 4, 3, 3, 2, 1, 3, 3, 5, 2, 1, 3, 3, 3,\n",
       "       5, 3, 1, 3, 5, 2, 2, 1, 4, 3, 4, 4, 2, 5, 4, 3, 3, 3, 3, 4, 3, 3,\n",
       "       1, 3, 4, 3, 2, 1, 4, 3, 1, 5, 3, 3, 3, 2, 2, 2, 3, 3, 1, 2, 3, 4,\n",
       "       3, 5, 5, 2, 3, 4, 3, 3, 3, 5, 2, 5, 4, 1, 4, 3, 3, 4, 3, 5, 1, 2,\n",
       "       1, 3, 4, 1, 3, 5, 4, 4, 5, 5, 1, 3, 3, 5, 4, 3, 1, 3, 3, 3, 2, 2,\n",
       "       4, 2, 3, 4, 5, 1, 3, 2, 1, 3, 3, 3, 2, 3, 3, 1, 3, 1, 5, 3, 2, 3,\n",
       "       3, 2, 3, 3, 3, 4, 2, 1, 3, 1, 4, 3, 4, 5, 3, 1, 2, 4, 3, 3, 4, 3,\n",
       "       2, 3, 3, 1, 5, 3, 4, 2, 1, 3, 1, 3, 3, 3, 3, 4, 2, 3, 4, 3, 3, 2,\n",
       "       2, 4, 5, 1, 5, 3, 4, 4, 3, 1, 4, 5, 2, 2, 3, 1, 1, 3, 1, 2, 4, 1,\n",
       "       3, 2, 1, 2, 3, 3, 5, 2, 4, 5, 2, 3, 1, 3, 3, 1, 3, 5, 3, 5, 4, 3,\n",
       "       3, 2, 2, 2, 5, 4, 2, 2, 3, 3, 4, 1, 2, 1, 3, 4, 3, 4, 4, 1, 1, 2,\n",
       "       3, 4, 5, 5, 3, 4, 4, 3, 3, 1, 4, 5, 3, 3, 5, 2, 3, 3, 3, 4, 1, 2,\n",
       "       2, 3, 4, 5, 4, 4, 3, 1, 2, 4, 3, 5, 2, 2, 2, 1, 2, 4, 3, 3, 5, 1,\n",
       "       3, 3, 3, 4, 2, 2, 3, 1, 2, 2, 3, 4, 1, 5, 2, 1, 5, 2, 5, 4, 4, 3,\n",
       "       3, 4, 4, 5, 3, 2, 1, 1, 4, 3, 2, 3, 3, 5, 3, 1, 1, 3, 3, 5, 3, 4,\n",
       "       3, 3, 5, 3, 1, 3, 3, 4, 1, 2, 3, 3, 4, 3, 3, 3, 3, 3, 5, 2, 2, 3,\n",
       "       3, 3, 1, 3, 3, 4, 2, 2, 4, 4, 2, 4, 5, 3, 5, 4, 3, 3, 1, 1, 1, 2,\n",
       "       1, 1, 5, 3, 3, 5, 2, 4, 3, 4, 5, 3, 3, 3, 1, 2, 4, 3, 1, 4, 1, 3,\n",
       "       2, 4, 1, 2, 1, 1, 3, 4, 1, 2, 5, 5, 3, 3, 3, 2, 4, 4, 4, 3, 2, 4,\n",
       "       1, 3, 2, 1, 3, 1, 3, 4, 3, 5, 1, 1, 4, 1, 4, 3, 2, 2, 3, 3, 4, 3,\n",
       "       3, 3, 3, 4, 4, 1, 5, 4, 3, 3, 4, 3, 2, 3, 3, 1, 3, 1, 3, 5, 3, 3,\n",
       "       4, 2, 3, 3, 1, 3, 1, 5, 3, 3, 3, 2, 3, 2, 3, 2, 4, 4, 5, 5, 3, 3,\n",
       "       3, 2, 3, 2, 4, 3, 2, 4, 2, 2, 2, 4, 3, 1, 3, 3, 4, 3, 1, 4, 3, 3,\n",
       "       3, 3, 1, 2, 3, 2, 5, 1, 1])"
      ]
     },
     "execution_count": 37,
     "metadata": {},
     "output_type": "execute_result"
    }
   ],
   "source": [
    "y_lda = df['Class']\n",
    "y_lda.values"
   ]
  },
  {
   "cell_type": "code",
   "execution_count": 38,
   "id": "cdf559c3",
   "metadata": {
    "execution": {
     "iopub.execute_input": "2022-08-09T11:30:52.648822Z",
     "iopub.status.busy": "2022-08-09T11:30:52.648345Z",
     "iopub.status.idle": "2022-08-09T11:31:03.952018Z",
     "shell.execute_reply": "2022-08-09T11:31:03.950909Z"
    },
    "id": "vXRnV5NdsAP2",
    "papermill": {
     "duration": 11.351464,
     "end_time": "2022-08-09T11:31:03.956625",
     "exception": false,
     "start_time": "2022-08-09T11:30:52.605161",
     "status": "completed"
    },
    "tags": []
   },
   "outputs": [],
   "source": [
    "from sklearn.discriminant_analysis import LinearDiscriminantAnalysis as LDA\n",
    "lda = LDA(n_components=2)\n",
    "x_r2 = lda.fit(x_lda,y_lda).transform(x_lda)"
   ]
  },
  {
   "cell_type": "code",
   "execution_count": 39,
   "id": "fb791155",
   "metadata": {
    "execution": {
     "iopub.execute_input": "2022-08-09T11:31:04.105135Z",
     "iopub.status.busy": "2022-08-09T11:31:04.104774Z",
     "iopub.status.idle": "2022-08-09T11:31:04.110996Z",
     "shell.execute_reply": "2022-08-09T11:31:04.110198Z"
    },
    "executionInfo": {
     "elapsed": 22,
     "status": "ok",
     "timestamp": 1655460261891,
     "user": {
      "displayName": "Shibu Mohapatra",
      "userId": "07626953913233812311"
     },
     "user_tz": -330
    },
    "id": "sVTLMh5CsBgq",
    "outputId": "89884efd-65a1-4fbe-8db9-dd429413dd52",
    "papermill": {
     "duration": 0.056271,
     "end_time": "2022-08-09T11:31:04.116143",
     "exception": false,
     "start_time": "2022-08-09T11:31:04.059872",
     "status": "completed"
    },
    "tags": []
   },
   "outputs": [
    {
     "data": {
      "text/plain": [
       "array([0.36219022, 0.30156109])"
      ]
     },
     "execution_count": 39,
     "metadata": {},
     "output_type": "execute_result"
    }
   ],
   "source": [
    "lda.explained_variance_ratio_"
   ]
  },
  {
   "cell_type": "code",
   "execution_count": 40,
   "id": "35808b35",
   "metadata": {
    "execution": {
     "iopub.execute_input": "2022-08-09T11:31:04.203564Z",
     "iopub.status.busy": "2022-08-09T11:31:04.202783Z",
     "iopub.status.idle": "2022-08-09T11:31:04.217940Z",
     "shell.execute_reply": "2022-08-09T11:31:04.216758Z"
    },
    "executionInfo": {
     "elapsed": 19,
     "status": "ok",
     "timestamp": 1655460261891,
     "user": {
      "displayName": "Shibu Mohapatra",
      "userId": "07626953913233812311"
     },
     "user_tz": -330
    },
    "id": "h3cS0f-dsFKU",
    "outputId": "52018239-f7b1-4725-ea75-c88243e1e20b",
    "papermill": {
     "duration": 0.061771,
     "end_time": "2022-08-09T11:31:04.220388",
     "exception": false,
     "start_time": "2022-08-09T11:31:04.158617",
     "status": "completed"
    },
    "tags": []
   },
   "outputs": [
    {
     "data": {
      "text/html": [
       "<div>\n",
       "<style scoped>\n",
       "    .dataframe tbody tr th:only-of-type {\n",
       "        vertical-align: middle;\n",
       "    }\n",
       "\n",
       "    .dataframe tbody tr th {\n",
       "        vertical-align: top;\n",
       "    }\n",
       "\n",
       "    .dataframe thead th {\n",
       "        text-align: right;\n",
       "    }\n",
       "</style>\n",
       "<table border=\"1\" class=\"dataframe\">\n",
       "  <thead>\n",
       "    <tr style=\"text-align: right;\">\n",
       "      <th></th>\n",
       "      <th>0</th>\n",
       "      <th>1</th>\n",
       "      <th>y</th>\n",
       "    </tr>\n",
       "  </thead>\n",
       "  <tbody>\n",
       "    <tr>\n",
       "      <th>0</th>\n",
       "      <td>-7.958125</td>\n",
       "      <td>10.922818</td>\n",
       "      <td>1</td>\n",
       "    </tr>\n",
       "    <tr>\n",
       "      <th>1</th>\n",
       "      <td>-0.301563</td>\n",
       "      <td>-2.780898</td>\n",
       "      <td>2</td>\n",
       "    </tr>\n",
       "    <tr>\n",
       "      <th>2</th>\n",
       "      <td>-6.424952</td>\n",
       "      <td>8.870978</td>\n",
       "      <td>1</td>\n",
       "    </tr>\n",
       "    <tr>\n",
       "      <th>3</th>\n",
       "      <td>-6.934259</td>\n",
       "      <td>10.417199</td>\n",
       "      <td>1</td>\n",
       "    </tr>\n",
       "    <tr>\n",
       "      <th>4</th>\n",
       "      <td>-2.872004</td>\n",
       "      <td>-4.912284</td>\n",
       "      <td>3</td>\n",
       "    </tr>\n",
       "    <tr>\n",
       "      <th>...</th>\n",
       "      <td>...</td>\n",
       "      <td>...</td>\n",
       "      <td>...</td>\n",
       "    </tr>\n",
       "    <tr>\n",
       "      <th>796</th>\n",
       "      <td>-2.491183</td>\n",
       "      <td>-6.516482</td>\n",
       "      <td>3</td>\n",
       "    </tr>\n",
       "    <tr>\n",
       "      <th>797</th>\n",
       "      <td>0.217789</td>\n",
       "      <td>-1.859410</td>\n",
       "      <td>2</td>\n",
       "    </tr>\n",
       "    <tr>\n",
       "      <th>798</th>\n",
       "      <td>-1.426674</td>\n",
       "      <td>-0.474514</td>\n",
       "      <td>5</td>\n",
       "    </tr>\n",
       "    <tr>\n",
       "      <th>799</th>\n",
       "      <td>-7.800641</td>\n",
       "      <td>12.104337</td>\n",
       "      <td>1</td>\n",
       "    </tr>\n",
       "    <tr>\n",
       "      <th>800</th>\n",
       "      <td>-7.306312</td>\n",
       "      <td>7.388476</td>\n",
       "      <td>1</td>\n",
       "    </tr>\n",
       "  </tbody>\n",
       "</table>\n",
       "<p>801 rows × 3 columns</p>\n",
       "</div>"
      ],
      "text/plain": [
       "            0          1  y\n",
       "0   -7.958125  10.922818  1\n",
       "1   -0.301563  -2.780898  2\n",
       "2   -6.424952   8.870978  1\n",
       "3   -6.934259  10.417199  1\n",
       "4   -2.872004  -4.912284  3\n",
       "..        ...        ... ..\n",
       "796 -2.491183  -6.516482  3\n",
       "797  0.217789  -1.859410  2\n",
       "798 -1.426674  -0.474514  5\n",
       "799 -7.800641  12.104337  1\n",
       "800 -7.306312   7.388476  1\n",
       "\n",
       "[801 rows x 3 columns]"
      ]
     },
     "execution_count": 40,
     "metadata": {},
     "output_type": "execute_result"
    }
   ],
   "source": [
    "x_r3 = pd.DataFrame(data=x_r2)\n",
    "x_r3['y']=y_lda\n",
    "x_r3"
   ]
  },
  {
   "cell_type": "code",
   "execution_count": 41,
   "id": "6929c118",
   "metadata": {
    "execution": {
     "iopub.execute_input": "2022-08-09T11:31:04.308516Z",
     "iopub.status.busy": "2022-08-09T11:31:04.307761Z",
     "iopub.status.idle": "2022-08-09T11:31:04.641461Z",
     "shell.execute_reply": "2022-08-09T11:31:04.640648Z"
    },
    "executionInfo": {
     "elapsed": 1134,
     "status": "ok",
     "timestamp": 1655460263008,
     "user": {
      "displayName": "Shibu Mohapatra",
      "userId": "07626953913233812311"
     },
     "user_tz": -330
    },
    "id": "oW-G1eu_sIJV",
    "outputId": "73aa4680-ac30-4667-d1f9-0c985e4414b5",
    "papermill": {
     "duration": 0.380935,
     "end_time": "2022-08-09T11:31:04.644080",
     "exception": false,
     "start_time": "2022-08-09T11:31:04.263145",
     "status": "completed"
    },
    "tags": []
   },
   "outputs": [
    {
     "data": {
      "text/plain": [
       "<AxesSubplot:xlabel='0', ylabel='1'>"
      ]
     },
     "execution_count": 41,
     "metadata": {},
     "output_type": "execute_result"
    },
    {
     "data": {
      "image/png": "[encoded data removed]",
      "text/plain": [
       "<Figure size 432x288 with 1 Axes>"
      ]
     },
     "metadata": {
      "needs_background": "light"
     },
     "output_type": "display_data"
    }
   ],
   "source": [
    "sns.scatterplot(x=0,y=1,hue = 'y', data=x_r3)"
   ]
  },
  {
   "cell_type": "markdown",
   "id": "80676273",
   "metadata": {
    "id": "7lqps8iTsOmr",
    "papermill": {
     "duration": 0.045647,
     "end_time": "2022-08-09T11:31:04.735410",
     "exception": false,
     "start_time": "2022-08-09T11:31:04.689763",
     "status": "completed"
    },
    "tags": []
   },
   "source": [
    "Clustering Genes and Samples\n"
   ]
  },
  {
   "cell_type": "markdown",
   "id": "ca5ba902",
   "metadata": {
    "id": "Cm3-eIr2sSuZ",
    "papermill": {
     "duration": 0.043499,
     "end_time": "2022-08-09T11:31:04.822945",
     "exception": false,
     "start_time": "2022-08-09T11:31:04.779446",
     "status": "completed"
    },
    "tags": []
   },
   "source": [
    "1. Our next goal is to identify groups of genes that behave similarly across samples and identify the distribution of samples corresponding to each cancer type. Therefore, this task focuses on applying various clustering techniques, e.g., k-means, hierarchical and mean shift clustering, on genes and samples."
   ]
  },
  {
   "cell_type": "markdown",
   "id": "919096b5",
   "metadata": {
    "id": "4XTKxyVDskrN",
    "papermill": {
     "duration": 0.043915,
     "end_time": "2022-08-09T11:31:04.912170",
     "exception": false,
     "start_time": "2022-08-09T11:31:04.868255",
     "status": "completed"
    },
    "tags": []
   },
   "source": [
    "First, apply the given clustering technique on all genes to identify:\n",
    "\n",
    "* Genes whose expression values are similar across all samples\n",
    "\n",
    "* Genes whose expression values are similar across samples of each cancer type \n",
    "\n",
    "\n",
    "Next, apply the given clustering technique on all samples to identify:\n",
    "\n",
    "* Samples of the same class (cancer type) which also correspond to the same cluster\n",
    "\n",
    "* Samples identified to be belonging to another cluster but also to the same class (cancer type)\n",
    "\n"
   ]
  },
  {
   "cell_type": "markdown",
   "id": "0d2f1161",
   "metadata": {
    "id": "XBwP9dVDHFuM",
    "papermill": {
     "duration": 0.041684,
     "end_time": "2022-08-09T11:31:04.997379",
     "exception": false,
     "start_time": "2022-08-09T11:31:04.955695",
     "status": "completed"
    },
    "tags": []
   },
   "source": [
    "KMEANS Clustering with PCA = 2"
   ]
  },
  {
   "cell_type": "code",
   "execution_count": 42,
   "id": "3944506d",
   "metadata": {
    "execution": {
     "iopub.execute_input": "2022-08-09T11:31:05.083892Z",
     "iopub.status.busy": "2022-08-09T11:31:05.083105Z",
     "iopub.status.idle": "2022-08-09T11:31:05.191533Z",
     "shell.execute_reply": "2022-08-09T11:31:05.190286Z"
    },
    "executionInfo": {
     "elapsed": 362,
     "status": "ok",
     "timestamp": 1655460310734,
     "user": {
      "displayName": "Shibu Mohapatra",
      "userId": "07626953913233812311"
     },
     "user_tz": -330
    },
    "id": "AdkiMDTMsvP2",
    "outputId": "580ab40b-d38f-4c10-f056-76f8e6fcdfb8",
    "papermill": {
     "duration": 0.155357,
     "end_time": "2022-08-09T11:31:05.194656",
     "exception": false,
     "start_time": "2022-08-09T11:31:05.039299",
     "status": "completed"
    },
    "tags": []
   },
   "outputs": [
    {
     "data": {
      "text/plain": [
       "array([4, 0, 1, 1, 3, 1, 2, 0, 3, 1, 0, 2, 0, 4, 3, 3, 0, 2, 2, 1, 3, 0,\n",
       "       0, 1, 2, 0, 1, 3, 0, 3, 3, 3, 2, 4, 1, 3, 2, 0, 1, 4, 2, 1, 0, 2,\n",
       "       2, 3, 4, 1, 3, 0, 3, 1, 3, 1, 1, 1, 3, 1, 2, 0, 0, 0, 3, 0, 1, 1,\n",
       "       0, 1, 2, 1, 2, 0, 1, 0, 3, 1, 3, 4, 0, 1, 3, 1, 3, 3, 4, 1, 3, 1,\n",
       "       2, 1, 1, 1, 3, 4, 3, 1, 1, 3, 3, 0, 3, 2, 3, 2, 0, 2, 1, 1, 1, 0,\n",
       "       4, 3, 0, 1, 3, 2, 2, 2, 3, 3, 0, 2, 1, 1, 0, 0, 1, 3, 2, 1, 1, 1,\n",
       "       4, 0, 3, 2, 2, 3, 2, 1, 3, 1, 3, 2, 0, 1, 4, 3, 0, 1, 0, 0, 3, 3,\n",
       "       0, 0, 3, 0, 1, 0, 4, 0, 2, 0, 0, 0, 1, 2, 0, 3, 2, 0, 3, 1, 3, 1,\n",
       "       0, 0, 0, 2, 1, 2, 3, 0, 1, 0, 0, 0, 3, 0, 0, 2, 4, 3, 1, 3, 4, 3,\n",
       "       1, 0, 3, 2, 2, 2, 2, 3, 4, 1, 0, 0, 0, 3, 0, 1, 1, 0, 3, 3, 0, 0,\n",
       "       2, 0, 2, 2, 0, 3, 2, 1, 3, 0, 4, 3, 1, 4, 2, 0, 2, 1, 0, 2, 2, 3,\n",
       "       1, 0, 0, 1, 2, 0, 0, 1, 3, 1, 0, 0, 0, 2, 4, 0, 0, 3, 0, 1, 0, 1,\n",
       "       1, 1, 0, 1, 3, 2, 2, 3, 1, 4, 2, 1, 3, 3, 2, 3, 3, 3, 4, 1, 0, 3,\n",
       "       3, 3, 2, 2, 2, 2, 4, 3, 3, 2, 3, 3, 0, 0, 0, 3, 4, 1, 1, 3, 3, 3,\n",
       "       4, 0, 3, 3, 1, 1, 0, 1, 2, 1, 2, 2, 3, 1, 0, 3, 3, 3, 3, 2, 3, 3,\n",
       "       1, 1, 2, 3, 0, 0, 2, 3, 1, 1, 0, 3, 3, 0, 4, 0, 3, 3, 1, 0, 3, 2,\n",
       "       3, 1, 0, 0, 3, 2, 3, 3, 1, 1, 0, 1, 2, 1, 2, 0, 3, 2, 3, 1, 1, 0,\n",
       "       1, 4, 2, 1, 3, 1, 2, 2, 1, 1, 1, 3, 4, 1, 2, 4, 1, 1, 3, 3, 0, 0,\n",
       "       2, 0, 3, 2, 1, 3, 3, 1, 0, 1, 4, 3, 1, 3, 1, 0, 0, 1, 1, 3, 3, 3,\n",
       "       3, 0, 3, 0, 3, 2, 0, 3, 3, 0, 2, 1, 2, 4, 3, 1, 0, 2, 3, 3, 2, 3,\n",
       "       0, 1, 3, 1, 4, 1, 2, 0, 4, 1, 1, 3, 3, 3, 3, 2, 3, 0, 2, 3, 3, 1,\n",
       "       0, 2, 1, 0, 1, 0, 2, 2, 1, 0, 2, 1, 0, 1, 3, 0, 0, 0, 0, 3, 2, 0,\n",
       "       0, 4, 0, 4, 3, 3, 1, 1, 2, 1, 1, 1, 1, 4, 0, 0, 3, 1, 3, 4, 2, 3,\n",
       "       3, 1, 3, 3, 1, 2, 0, 1, 3, 3, 0, 0, 1, 0, 3, 2, 1, 2, 2, 4, 0, 0,\n",
       "       0, 2, 1, 1, 3, 2, 2, 3, 0, 0, 2, 1, 0, 3, 1, 0, 3, 0, 3, 2, 0, 1,\n",
       "       0, 1, 2, 1, 2, 2, 1, 0, 1, 2, 3, 1, 1, 0, 0, 0, 0, 2, 3, 3, 1, 1,\n",
       "       3, 0, 3, 2, 0, 1, 1, 1, 1, 3, 3, 2, 1, 4, 1, 0, 1, 0, 4, 2, 2, 3,\n",
       "       3, 2, 2, 1, 3, 0, 1, 1, 2, 3, 0, 3, 0, 1, 0, 4, 1, 0, 3, 4, 3, 2,\n",
       "       3, 0, 0, 3, 0, 1, 3, 2, 1, 0, 3, 3, 2, 0, 3, 3, 3, 4, 1, 0, 0, 1,\n",
       "       3, 3, 0, 3, 3, 2, 1, 3, 2, 2, 0, 2, 1, 0, 4, 2, 3, 3, 0, 0, 1, 0,\n",
       "       1, 3, 1, 3, 3, 1, 1, 2, 3, 2, 1, 3, 3, 0, 3, 0, 2, 3, 3, 2, 1, 3,\n",
       "       0, 2, 1, 0, 0, 0, 4, 2, 1, 0, 1, 1, 3, 0, 3, 0, 2, 2, 2, 0, 0, 2,\n",
       "       0, 3, 0, 4, 3, 1, 3, 2, 0, 0, 0, 0, 2, 0, 2, 3, 0, 0, 3, 4, 2, 3,\n",
       "       1, 3, 1, 2, 2, 0, 1, 2, 1, 4, 2, 3, 0, 0, 1, 3, 4, 1, 1, 1, 0, 3,\n",
       "       2, 0, 3, 3, 0, 3, 1, 0, 3, 0, 3, 0, 3, 1, 0, 0, 2, 2, 1, 1, 3, 3,\n",
       "       3, 1, 3, 0, 0, 0, 0, 2, 1, 0, 1, 2, 3, 4, 1, 1, 2, 3, 3, 0, 3, 3,\n",
       "       3, 3, 0, 0, 3, 1, 0, 1, 1], dtype=int32)"
      ]
     },
     "execution_count": 42,
     "metadata": {},
     "output_type": "execute_result"
    }
   ],
   "source": [
    "from sklearn.cluster import KMeans\n",
    "clusters = KMeans(5, n_init = 5)\n",
    "clusters.fit(X_pca_with_2)\n",
    "\n",
    "clusters.labels_"
   ]
  },
  {
   "cell_type": "code",
   "execution_count": 43,
   "id": "06c1adba",
   "metadata": {
    "execution": {
     "iopub.execute_input": "2022-08-09T11:31:05.282647Z",
     "iopub.status.busy": "2022-08-09T11:31:05.281815Z",
     "iopub.status.idle": "2022-08-09T11:31:05.294054Z",
     "shell.execute_reply": "2022-08-09T11:31:05.292807Z"
    },
    "executionInfo": {
     "elapsed": 4,
     "status": "ok",
     "timestamp": 1655460314546,
     "user": {
      "displayName": "Shibu Mohapatra",
      "userId": "07626953913233812311"
     },
     "user_tz": -330
    },
    "id": "8vXr5is0HKbt",
    "outputId": "751ef99b-fdbd-4d51-f115-5c86c5891588",
    "papermill": {
     "duration": 0.059093,
     "end_time": "2022-08-09T11:31:05.296956",
     "exception": false,
     "start_time": "2022-08-09T11:31:05.237863",
     "status": "completed"
    },
    "tags": []
   },
   "outputs": [
    {
     "data": {
      "text/html": [
       "<div>\n",
       "<style scoped>\n",
       "    .dataframe tbody tr th:only-of-type {\n",
       "        vertical-align: middle;\n",
       "    }\n",
       "\n",
       "    .dataframe tbody tr th {\n",
       "        vertical-align: top;\n",
       "    }\n",
       "\n",
       "    .dataframe thead th {\n",
       "        text-align: right;\n",
       "    }\n",
       "</style>\n",
       "<table border=\"1\" class=\"dataframe\">\n",
       "  <thead>\n",
       "    <tr style=\"text-align: right;\">\n",
       "      <th></th>\n",
       "      <th>pca1</th>\n",
       "      <th>pca2</th>\n",
       "    </tr>\n",
       "  </thead>\n",
       "  <tbody>\n",
       "    <tr>\n",
       "      <th>0</th>\n",
       "      <td>-57.446987</td>\n",
       "      <td>95.410981</td>\n",
       "    </tr>\n",
       "    <tr>\n",
       "      <th>1</th>\n",
       "      <td>-16.919430</td>\n",
       "      <td>0.732470</td>\n",
       "    </tr>\n",
       "    <tr>\n",
       "      <th>2</th>\n",
       "      <td>-70.345218</td>\n",
       "      <td>-19.303326</td>\n",
       "    </tr>\n",
       "    <tr>\n",
       "      <th>3</th>\n",
       "      <td>-49.161591</td>\n",
       "      <td>-9.227586</td>\n",
       "    </tr>\n",
       "    <tr>\n",
       "      <th>4</th>\n",
       "      <td>-18.132534</td>\n",
       "      <td>-51.327797</td>\n",
       "    </tr>\n",
       "  </tbody>\n",
       "</table>\n",
       "</div>"
      ],
      "text/plain": [
       "        pca1       pca2\n",
       "0 -57.446987  95.410981\n",
       "1 -16.919430   0.732470\n",
       "2 -70.345218 -19.303326\n",
       "3 -49.161591  -9.227586\n",
       "4 -18.132534 -51.327797"
      ]
     },
     "execution_count": 43,
     "metadata": {},
     "output_type": "execute_result"
    }
   ],
   "source": [
    "pca_with_2_data_frame = pd.DataFrame(data=X_pca_with_2,columns=['pca1','pca2'])\n",
    "pca_with_2_data_frame.head()"
   ]
  },
  {
   "cell_type": "code",
   "execution_count": 44,
   "id": "0362fe3d",
   "metadata": {
    "execution": {
     "iopub.execute_input": "2022-08-09T11:31:05.386212Z",
     "iopub.status.busy": "2022-08-09T11:31:05.385734Z",
     "iopub.status.idle": "2022-08-09T11:31:05.406187Z",
     "shell.execute_reply": "2022-08-09T11:31:05.405034Z"
    },
    "executionInfo": {
     "elapsed": 8,
     "status": "ok",
     "timestamp": 1655460315124,
     "user": {
      "displayName": "Shibu Mohapatra",
      "userId": "07626953913233812311"
     },
     "user_tz": -330
    },
    "id": "ZNCD7F7QHNL2",
    "outputId": "9aa405de-a911-45c4-aa03-8744729ec009",
    "papermill": {
     "duration": 0.068387,
     "end_time": "2022-08-09T11:31:05.408806",
     "exception": false,
     "start_time": "2022-08-09T11:31:05.340419",
     "status": "completed"
    },
    "tags": []
   },
   "outputs": [
    {
     "data": {
      "text/html": [
       "<div>\n",
       "<style scoped>\n",
       "    .dataframe tbody tr th:only-of-type {\n",
       "        vertical-align: middle;\n",
       "    }\n",
       "\n",
       "    .dataframe tbody tr th {\n",
       "        vertical-align: top;\n",
       "    }\n",
       "\n",
       "    .dataframe thead th {\n",
       "        text-align: right;\n",
       "    }\n",
       "</style>\n",
       "<table border=\"1\" class=\"dataframe\">\n",
       "  <thead>\n",
       "    <tr style=\"text-align: right;\">\n",
       "      <th></th>\n",
       "      <th>pca1</th>\n",
       "      <th>pca2</th>\n",
       "      <th>Cls_label</th>\n",
       "      <th>given_cancer_type</th>\n",
       "    </tr>\n",
       "  </thead>\n",
       "  <tbody>\n",
       "    <tr>\n",
       "      <th>0</th>\n",
       "      <td>-57.446987</td>\n",
       "      <td>95.410981</td>\n",
       "      <td>4</td>\n",
       "      <td>PRAD</td>\n",
       "    </tr>\n",
       "    <tr>\n",
       "      <th>1</th>\n",
       "      <td>-16.919430</td>\n",
       "      <td>0.732470</td>\n",
       "      <td>0</td>\n",
       "      <td>LUAD</td>\n",
       "    </tr>\n",
       "    <tr>\n",
       "      <th>2</th>\n",
       "      <td>-70.345218</td>\n",
       "      <td>-19.303326</td>\n",
       "      <td>1</td>\n",
       "      <td>PRAD</td>\n",
       "    </tr>\n",
       "    <tr>\n",
       "      <th>3</th>\n",
       "      <td>-49.161591</td>\n",
       "      <td>-9.227586</td>\n",
       "      <td>1</td>\n",
       "      <td>PRAD</td>\n",
       "    </tr>\n",
       "    <tr>\n",
       "      <th>4</th>\n",
       "      <td>-18.132534</td>\n",
       "      <td>-51.327797</td>\n",
       "      <td>3</td>\n",
       "      <td>BRCA</td>\n",
       "    </tr>\n",
       "    <tr>\n",
       "      <th>...</th>\n",
       "      <td>...</td>\n",
       "      <td>...</td>\n",
       "      <td>...</td>\n",
       "      <td>...</td>\n",
       "    </tr>\n",
       "    <tr>\n",
       "      <th>796</th>\n",
       "      <td>-12.417385</td>\n",
       "      <td>-42.321573</td>\n",
       "      <td>3</td>\n",
       "      <td>BRCA</td>\n",
       "    </tr>\n",
       "    <tr>\n",
       "      <th>797</th>\n",
       "      <td>-29.415555</td>\n",
       "      <td>28.526282</td>\n",
       "      <td>1</td>\n",
       "      <td>LUAD</td>\n",
       "    </tr>\n",
       "    <tr>\n",
       "      <th>798</th>\n",
       "      <td>-4.133089</td>\n",
       "      <td>15.690012</td>\n",
       "      <td>0</td>\n",
       "      <td>COAD</td>\n",
       "    </tr>\n",
       "    <tr>\n",
       "      <th>799</th>\n",
       "      <td>-30.814757</td>\n",
       "      <td>33.526422</td>\n",
       "      <td>1</td>\n",
       "      <td>PRAD</td>\n",
       "    </tr>\n",
       "    <tr>\n",
       "      <th>800</th>\n",
       "      <td>-22.344557</td>\n",
       "      <td>4.052356</td>\n",
       "      <td>1</td>\n",
       "      <td>PRAD</td>\n",
       "    </tr>\n",
       "  </tbody>\n",
       "</table>\n",
       "<p>801 rows × 4 columns</p>\n",
       "</div>"
      ],
      "text/plain": [
       "          pca1       pca2  Cls_label given_cancer_type\n",
       "0   -57.446987  95.410981          4              PRAD\n",
       "1   -16.919430   0.732470          0              LUAD\n",
       "2   -70.345218 -19.303326          1              PRAD\n",
       "3   -49.161591  -9.227586          1              PRAD\n",
       "4   -18.132534 -51.327797          3              BRCA\n",
       "..         ...        ...        ...               ...\n",
       "796 -12.417385 -42.321573          3              BRCA\n",
       "797 -29.415555  28.526282          1              LUAD\n",
       "798  -4.133089  15.690012          0              COAD\n",
       "799 -30.814757  33.526422          1              PRAD\n",
       "800 -22.344557   4.052356          1              PRAD\n",
       "\n",
       "[801 rows x 4 columns]"
      ]
     },
     "execution_count": 44,
     "metadata": {},
     "output_type": "execute_result"
    }
   ],
   "source": [
    "pca_with_2_data_frame['Cls_label'] = clusters.labels_\n",
    "pca_with_2_data_frame['given_cancer_type'] = label.Class.values\n",
    "pca_with_2_data_frame"
   ]
  },
  {
   "cell_type": "code",
   "execution_count": 45,
   "id": "d3bf7bd2",
   "metadata": {
    "execution": {
     "iopub.execute_input": "2022-08-09T11:31:05.498308Z",
     "iopub.status.busy": "2022-08-09T11:31:05.497830Z",
     "iopub.status.idle": "2022-08-09T11:31:05.513806Z",
     "shell.execute_reply": "2022-08-09T11:31:05.512622Z"
    },
    "executionInfo": {
     "elapsed": 5,
     "status": "ok",
     "timestamp": 1655460315478,
     "user": {
      "displayName": "Shibu Mohapatra",
      "userId": "07626953913233812311"
     },
     "user_tz": -330
    },
    "id": "x0Y7NRfbHPcW",
    "outputId": "aa2ab10a-5e77-4480-e622-6d88070fb015",
    "papermill": {
     "duration": 0.062801,
     "end_time": "2022-08-09T11:31:05.516318",
     "exception": false,
     "start_time": "2022-08-09T11:31:05.453517",
     "status": "completed"
    },
    "tags": []
   },
   "outputs": [
    {
     "data": {
      "text/plain": [
       "3    195\n",
       "0     49\n",
       "1     37\n",
       "4     19\n",
       "Name: Cls_label, dtype: int64"
      ]
     },
     "execution_count": 45,
     "metadata": {},
     "output_type": "execute_result"
    }
   ],
   "source": [
    "brca = pca_with_2_data_frame.groupby('given_cancer_type').get_group('BRCA')\n",
    "brca.Cls_label.value_counts()"
   ]
  },
  {
   "cell_type": "code",
   "execution_count": 46,
   "id": "ac284c35",
   "metadata": {
    "execution": {
     "iopub.execute_input": "2022-08-09T11:31:05.604727Z",
     "iopub.status.busy": "2022-08-09T11:31:05.604232Z",
     "iopub.status.idle": "2022-08-09T11:31:05.615058Z",
     "shell.execute_reply": "2022-08-09T11:31:05.614202Z"
    },
    "executionInfo": {
     "elapsed": 449,
     "status": "ok",
     "timestamp": 1655460318426,
     "user": {
      "displayName": "Shibu Mohapatra",
      "userId": "07626953913233812311"
     },
     "user_tz": -330
    },
    "id": "srkbgYaSHQr_",
    "outputId": "c2b5bd1b-b138-4713-a960-0009935010c0",
    "papermill": {
     "duration": 0.057324,
     "end_time": "2022-08-09T11:31:05.617072",
     "exception": false,
     "start_time": "2022-08-09T11:31:05.559748",
     "status": "completed"
    },
    "tags": []
   },
   "outputs": [
    {
     "data": {
      "text/plain": [
       "0    90\n",
       "1    36\n",
       "3     9\n",
       "4     5\n",
       "2     1\n",
       "Name: Cls_label, dtype: int64"
      ]
     },
     "execution_count": 46,
     "metadata": {},
     "output_type": "execute_result"
    }
   ],
   "source": [
    "luad = pca_with_2_data_frame.groupby('given_cancer_type').get_group('LUAD')\n",
    "luad.Cls_label.value_counts()"
   ]
  },
  {
   "cell_type": "code",
   "execution_count": 47,
   "id": "97f9b105",
   "metadata": {
    "execution": {
     "iopub.execute_input": "2022-08-09T11:31:05.705327Z",
     "iopub.status.busy": "2022-08-09T11:31:05.704485Z",
     "iopub.status.idle": "2022-08-09T11:31:05.714723Z",
     "shell.execute_reply": "2022-08-09T11:31:05.713870Z"
    },
    "executionInfo": {
     "elapsed": 2,
     "status": "ok",
     "timestamp": 1655460318808,
     "user": {
      "displayName": "Shibu Mohapatra",
      "userId": "07626953913233812311"
     },
     "user_tz": -330
    },
    "id": "vLeX-HzVHSVD",
    "outputId": "4dd0b803-c29e-44d7-f5f3-38878a2219d3",
    "papermill": {
     "duration": 0.057379,
     "end_time": "2022-08-09T11:31:05.717088",
     "exception": false,
     "start_time": "2022-08-09T11:31:05.659709",
     "status": "completed"
    },
    "tags": []
   },
   "outputs": [
    {
     "data": {
      "text/plain": [
       "1    61\n",
       "4    10\n",
       "0     7\n",
       "Name: Cls_label, dtype: int64"
      ]
     },
     "execution_count": 47,
     "metadata": {},
     "output_type": "execute_result"
    }
   ],
   "source": [
    "coad = pca_with_2_data_frame.groupby('given_cancer_type').get_group('COAD')\n",
    "coad.Cls_label.value_counts()"
   ]
  },
  {
   "cell_type": "code",
   "execution_count": 48,
   "id": "f19336a6",
   "metadata": {
    "execution": {
     "iopub.execute_input": "2022-08-09T11:31:05.807478Z",
     "iopub.status.busy": "2022-08-09T11:31:05.806674Z",
     "iopub.status.idle": "2022-08-09T11:31:05.817371Z",
     "shell.execute_reply": "2022-08-09T11:31:05.815913Z"
    },
    "executionInfo": {
     "elapsed": 588,
     "status": "ok",
     "timestamp": 1655460321814,
     "user": {
      "displayName": "Shibu Mohapatra",
      "userId": "07626953913233812311"
     },
     "user_tz": -330
    },
    "id": "d5SUZzJpHUNR",
    "outputId": "493b8ea2-2966-411f-a44e-f895272b7023",
    "papermill": {
     "duration": 0.058754,
     "end_time": "2022-08-09T11:31:05.819640",
     "exception": false,
     "start_time": "2022-08-09T11:31:05.760886",
     "status": "completed"
    },
    "tags": []
   },
   "outputs": [
    {
     "data": {
      "text/plain": [
       "1    60\n",
       "0    51\n",
       "4    13\n",
       "3    12\n",
       "Name: Cls_label, dtype: int64"
      ]
     },
     "execution_count": 48,
     "metadata": {},
     "output_type": "execute_result"
    }
   ],
   "source": [
    "prad = pca_with_2_data_frame.groupby('given_cancer_type').get_group('PRAD')\n",
    "prad.Cls_label.value_counts()"
   ]
  },
  {
   "cell_type": "code",
   "execution_count": 49,
   "id": "c0b8e81f",
   "metadata": {
    "execution": {
     "iopub.execute_input": "2022-08-09T11:31:05.909519Z",
     "iopub.status.busy": "2022-08-09T11:31:05.908245Z",
     "iopub.status.idle": "2022-08-09T11:31:05.920215Z",
     "shell.execute_reply": "2022-08-09T11:31:05.918978Z"
    },
    "executionInfo": {
     "elapsed": 5,
     "status": "ok",
     "timestamp": 1655460322279,
     "user": {
      "displayName": "Shibu Mohapatra",
      "userId": "07626953913233812311"
     },
     "user_tz": -330
    },
    "id": "VHgX2vTnHVaW",
    "outputId": "391936c6-edd4-43d0-88e1-5850ce37c815",
    "papermill": {
     "duration": 0.059978,
     "end_time": "2022-08-09T11:31:05.922670",
     "exception": false,
     "start_time": "2022-08-09T11:31:05.862692",
     "status": "completed"
    },
    "tags": []
   },
   "outputs": [
    {
     "data": {
      "text/plain": [
       "2    139\n",
       "0      6\n",
       "4      1\n",
       "Name: Cls_label, dtype: int64"
      ]
     },
     "execution_count": 49,
     "metadata": {},
     "output_type": "execute_result"
    }
   ],
   "source": [
    "kirc = pca_with_2_data_frame.groupby('given_cancer_type').get_group('KIRC')\n",
    "kirc.Cls_label.value_counts()"
   ]
  },
  {
   "cell_type": "code",
   "execution_count": 50,
   "id": "7e52c05b",
   "metadata": {
    "execution": {
     "iopub.execute_input": "2022-08-09T11:31:06.014555Z",
     "iopub.status.busy": "2022-08-09T11:31:06.013685Z",
     "iopub.status.idle": "2022-08-09T11:31:06.020714Z",
     "shell.execute_reply": "2022-08-09T11:31:06.019773Z"
    },
    "executionInfo": {
     "elapsed": 482,
     "status": "ok",
     "timestamp": 1655460324819,
     "user": {
      "displayName": "Shibu Mohapatra",
      "userId": "07626953913233812311"
     },
     "user_tz": -330
    },
    "id": "UXNJGY2OHXDv",
    "outputId": "69a8b33c-bc99-4a41-e65d-937596b02f8b",
    "papermill": {
     "duration": 0.055734,
     "end_time": "2022-08-09T11:31:06.022914",
     "exception": false,
     "start_time": "2022-08-09T11:31:05.967180",
     "status": "completed"
    },
    "tags": []
   },
   "outputs": [
    {
     "data": {
      "text/plain": [
       "array([[  0.36903942,   1.18629821],\n",
       "       [-40.807418  ,  16.32951238],\n",
       "       [ 80.53911416,  32.98851345],\n",
       "       [ -2.37250516, -53.32481196],\n",
       "       [-60.80310902,  73.86530565]])"
      ]
     },
     "execution_count": 50,
     "metadata": {},
     "output_type": "execute_result"
    }
   ],
   "source": [
    "clusters.cluster_centers_"
   ]
  },
  {
   "cell_type": "code",
   "execution_count": 51,
   "id": "101b24de",
   "metadata": {
    "execution": {
     "iopub.execute_input": "2022-08-09T11:31:06.113420Z",
     "iopub.status.busy": "2022-08-09T11:31:06.112320Z",
     "iopub.status.idle": "2022-08-09T11:31:06.438926Z",
     "shell.execute_reply": "2022-08-09T11:31:06.437391Z"
    },
    "executionInfo": {
     "elapsed": 819,
     "status": "ok",
     "timestamp": 1655460327464,
     "user": {
      "displayName": "Shibu Mohapatra",
      "userId": "07626953913233812311"
     },
     "user_tz": -330
    },
    "id": "DZfEkNjjHYnT",
    "outputId": "976cbe85-dbfd-4350-b270-7916689d624b",
    "papermill": {
     "duration": 0.375214,
     "end_time": "2022-08-09T11:31:06.442291",
     "exception": false,
     "start_time": "2022-08-09T11:31:06.067077",
     "status": "completed"
    },
    "tags": []
   },
   "outputs": [
    {
     "data": {
      "image/png": "[encoded data removed]",
      "text/plain": [
       "<Figure size 432x288 with 1 Axes>"
      ]
     },
     "metadata": {
      "needs_background": "light"
     },
     "output_type": "display_data"
    }
   ],
   "source": [
    "kmeans = KMeans(n_clusters=5, init='k-means++', max_iter=300, n_init=10, random_state=0)\n",
    "pred_y = kmeans.fit_predict(X_pca_with_2)\n",
    "plt.scatter(X_pca_with_2[:,0], X_pca_with_2[:,1])\n",
    "plt.scatter(kmeans.cluster_centers_[:, 0], kmeans.cluster_centers_[:, 1], s=300, c='red')\n",
    "plt.show()"
   ]
  },
  {
   "cell_type": "markdown",
   "id": "50143863",
   "metadata": {
    "id": "nzXRg6L7HytQ",
    "papermill": {
     "duration": 0.045759,
     "end_time": "2022-08-09T11:31:06.535706",
     "exception": false,
     "start_time": "2022-08-09T11:31:06.489947",
     "status": "completed"
    },
    "tags": []
   },
   "source": [
    "KMEANS Clustering with PCA = .995"
   ]
  },
  {
   "cell_type": "code",
   "execution_count": 52,
   "id": "138abf72",
   "metadata": {
    "execution": {
     "iopub.execute_input": "2022-08-09T11:31:06.630455Z",
     "iopub.status.busy": "2022-08-09T11:31:06.630029Z",
     "iopub.status.idle": "2022-08-09T11:31:07.409953Z",
     "shell.execute_reply": "2022-08-09T11:31:07.408533Z"
    },
    "executionInfo": {
     "elapsed": 629,
     "status": "ok",
     "timestamp": 1655460345913,
     "user": {
      "displayName": "Shibu Mohapatra",
      "userId": "07626953913233812311"
     },
     "user_tz": -330
    },
    "id": "j8k49rN_HxVj",
    "outputId": "b350cf15-98b4-41dd-d69c-2e4c551db6d9",
    "papermill": {
     "duration": 0.830513,
     "end_time": "2022-08-09T11:31:07.412629",
     "exception": false,
     "start_time": "2022-08-09T11:31:06.582116",
     "status": "completed"
    },
    "tags": []
   },
   "outputs": [
    {
     "data": {
      "text/plain": [
       "array([1, 0, 1, 1, 2, 1, 3, 1, 2, 1, 2, 3, 1, 2, 2, 2, 0, 3, 3, 1, 2, 3,\n",
       "       0, 2, 3, 0, 4, 2, 2, 2, 2, 2, 3, 2, 1, 2, 3, 0, 2, 2, 3, 1, 1, 3,\n",
       "       3, 2, 1, 4, 2, 0, 2, 0, 2, 1, 4, 2, 2, 4, 3, 2, 0, 2, 2, 0, 1, 4,\n",
       "       2, 1, 3, 2, 3, 2, 2, 0, 2, 0, 2, 3, 1, 4, 2, 1, 2, 2, 1, 1, 2, 2,\n",
       "       3, 2, 1, 1, 2, 2, 2, 1, 4, 2, 1, 2, 2, 3, 2, 3, 0, 3, 0, 4, 0, 0,\n",
       "       1, 2, 0, 1, 2, 3, 3, 3, 2, 2, 0, 3, 0, 2, 1, 1, 1, 2, 3, 2, 4, 2,\n",
       "       4, 2, 2, 3, 0, 2, 3, 4, 2, 1, 2, 3, 0, 4, 1, 2, 0, 0, 0, 0, 2, 2,\n",
       "       0, 2, 2, 1, 1, 0, 1, 0, 3, 2, 1, 0, 4, 3, 0, 2, 3, 0, 2, 0, 2, 2,\n",
       "       2, 1, 2, 3, 4, 3, 2, 1, 1, 1, 0, 0, 2, 0, 0, 3, 0, 1, 0, 2, 2, 2,\n",
       "       0, 0, 2, 3, 3, 3, 3, 1, 2, 1, 2, 0, 0, 2, 1, 2, 1, 2, 2, 2, 0, 2,\n",
       "       3, 0, 3, 3, 0, 2, 3, 1, 2, 0, 0, 1, 4, 2, 3, 1, 3, 4, 2, 3, 3, 0,\n",
       "       1, 1, 0, 0, 3, 2, 2, 4, 2, 1, 4, 2, 1, 3, 1, 1, 1, 2, 4, 4, 0, 4,\n",
       "       4, 1, 0, 2, 2, 3, 3, 2, 4, 1, 3, 1, 2, 2, 3, 2, 2, 2, 2, 0, 0, 2,\n",
       "       2, 2, 3, 3, 3, 3, 2, 2, 2, 3, 2, 2, 0, 1, 2, 2, 4, 0, 1, 2, 2, 2,\n",
       "       4, 2, 1, 2, 4, 0, 0, 1, 3, 2, 3, 3, 0, 4, 3, 2, 2, 2, 2, 3, 2, 2,\n",
       "       1, 2, 3, 2, 0, 1, 3, 2, 1, 4, 2, 2, 2, 0, 0, 0, 2, 2, 1, 0, 2, 3,\n",
       "       2, 4, 4, 0, 2, 3, 2, 2, 2, 4, 0, 4, 3, 1, 3, 2, 2, 3, 2, 4, 1, 0,\n",
       "       1, 2, 3, 1, 2, 4, 3, 3, 4, 4, 1, 2, 2, 4, 3, 0, 1, 2, 2, 2, 0, 0,\n",
       "       3, 0, 2, 3, 4, 1, 2, 0, 1, 2, 2, 2, 0, 2, 2, 1, 2, 1, 4, 2, 0, 2,\n",
       "       2, 0, 2, 2, 2, 3, 0, 1, 2, 1, 3, 2, 3, 4, 2, 1, 0, 3, 2, 2, 3, 2,\n",
       "       0, 2, 2, 1, 4, 2, 3, 0, 1, 2, 1, 2, 2, 2, 2, 3, 0, 2, 3, 2, 2, 0,\n",
       "       0, 3, 4, 1, 4, 2, 3, 3, 2, 1, 3, 4, 0, 0, 2, 1, 1, 2, 1, 0, 3, 1,\n",
       "       2, 0, 1, 0, 2, 2, 4, 0, 3, 4, 0, 2, 1, 2, 2, 1, 2, 4, 2, 4, 3, 2,\n",
       "       2, 0, 0, 0, 4, 3, 0, 0, 2, 2, 3, 1, 0, 1, 2, 3, 2, 3, 3, 1, 1, 0,\n",
       "       2, 3, 4, 4, 2, 3, 3, 2, 2, 1, 3, 4, 2, 2, 4, 0, 2, 2, 2, 3, 1, 0,\n",
       "       0, 2, 3, 4, 3, 3, 2, 1, 0, 3, 2, 4, 0, 0, 0, 1, 0, 3, 2, 2, 4, 1,\n",
       "       2, 2, 2, 3, 0, 0, 2, 1, 0, 0, 2, 3, 1, 4, 0, 1, 4, 0, 4, 3, 3, 2,\n",
       "       2, 3, 3, 4, 2, 2, 1, 1, 3, 2, 0, 2, 2, 4, 2, 1, 1, 2, 2, 4, 2, 3,\n",
       "       2, 2, 4, 2, 1, 2, 2, 3, 1, 0, 2, 2, 3, 2, 2, 2, 2, 2, 4, 0, 0, 2,\n",
       "       2, 2, 1, 2, 2, 3, 0, 0, 3, 3, 0, 3, 4, 2, 4, 3, 2, 2, 1, 1, 1, 0,\n",
       "       1, 1, 4, 2, 2, 4, 0, 3, 2, 3, 4, 2, 2, 2, 1, 0, 3, 2, 1, 3, 1, 2,\n",
       "       0, 3, 1, 0, 1, 1, 2, 3, 1, 0, 4, 4, 2, 2, 2, 0, 3, 3, 3, 2, 0, 3,\n",
       "       1, 2, 0, 1, 2, 1, 2, 3, 2, 4, 1, 1, 3, 1, 3, 2, 0, 0, 2, 2, 3, 2,\n",
       "       2, 2, 2, 3, 3, 1, 4, 3, 2, 2, 3, 2, 0, 2, 2, 1, 2, 1, 2, 4, 2, 2,\n",
       "       3, 0, 2, 2, 1, 2, 1, 4, 2, 2, 2, 0, 2, 0, 2, 0, 3, 3, 4, 4, 2, 2,\n",
       "       2, 0, 2, 0, 3, 2, 0, 3, 0, 0, 0, 3, 2, 1, 2, 2, 3, 2, 1, 3, 2, 2,\n",
       "       2, 2, 1, 0, 2, 0, 0, 1, 1], dtype=int32)"
      ]
     },
     "execution_count": 52,
     "metadata": {},
     "output_type": "execute_result"
    }
   ],
   "source": [
    "from sklearn.cluster import KMeans\n",
    "clusters_995 = KMeans(5, n_init = 5)\n",
    "clusters_995.fit(X_pca_with_995)\n",
    "clusters_995.labels_"
   ]
  },
  {
   "cell_type": "code",
   "execution_count": 53,
   "id": "a412e23b",
   "metadata": {
    "execution": {
     "iopub.execute_input": "2022-08-09T11:31:07.507392Z",
     "iopub.status.busy": "2022-08-09T11:31:07.506942Z",
     "iopub.status.idle": "2022-08-09T11:31:07.516806Z",
     "shell.execute_reply": "2022-08-09T11:31:07.515552Z"
    },
    "id": "trRloZ6rH3AC",
    "papermill": {
     "duration": 0.05918,
     "end_time": "2022-08-09T11:31:07.518978",
     "exception": false,
     "start_time": "2022-08-09T11:31:07.459798",
     "status": "completed"
    },
    "tags": []
   },
   "outputs": [],
   "source": [
    "pca_with_995_data_frame = pd.DataFrame(data=X_pca_with_995)\n",
    "pca_with_995_data_frame.head()\n",
    "pca_with_995_data_frame['Cls_label'] = clusters.labels_\n",
    "pca_with_995_data_frame['given_cancer_type'] = label.Class.values"
   ]
  },
  {
   "cell_type": "code",
   "execution_count": 54,
   "id": "03118235",
   "metadata": {
    "execution": {
     "iopub.execute_input": "2022-08-09T11:31:07.609180Z",
     "iopub.status.busy": "2022-08-09T11:31:07.608729Z",
     "iopub.status.idle": "2022-08-09T11:31:07.616563Z",
     "shell.execute_reply": "2022-08-09T11:31:07.615365Z"
    },
    "executionInfo": {
     "elapsed": 421,
     "status": "ok",
     "timestamp": 1655460351880,
     "user": {
      "displayName": "Shibu Mohapatra",
      "userId": "07626953913233812311"
     },
     "user_tz": -330
    },
    "id": "dxx3BuDSH3mX",
    "outputId": "fdf19923-3b8a-4703-eeb6-a1fbb711be44",
    "papermill": {
     "duration": 0.056357,
     "end_time": "2022-08-09T11:31:07.619010",
     "exception": false,
     "start_time": "2022-08-09T11:31:07.562653",
     "status": "completed"
    },
    "tags": []
   },
   "outputs": [
    {
     "data": {
      "text/plain": [
       "(801, 749)"
      ]
     },
     "execution_count": 54,
     "metadata": {},
     "output_type": "execute_result"
    }
   ],
   "source": [
    "pca_with_995_data_frame.shape"
   ]
  },
  {
   "cell_type": "code",
   "execution_count": 55,
   "id": "33d21a01",
   "metadata": {
    "execution": {
     "iopub.execute_input": "2022-08-09T11:31:07.709934Z",
     "iopub.status.busy": "2022-08-09T11:31:07.709470Z",
     "iopub.status.idle": "2022-08-09T11:31:07.722717Z",
     "shell.execute_reply": "2022-08-09T11:31:07.721554Z"
    },
    "executionInfo": {
     "elapsed": 5,
     "status": "ok",
     "timestamp": 1655460352792,
     "user": {
      "displayName": "Shibu Mohapatra",
      "userId": "07626953913233812311"
     },
     "user_tz": -330
    },
    "id": "Y5A7UEbsH5pd",
    "outputId": "dff56d7d-f98f-4814-e4fd-f822769b5147",
    "papermill": {
     "duration": 0.062408,
     "end_time": "2022-08-09T11:31:07.725154",
     "exception": false,
     "start_time": "2022-08-09T11:31:07.662746",
     "status": "completed"
    },
    "tags": []
   },
   "outputs": [
    {
     "data": {
      "text/plain": [
       "3    195\n",
       "0     49\n",
       "1     37\n",
       "4     19\n",
       "Name: Cls_label, dtype: int64"
      ]
     },
     "execution_count": 55,
     "metadata": {},
     "output_type": "execute_result"
    }
   ],
   "source": [
    "brca_995 = pca_with_995_data_frame.groupby('given_cancer_type').get_group('BRCA')\n",
    "brca_995.Cls_label.value_counts()"
   ]
  },
  {
   "cell_type": "code",
   "execution_count": 56,
   "id": "d79f09fe",
   "metadata": {
    "execution": {
     "iopub.execute_input": "2022-08-09T11:31:07.816133Z",
     "iopub.status.busy": "2022-08-09T11:31:07.815699Z",
     "iopub.status.idle": "2022-08-09T11:31:07.828553Z",
     "shell.execute_reply": "2022-08-09T11:31:07.827099Z"
    },
    "executionInfo": {
     "elapsed": 361,
     "status": "ok",
     "timestamp": 1655460366566,
     "user": {
      "displayName": "Shibu Mohapatra",
      "userId": "07626953913233812311"
     },
     "user_tz": -330
    },
    "id": "t-Z22mDhIH58",
    "outputId": "3648fb18-9ec4-4c77-8bad-920136da09ba",
    "papermill": {
     "duration": 0.061405,
     "end_time": "2022-08-09T11:31:07.830867",
     "exception": false,
     "start_time": "2022-08-09T11:31:07.769462",
     "status": "completed"
    },
    "tags": []
   },
   "outputs": [
    {
     "data": {
      "text/plain": [
       "0    90\n",
       "1    36\n",
       "3     9\n",
       "4     5\n",
       "2     1\n",
       "Name: Cls_label, dtype: int64"
      ]
     },
     "execution_count": 56,
     "metadata": {},
     "output_type": "execute_result"
    }
   ],
   "source": [
    "luad_995 = pca_with_995_data_frame.groupby('given_cancer_type').get_group('LUAD')\n",
    "luad_995.Cls_label.value_counts()"
   ]
  },
  {
   "cell_type": "code",
   "execution_count": 57,
   "id": "a3c85f90",
   "metadata": {
    "execution": {
     "iopub.execute_input": "2022-08-09T11:31:07.937901Z",
     "iopub.status.busy": "2022-08-09T11:31:07.937257Z",
     "iopub.status.idle": "2022-08-09T11:31:07.956893Z",
     "shell.execute_reply": "2022-08-09T11:31:07.955552Z"
    },
    "executionInfo": {
     "elapsed": 388,
     "status": "ok",
     "timestamp": 1655460372893,
     "user": {
      "displayName": "Shibu Mohapatra",
      "userId": "07626953913233812311"
     },
     "user_tz": -330
    },
    "id": "SLN3ZADuIJeM",
    "outputId": "5fd21af2-e362-44bc-dbed-0abd52e6882c",
    "papermill": {
     "duration": 0.085927,
     "end_time": "2022-08-09T11:31:07.960634",
     "exception": false,
     "start_time": "2022-08-09T11:31:07.874707",
     "status": "completed"
    },
    "tags": []
   },
   "outputs": [
    {
     "data": {
      "text/plain": [
       "1    61\n",
       "4    10\n",
       "0     7\n",
       "Name: Cls_label, dtype: int64"
      ]
     },
     "execution_count": 57,
     "metadata": {},
     "output_type": "execute_result"
    }
   ],
   "source": [
    "coad_995 = pca_with_995_data_frame.groupby('given_cancer_type').get_group('COAD')\n",
    "coad_995.Cls_label.value_counts()"
   ]
  },
  {
   "cell_type": "code",
   "execution_count": 58,
   "id": "bead0136",
   "metadata": {
    "execution": {
     "iopub.execute_input": "2022-08-09T11:31:08.076321Z",
     "iopub.status.busy": "2022-08-09T11:31:08.075847Z",
     "iopub.status.idle": "2022-08-09T11:31:08.089787Z",
     "shell.execute_reply": "2022-08-09T11:31:08.088386Z"
    },
    "executionInfo": {
     "elapsed": 414,
     "status": "ok",
     "timestamp": 1655460380421,
     "user": {
      "displayName": "Shibu Mohapatra",
      "userId": "07626953913233812311"
     },
     "user_tz": -330
    },
    "id": "_nTo_G4oIK9Z",
    "outputId": "d465cd4d-ca59-4c35-b90a-2423238b3514",
    "papermill": {
     "duration": 0.071738,
     "end_time": "2022-08-09T11:31:08.092288",
     "exception": false,
     "start_time": "2022-08-09T11:31:08.020550",
     "status": "completed"
    },
    "tags": []
   },
   "outputs": [
    {
     "data": {
      "text/plain": [
       "1    60\n",
       "0    51\n",
       "4    13\n",
       "3    12\n",
       "Name: Cls_label, dtype: int64"
      ]
     },
     "execution_count": 58,
     "metadata": {},
     "output_type": "execute_result"
    }
   ],
   "source": [
    "prad_995 = pca_with_995_data_frame.groupby('given_cancer_type').get_group('PRAD')\n",
    "prad_995.Cls_label.value_counts()"
   ]
  },
  {
   "cell_type": "code",
   "execution_count": 59,
   "id": "b9cd31df",
   "metadata": {
    "execution": {
     "iopub.execute_input": "2022-08-09T11:31:08.192857Z",
     "iopub.status.busy": "2022-08-09T11:31:08.192412Z",
     "iopub.status.idle": "2022-08-09T11:31:08.205919Z",
     "shell.execute_reply": "2022-08-09T11:31:08.204340Z"
    },
    "executionInfo": {
     "elapsed": 384,
     "status": "ok",
     "timestamp": 1655460389571,
     "user": {
      "displayName": "Shibu Mohapatra",
      "userId": "07626953913233812311"
     },
     "user_tz": -330
    },
    "id": "gh1j0elFIL62",
    "outputId": "f0c7230d-e305-4a59-c3d8-4279cf5aa59f",
    "papermill": {
     "duration": 0.067799,
     "end_time": "2022-08-09T11:31:08.208685",
     "exception": false,
     "start_time": "2022-08-09T11:31:08.140886",
     "status": "completed"
    },
    "tags": []
   },
   "outputs": [
    {
     "data": {
      "text/plain": [
       "2    139\n",
       "0      6\n",
       "4      1\n",
       "Name: Cls_label, dtype: int64"
      ]
     },
     "execution_count": 59,
     "metadata": {},
     "output_type": "execute_result"
    }
   ],
   "source": [
    "kirc_995 = pca_with_995_data_frame.groupby('given_cancer_type').get_group('KIRC')\n",
    "kirc_995.Cls_label.value_counts()"
   ]
  },
  {
   "cell_type": "code",
   "execution_count": 60,
   "id": "d5f6df23",
   "metadata": {
    "execution": {
     "iopub.execute_input": "2022-08-09T11:31:08.313016Z",
     "iopub.status.busy": "2022-08-09T11:31:08.312641Z",
     "iopub.status.idle": "2022-08-09T11:31:09.919315Z",
     "shell.execute_reply": "2022-08-09T11:31:09.917586Z"
    },
    "executionInfo": {
     "elapsed": 1892,
     "status": "ok",
     "timestamp": 1655460401466,
     "user": {
      "displayName": "Shibu Mohapatra",
      "userId": "07626953913233812311"
     },
     "user_tz": -330
    },
    "id": "vc6tcl_YIP-1",
    "outputId": "b6ae8d9f-fa2b-4c21-ceba-85fe9e12ee27",
    "papermill": {
     "duration": 1.661178,
     "end_time": "2022-08-09T11:31:09.922251",
     "exception": false,
     "start_time": "2022-08-09T11:31:08.261073",
     "status": "completed"
    },
    "tags": []
   },
   "outputs": [
    {
     "data": {
      "image/png": "[encoded data removed]",
      "text/plain": [
       "<Figure size 432x288 with 1 Axes>"
      ]
     },
     "metadata": {
      "needs_background": "light"
     },
     "output_type": "display_data"
    }
   ],
   "source": [
    "kmeans = KMeans(n_clusters=5, init='k-means++', max_iter=300, n_init=10, random_state=0)\n",
    "pred_y = kmeans.fit_predict(X_pca_with_995)\n",
    "plt.scatter(X_pca_with_995[:,0], X_pca_with_995[:,1])\n",
    "plt.scatter(kmeans.cluster_centers_[:, 0], kmeans.cluster_centers_[:, 1], s=300, c='red')\n",
    "plt.show()"
   ]
  },
  {
   "cell_type": "markdown",
   "id": "ee6f1860",
   "metadata": {
    "id": "5GofaC7oIozJ",
    "papermill": {
     "duration": 0.052277,
     "end_time": "2022-08-09T11:31:10.027794",
     "exception": false,
     "start_time": "2022-08-09T11:31:09.975517",
     "status": "completed"
    },
    "tags": []
   },
   "source": [
    "Building Classification Model(s) with Feature Selection:"
   ]
  },
  {
   "cell_type": "markdown",
   "id": "ed64ccaa",
   "metadata": {
    "id": "IPwUt-g_Iq6q",
    "papermill": {
     "duration": 0.04852,
     "end_time": "2022-08-09T11:31:10.126556",
     "exception": false,
     "start_time": "2022-08-09T11:31:10.078036",
     "status": "completed"
    },
    "tags": []
   },
   "source": [
    "1. Task is to build a robust classification model(s) for identifying each type of cancer. It also aims at the to do feature selection in order to identify the genes that help in classifying each cancer type."
   ]
  },
  {
   "cell_type": "markdown",
   "id": "6f225057",
   "metadata": {
    "id": "gfJn6uj7Jzm1",
    "papermill": {
     "duration": 0.048968,
     "end_time": "2022-08-09T11:31:10.224614",
     "exception": false,
     "start_time": "2022-08-09T11:31:10.175646",
     "status": "completed"
    },
    "tags": []
   },
   "source": [
    "1. Build a classification model(s) using multiclass SVM, Random Forest, and Deep Neural Network to classify the input data into five cancer types"
   ]
  },
  {
   "cell_type": "markdown",
   "id": "049fd2a1",
   "metadata": {
    "id": "3MJ_lDQcI0cv",
    "papermill": {
     "duration": 0.050877,
     "end_time": "2022-08-09T11:31:10.324960",
     "exception": false,
     "start_time": "2022-08-09T11:31:10.274083",
     "status": "completed"
    },
    "tags": []
   },
   "source": [
    "Decision tree clasifier"
   ]
  },
  {
   "cell_type": "code",
   "execution_count": 61,
   "id": "bd1b70b5",
   "metadata": {
    "execution": {
     "iopub.execute_input": "2022-08-09T11:31:10.427776Z",
     "iopub.status.busy": "2022-08-09T11:31:10.426652Z",
     "iopub.status.idle": "2022-08-09T11:31:10.580709Z",
     "shell.execute_reply": "2022-08-09T11:31:10.578772Z"
    },
    "id": "M_Q34ns0ItY2",
    "papermill": {
     "duration": 0.20828,
     "end_time": "2022-08-09T11:31:10.583588",
     "exception": false,
     "start_time": "2022-08-09T11:31:10.375308",
     "status": "completed"
    },
    "tags": []
   },
   "outputs": [],
   "source": [
    "ml_x = x_lda\n",
    "ml_y = y_lda\n",
    "ml_x.shape,ml_y.shape\n",
    "\n",
    "from sklearn.model_selection import train_test_split\n",
    "\n",
    "x_train, x_test, y_train, y_test = train_test_split(ml_x,ml_y,test_size=0.30,random_state=30)"
   ]
  },
  {
   "cell_type": "code",
   "execution_count": 62,
   "id": "ec187daa",
   "metadata": {
    "execution": {
     "iopub.execute_input": "2022-08-09T11:31:10.691609Z",
     "iopub.status.busy": "2022-08-09T11:31:10.691092Z",
     "iopub.status.idle": "2022-08-09T11:31:14.581071Z",
     "shell.execute_reply": "2022-08-09T11:31:14.579587Z"
    },
    "executionInfo": {
     "elapsed": 5861,
     "status": "ok",
     "timestamp": 1655460588913,
     "user": {
      "displayName": "Shibu Mohapatra",
      "userId": "07626953913233812311"
     },
     "user_tz": -330
    },
    "id": "7-lZDvpxI7pv",
    "outputId": "6d07753e-919c-4fd4-84e2-388ebc140f51",
    "papermill": {
     "duration": 3.947512,
     "end_time": "2022-08-09T11:31:14.583928",
     "exception": false,
     "start_time": "2022-08-09T11:31:10.636416",
     "status": "completed"
    },
    "tags": []
   },
   "outputs": [
    {
     "data": {
      "text/plain": [
       "0.9626556016597511"
      ]
     },
     "execution_count": 62,
     "metadata": {},
     "output_type": "execute_result"
    }
   ],
   "source": [
    "from sklearn import tree\n",
    "\n",
    "dt_clf = tree.DecisionTreeClassifier(max_depth=5)\n",
    "dt_clf.fit(x_train,y_train)\n",
    "dt_clf.score(x_test,y_test)\n",
    "\n",
    "y_pred=(dt_clf.predict(x_test))\n",
    "dt_clf.score(x_test,y_test)"
   ]
  },
  {
   "cell_type": "markdown",
   "id": "49bbed26",
   "metadata": {
    "id": "kRtRiaIgI_07",
    "papermill": {
     "duration": 0.048077,
     "end_time": "2022-08-09T11:31:14.680551",
     "exception": false,
     "start_time": "2022-08-09T11:31:14.632474",
     "status": "completed"
    },
    "tags": []
   },
   "source": [
    "SVM"
   ]
  },
  {
   "cell_type": "code",
   "execution_count": 63,
   "id": "c3965c3a",
   "metadata": {
    "execution": {
     "iopub.execute_input": "2022-08-09T11:31:14.779695Z",
     "iopub.status.busy": "2022-08-09T11:31:14.778842Z",
     "iopub.status.idle": "2022-08-09T11:31:23.121082Z",
     "shell.execute_reply": "2022-08-09T11:31:23.119935Z"
    },
    "executionInfo": {
     "elapsed": 15066,
     "status": "ok",
     "timestamp": 1655460623638,
     "user": {
      "displayName": "Shibu Mohapatra",
      "userId": "07626953913233812311"
     },
     "user_tz": -330
    },
    "id": "Jh_Ga71WJClQ",
    "outputId": "9ebdb956-4fb0-4c58-9cdc-49da187e7072",
    "papermill": {
     "duration": 8.395988,
     "end_time": "2022-08-09T11:31:23.124712",
     "exception": false,
     "start_time": "2022-08-09T11:31:14.728724",
     "status": "completed"
    },
    "tags": []
   },
   "outputs": [
    {
     "name": "stdout",
     "output_type": "stream",
     "text": [
      "1.0\n"
     ]
    }
   ],
   "source": [
    "from sklearn.metrics import accuracy_score\n",
    "from sklearn.svm import SVC\n",
    "\n",
    "sv_clf = SVC(probability=True, kernel='linear')\n",
    "sv_clf.fit(x_train,y_train)\n",
    "sv_clf.score(x_test,y_test)\n",
    "\n",
    "\n",
    "y_pred = sv_clf.predict(x_test)\n",
    "print(accuracy_score(y_test,y_pred))"
   ]
  },
  {
   "cell_type": "markdown",
   "id": "58554556",
   "metadata": {
    "id": "mZ9SXxV4JE1q",
    "papermill": {
     "duration": 0.046035,
     "end_time": "2022-08-09T11:31:23.286169",
     "exception": false,
     "start_time": "2022-08-09T11:31:23.240134",
     "status": "completed"
    },
    "tags": []
   },
   "source": [
    "Random forest"
   ]
  },
  {
   "cell_type": "code",
   "execution_count": 64,
   "id": "dc31dd20",
   "metadata": {
    "execution": {
     "iopub.execute_input": "2022-08-09T11:31:23.381766Z",
     "iopub.status.busy": "2022-08-09T11:31:23.381338Z",
     "iopub.status.idle": "2022-08-09T11:31:26.023245Z",
     "shell.execute_reply": "2022-08-09T11:31:26.022093Z"
    },
    "executionInfo": {
     "elapsed": 4210,
     "status": "ok",
     "timestamp": 1655460642425,
     "user": {
      "displayName": "Shibu Mohapatra",
      "userId": "07626953913233812311"
     },
     "user_tz": -330
    },
    "id": "SREWrYd4JIo7",
    "outputId": "697f1907-e52e-4d33-a1c7-bbd520434778",
    "papermill": {
     "duration": 2.693649,
     "end_time": "2022-08-09T11:31:26.026316",
     "exception": false,
     "start_time": "2022-08-09T11:31:23.332667",
     "status": "completed"
    },
    "tags": []
   },
   "outputs": [
    {
     "data": {
      "text/plain": [
       "0.9875518672199171"
      ]
     },
     "execution_count": 64,
     "metadata": {},
     "output_type": "execute_result"
    }
   ],
   "source": [
    "from sklearn import ensemble\n",
    "\n",
    "rf_clf = ensemble.RandomForestClassifier(n_estimators=100)\n",
    "rf_clf.fit(x_train,y_train)\n",
    "rf_clf.score(x_test,y_test)"
   ]
  },
  {
   "cell_type": "markdown",
   "id": "e09fdb9c",
   "metadata": {
    "id": "fiE0ioYSJOHg",
    "papermill": {
     "duration": 0.046313,
     "end_time": "2022-08-09T11:31:26.120018",
     "exception": false,
     "start_time": "2022-08-09T11:31:26.073705",
     "status": "completed"
    },
    "tags": []
   },
   "source": [
    "Naive Bayes Classifier"
   ]
  },
  {
   "cell_type": "code",
   "execution_count": 65,
   "id": "bd7b88c9",
   "metadata": {
    "execution": {
     "iopub.execute_input": "2022-08-09T11:31:26.218590Z",
     "iopub.status.busy": "2022-08-09T11:31:26.217652Z",
     "iopub.status.idle": "2022-08-09T11:31:26.953663Z",
     "shell.execute_reply": "2022-08-09T11:31:26.952800Z"
    },
    "executionInfo": {
     "elapsed": 1553,
     "status": "ok",
     "timestamp": 1655460668463,
     "user": {
      "displayName": "Shibu Mohapatra",
      "userId": "07626953913233812311"
     },
     "user_tz": -330
    },
    "id": "PYPyI_44JNmi",
    "outputId": "2bef3f1f-fe47-41bc-8ed8-7df875abd9f5",
    "papermill": {
     "duration": 0.786544,
     "end_time": "2022-08-09T11:31:26.955857",
     "exception": false,
     "start_time": "2022-08-09T11:31:26.169313",
     "status": "completed"
    },
    "tags": []
   },
   "outputs": [
    {
     "data": {
      "text/plain": [
       "0.7385892116182573"
      ]
     },
     "execution_count": 65,
     "metadata": {},
     "output_type": "execute_result"
    }
   ],
   "source": [
    "from sklearn.naive_bayes import GaussianNB\n",
    "\n",
    "gb_clf = GaussianNB()\n",
    "gb_clf.fit(x_train,y_train)\n",
    "gb_clf.score(x_test,y_test)"
   ]
  },
  {
   "cell_type": "markdown",
   "id": "e3e1e00f",
   "metadata": {
    "id": "zQjv3jaZJZ1a",
    "papermill": {
     "duration": 0.05009,
     "end_time": "2022-08-09T11:31:27.055891",
     "exception": false,
     "start_time": "2022-08-09T11:31:27.005801",
     "status": "completed"
    },
    "tags": []
   },
   "source": [
    "KNN classifier"
   ]
  },
  {
   "cell_type": "code",
   "execution_count": 66,
   "id": "db743685",
   "metadata": {
    "execution": {
     "iopub.execute_input": "2022-08-09T11:31:27.156558Z",
     "iopub.status.busy": "2022-08-09T11:31:27.155775Z",
     "iopub.status.idle": "2022-08-09T11:31:27.629923Z",
     "shell.execute_reply": "2022-08-09T11:31:27.628708Z"
    },
    "executionInfo": {
     "elapsed": 1014,
     "status": "ok",
     "timestamp": 1655460715751,
     "user": {
      "displayName": "Shibu Mohapatra",
      "userId": "07626953913233812311"
     },
     "user_tz": -330
    },
    "id": "1EEAMxgVJcgo",
    "outputId": "d81c7b7d-5f93-4742-b24d-b902fea8749f",
    "papermill": {
     "duration": 0.528936,
     "end_time": "2022-08-09T11:31:27.633941",
     "exception": false,
     "start_time": "2022-08-09T11:31:27.105005",
     "status": "completed"
    },
    "tags": []
   },
   "outputs": [
    {
     "data": {
      "text/plain": [
       "0.995850622406639"
      ]
     },
     "execution_count": 66,
     "metadata": {},
     "output_type": "execute_result"
    }
   ],
   "source": [
    "from sklearn.neighbors import KNeighborsClassifier\n",
    "\n",
    "knn_clf = KNeighborsClassifier(n_neighbors=5)\n",
    "knn_clf.fit(x_train,y_train)\n",
    "knn_clf.score(x_test,y_test)"
   ]
  },
  {
   "cell_type": "markdown",
   "id": "fd501fb7",
   "metadata": {
    "id": "oQSerQvYKgQS",
    "papermill": {
     "duration": 0.049046,
     "end_time": "2022-08-09T11:31:27.786109",
     "exception": false,
     "start_time": "2022-08-09T11:31:27.737063",
     "status": "completed"
    },
    "tags": []
   },
   "source": [
    "Deep Neural Network"
   ]
  },
  {
   "cell_type": "code",
   "execution_count": 67,
   "id": "658d316e",
   "metadata": {
    "execution": {
     "iopub.execute_input": "2022-08-09T11:31:27.887381Z",
     "iopub.status.busy": "2022-08-09T11:31:27.886874Z",
     "iopub.status.idle": "2022-08-09T11:31:28.022125Z",
     "shell.execute_reply": "2022-08-09T11:31:28.020644Z"
    },
    "executionInfo": {
     "elapsed": 411,
     "status": "ok",
     "timestamp": 1655461036012,
     "user": {
      "displayName": "Shibu Mohapatra",
      "userId": "07626953913233812311"
     },
     "user_tz": -330
    },
    "id": "TSUrXu7dKlTg",
    "outputId": "c1bf031a-5abb-4438-8358-8dac907c64cd",
    "papermill": {
     "duration": 0.189893,
     "end_time": "2022-08-09T11:31:28.024923",
     "exception": false,
     "start_time": "2022-08-09T11:31:27.835030",
     "status": "completed"
    },
    "tags": []
   },
   "outputs": [
    {
     "data": {
      "text/html": [
       "<div>\n",
       "<style scoped>\n",
       "    .dataframe tbody tr th:only-of-type {\n",
       "        vertical-align: middle;\n",
       "    }\n",
       "\n",
       "    .dataframe tbody tr th {\n",
       "        vertical-align: top;\n",
       "    }\n",
       "\n",
       "    .dataframe thead th {\n",
       "        text-align: right;\n",
       "    }\n",
       "</style>\n",
       "<table border=\"1\" class=\"dataframe\">\n",
       "  <thead>\n",
       "    <tr style=\"text-align: right;\">\n",
       "      <th></th>\n",
       "      <th>gene_0</th>\n",
       "      <th>gene_1</th>\n",
       "      <th>gene_2</th>\n",
       "      <th>gene_3</th>\n",
       "      <th>gene_4</th>\n",
       "      <th>gene_5</th>\n",
       "      <th>gene_6</th>\n",
       "      <th>gene_7</th>\n",
       "      <th>gene_8</th>\n",
       "      <th>gene_9</th>\n",
       "      <th>...</th>\n",
       "      <th>gene_20521</th>\n",
       "      <th>gene_20522</th>\n",
       "      <th>gene_20523</th>\n",
       "      <th>gene_20524</th>\n",
       "      <th>gene_20525</th>\n",
       "      <th>gene_20526</th>\n",
       "      <th>gene_20527</th>\n",
       "      <th>gene_20528</th>\n",
       "      <th>gene_20529</th>\n",
       "      <th>gene_20530</th>\n",
       "    </tr>\n",
       "  </thead>\n",
       "  <tbody>\n",
       "    <tr>\n",
       "      <th>0</th>\n",
       "      <td>0.0</td>\n",
       "      <td>2.017209</td>\n",
       "      <td>3.265527</td>\n",
       "      <td>5.478487</td>\n",
       "      <td>10.431999</td>\n",
       "      <td>0.0</td>\n",
       "      <td>7.175175</td>\n",
       "      <td>0.591871</td>\n",
       "      <td>0.0</td>\n",
       "      <td>0.0</td>\n",
       "      <td>...</td>\n",
       "      <td>4.926711</td>\n",
       "      <td>8.210257</td>\n",
       "      <td>9.723516</td>\n",
       "      <td>7.220030</td>\n",
       "      <td>9.119813</td>\n",
       "      <td>12.003135</td>\n",
       "      <td>9.650743</td>\n",
       "      <td>8.921326</td>\n",
       "      <td>5.286759</td>\n",
       "      <td>0.0</td>\n",
       "    </tr>\n",
       "    <tr>\n",
       "      <th>1</th>\n",
       "      <td>0.0</td>\n",
       "      <td>0.592732</td>\n",
       "      <td>1.588421</td>\n",
       "      <td>7.586157</td>\n",
       "      <td>9.623011</td>\n",
       "      <td>0.0</td>\n",
       "      <td>6.816049</td>\n",
       "      <td>0.000000</td>\n",
       "      <td>0.0</td>\n",
       "      <td>0.0</td>\n",
       "      <td>...</td>\n",
       "      <td>4.593372</td>\n",
       "      <td>7.323865</td>\n",
       "      <td>9.740931</td>\n",
       "      <td>6.256586</td>\n",
       "      <td>8.381612</td>\n",
       "      <td>12.674552</td>\n",
       "      <td>10.517059</td>\n",
       "      <td>9.397854</td>\n",
       "      <td>2.094168</td>\n",
       "      <td>0.0</td>\n",
       "    </tr>\n",
       "    <tr>\n",
       "      <th>2</th>\n",
       "      <td>0.0</td>\n",
       "      <td>3.511759</td>\n",
       "      <td>4.327199</td>\n",
       "      <td>6.881787</td>\n",
       "      <td>9.870730</td>\n",
       "      <td>0.0</td>\n",
       "      <td>6.972130</td>\n",
       "      <td>0.452595</td>\n",
       "      <td>0.0</td>\n",
       "      <td>0.0</td>\n",
       "      <td>...</td>\n",
       "      <td>5.125213</td>\n",
       "      <td>8.127123</td>\n",
       "      <td>10.908640</td>\n",
       "      <td>5.401607</td>\n",
       "      <td>9.911597</td>\n",
       "      <td>9.045255</td>\n",
       "      <td>9.788359</td>\n",
       "      <td>10.090470</td>\n",
       "      <td>1.683023</td>\n",
       "      <td>0.0</td>\n",
       "    </tr>\n",
       "    <tr>\n",
       "      <th>3</th>\n",
       "      <td>0.0</td>\n",
       "      <td>3.663618</td>\n",
       "      <td>4.507649</td>\n",
       "      <td>6.659068</td>\n",
       "      <td>10.196184</td>\n",
       "      <td>0.0</td>\n",
       "      <td>7.843375</td>\n",
       "      <td>0.434882</td>\n",
       "      <td>0.0</td>\n",
       "      <td>0.0</td>\n",
       "      <td>...</td>\n",
       "      <td>6.076566</td>\n",
       "      <td>8.792959</td>\n",
       "      <td>10.141520</td>\n",
       "      <td>8.942805</td>\n",
       "      <td>9.601208</td>\n",
       "      <td>11.392682</td>\n",
       "      <td>9.694814</td>\n",
       "      <td>9.684365</td>\n",
       "      <td>3.292001</td>\n",
       "      <td>0.0</td>\n",
       "    </tr>\n",
       "    <tr>\n",
       "      <th>4</th>\n",
       "      <td>0.0</td>\n",
       "      <td>2.655741</td>\n",
       "      <td>2.821547</td>\n",
       "      <td>6.539454</td>\n",
       "      <td>9.738265</td>\n",
       "      <td>0.0</td>\n",
       "      <td>6.566967</td>\n",
       "      <td>0.360982</td>\n",
       "      <td>0.0</td>\n",
       "      <td>0.0</td>\n",
       "      <td>...</td>\n",
       "      <td>5.996032</td>\n",
       "      <td>8.891425</td>\n",
       "      <td>10.373790</td>\n",
       "      <td>7.181162</td>\n",
       "      <td>9.846910</td>\n",
       "      <td>11.922439</td>\n",
       "      <td>9.217749</td>\n",
       "      <td>9.461191</td>\n",
       "      <td>5.110372</td>\n",
       "      <td>0.0</td>\n",
       "    </tr>\n",
       "  </tbody>\n",
       "</table>\n",
       "<p>5 rows × 20531 columns</p>\n",
       "</div>"
      ],
      "text/plain": [
       "   gene_0    gene_1    gene_2    gene_3     gene_4  gene_5    gene_6  \\\n",
       "0     0.0  2.017209  3.265527  5.478487  10.431999     0.0  7.175175   \n",
       "1     0.0  0.592732  1.588421  7.586157   9.623011     0.0  6.816049   \n",
       "2     0.0  3.511759  4.327199  6.881787   9.870730     0.0  6.972130   \n",
       "3     0.0  3.663618  4.507649  6.659068  10.196184     0.0  7.843375   \n",
       "4     0.0  2.655741  2.821547  6.539454   9.738265     0.0  6.566967   \n",
       "\n",
       "     gene_7  gene_8  gene_9  ...  gene_20521  gene_20522  gene_20523  \\\n",
       "0  0.591871     0.0     0.0  ...    4.926711    8.210257    9.723516   \n",
       "1  0.000000     0.0     0.0  ...    4.593372    7.323865    9.740931   \n",
       "2  0.452595     0.0     0.0  ...    5.125213    8.127123   10.908640   \n",
       "3  0.434882     0.0     0.0  ...    6.076566    8.792959   10.141520   \n",
       "4  0.360982     0.0     0.0  ...    5.996032    8.891425   10.373790   \n",
       "\n",
       "   gene_20524  gene_20525  gene_20526  gene_20527  gene_20528  gene_20529  \\\n",
       "0    7.220030    9.119813   12.003135    9.650743    8.921326    5.286759   \n",
       "1    6.256586    8.381612   12.674552   10.517059    9.397854    2.094168   \n",
       "2    5.401607    9.911597    9.045255    9.788359   10.090470    1.683023   \n",
       "3    8.942805    9.601208   11.392682    9.694814    9.684365    3.292001   \n",
       "4    7.181162    9.846910   11.922439    9.217749    9.461191    5.110372   \n",
       "\n",
       "   gene_20530  \n",
       "0         0.0  \n",
       "1         0.0  \n",
       "2         0.0  \n",
       "3         0.0  \n",
       "4         0.0  \n",
       "\n",
       "[5 rows x 20531 columns]"
      ]
     },
     "execution_count": 67,
     "metadata": {},
     "output_type": "execute_result"
    }
   ],
   "source": [
    "features=df.drop(['Unnamed: 0'],axis=1)\n",
    "\n",
    "features=features.drop(['Class'],axis=1)\n",
    "target=df['Class']\n",
    "\n",
    "features.head()"
   ]
  },
  {
   "cell_type": "code",
   "execution_count": 68,
   "id": "b39c3054",
   "metadata": {
    "execution": {
     "iopub.execute_input": "2022-08-09T11:31:28.124875Z",
     "iopub.status.busy": "2022-08-09T11:31:28.124220Z",
     "iopub.status.idle": "2022-08-09T11:31:28.131590Z",
     "shell.execute_reply": "2022-08-09T11:31:28.130360Z"
    },
    "executionInfo": {
     "elapsed": 386,
     "status": "ok",
     "timestamp": 1655461045117,
     "user": {
      "displayName": "Shibu Mohapatra",
      "userId": "07626953913233812311"
     },
     "user_tz": -330
    },
    "id": "GxjX-4ZPKtpp",
    "outputId": "8aaf03f5-7d14-4e4d-b5f4-c2d59394b72b",
    "papermill": {
     "duration": 0.06017,
     "end_time": "2022-08-09T11:31:28.133941",
     "exception": false,
     "start_time": "2022-08-09T11:31:28.073771",
     "status": "completed"
    },
    "tags": []
   },
   "outputs": [
    {
     "data": {
      "text/plain": [
       "0    1\n",
       "1    2\n",
       "2    1\n",
       "3    1\n",
       "4    3\n",
       "Name: Class, dtype: int64"
      ]
     },
     "execution_count": 68,
     "metadata": {},
     "output_type": "execute_result"
    }
   ],
   "source": [
    "target.head()"
   ]
  },
  {
   "cell_type": "code",
   "execution_count": 69,
   "id": "10ba7a1e",
   "metadata": {
    "execution": {
     "iopub.execute_input": "2022-08-09T11:31:28.236003Z",
     "iopub.status.busy": "2022-08-09T11:31:28.235582Z",
     "iopub.status.idle": "2022-08-09T11:31:28.240278Z",
     "shell.execute_reply": "2022-08-09T11:31:28.239409Z"
    },
    "id": "Tc6hh7jaKvu4",
    "papermill": {
     "duration": 0.05906,
     "end_time": "2022-08-09T11:31:28.242234",
     "exception": false,
     "start_time": "2022-08-09T11:31:28.183174",
     "status": "completed"
    },
    "tags": []
   },
   "outputs": [],
   "source": [
    "f1=features.values"
   ]
  },
  {
   "cell_type": "code",
   "execution_count": 70,
   "id": "3d580640",
   "metadata": {
    "execution": {
     "iopub.execute_input": "2022-08-09T11:31:28.342425Z",
     "iopub.status.busy": "2022-08-09T11:31:28.341734Z",
     "iopub.status.idle": "2022-08-09T11:31:28.347384Z",
     "shell.execute_reply": "2022-08-09T11:31:28.346028Z"
    },
    "id": "NPgWJ8N8KxGE",
    "papermill": {
     "duration": 0.058614,
     "end_time": "2022-08-09T11:31:28.350033",
     "exception": false,
     "start_time": "2022-08-09T11:31:28.291419",
     "status": "completed"
    },
    "tags": []
   },
   "outputs": [],
   "source": [
    "y1 = pd.get_dummies(y_lda)"
   ]
  },
  {
   "cell_type": "code",
   "execution_count": 71,
   "id": "1ff58c65",
   "metadata": {
    "execution": {
     "iopub.execute_input": "2022-08-09T11:31:28.450858Z",
     "iopub.status.busy": "2022-08-09T11:31:28.450094Z",
     "iopub.status.idle": "2022-08-09T11:31:28.766212Z",
     "shell.execute_reply": "2022-08-09T11:31:28.764951Z"
    },
    "id": "MloHq7nYKzHd",
    "papermill": {
     "duration": 0.370098,
     "end_time": "2022-08-09T11:31:28.768958",
     "exception": false,
     "start_time": "2022-08-09T11:31:28.398860",
     "status": "completed"
    },
    "tags": []
   },
   "outputs": [],
   "source": [
    "from sklearn.model_selection import train_test_split\n",
    "\n",
    "X1_train, X1_valid, y1_train, y1_valid = train_test_split(f1,y1, test_size = 0.10, random_state=42)"
   ]
  },
  {
   "cell_type": "code",
   "execution_count": 72,
   "id": "41035f58",
   "metadata": {
    "execution": {
     "iopub.execute_input": "2022-08-09T11:31:28.866221Z",
     "iopub.status.busy": "2022-08-09T11:31:28.865778Z",
     "iopub.status.idle": "2022-08-09T11:31:28.875156Z",
     "shell.execute_reply": "2022-08-09T11:31:28.873055Z"
    },
    "executionInfo": {
     "elapsed": 586,
     "status": "ok",
     "timestamp": 1655461087545,
     "user": {
      "displayName": "Shibu Mohapatra",
      "userId": "07626953913233812311"
     },
     "user_tz": -330
    },
    "id": "6gdUmpkJK338",
    "outputId": "d3afaba9-c717-4882-f77b-e65be35de13f",
    "papermill": {
     "duration": 0.061187,
     "end_time": "2022-08-09T11:31:28.878037",
     "exception": false,
     "start_time": "2022-08-09T11:31:28.816850",
     "status": "completed"
    },
    "tags": []
   },
   "outputs": [
    {
     "data": {
      "text/plain": [
       "((720, 20531), (81, 20531), (81, 5), (720, 5))"
      ]
     },
     "execution_count": 72,
     "metadata": {},
     "output_type": "execute_result"
    }
   ],
   "source": [
    "X1_train.shape,X1_valid.shape,y1_valid.shape,y1_train.shape"
   ]
  },
  {
   "cell_type": "markdown",
   "id": "0b76908a",
   "metadata": {
    "id": "461x1xhYK5s5",
    "papermill": {
     "duration": 0.047025,
     "end_time": "2022-08-09T11:31:28.972643",
     "exception": false,
     "start_time": "2022-08-09T11:31:28.925618",
     "status": "completed"
    },
    "tags": []
   },
   "source": [
    "Define model"
   ]
  },
  {
   "cell_type": "markdown",
   "id": "57fa8ed2",
   "metadata": {
    "id": "Ti0cxItXK_9l",
    "papermill": {
     "duration": 0.046981,
     "end_time": "2022-08-09T11:31:29.066769",
     "exception": false,
     "start_time": "2022-08-09T11:31:29.019788",
     "status": "completed"
    },
    "tags": []
   },
   "source": [
    "SGD"
   ]
  },
  {
   "cell_type": "code",
   "execution_count": 73,
   "id": "c9f70ed9",
   "metadata": {
    "execution": {
     "iopub.execute_input": "2022-08-09T11:31:29.163722Z",
     "iopub.status.busy": "2022-08-09T11:31:29.163209Z",
     "iopub.status.idle": "2022-08-09T11:31:34.999216Z",
     "shell.execute_reply": "2022-08-09T11:31:34.997938Z"
    },
    "id": "6h1sPqUjLCaV",
    "papermill": {
     "duration": 5.888955,
     "end_time": "2022-08-09T11:31:35.003262",
     "exception": false,
     "start_time": "2022-08-09T11:31:29.114307",
     "status": "completed"
    },
    "tags": []
   },
   "outputs": [],
   "source": [
    "import tensorflow as tf"
   ]
  },
  {
   "cell_type": "code",
   "execution_count": 74,
   "id": "29fdab6b",
   "metadata": {
    "execution": {
     "iopub.execute_input": "2022-08-09T11:31:35.106116Z",
     "iopub.status.busy": "2022-08-09T11:31:35.105064Z",
     "iopub.status.idle": "2022-08-09T11:31:38.831706Z",
     "shell.execute_reply": "2022-08-09T11:31:38.830163Z"
    },
    "id": "j_dEV8qmLLF1",
    "papermill": {
     "duration": 3.780629,
     "end_time": "2022-08-09T11:31:38.834728",
     "exception": false,
     "start_time": "2022-08-09T11:31:35.054099",
     "status": "completed"
    },
    "tags": []
   },
   "outputs": [
    {
     "name": "stderr",
     "output_type": "stream",
     "text": [
      "2022-08-09 11:31:36.392631: I tensorflow/core/common_runtime/process_util.cc:146] Creating new thread pool with default inter op setting: 2. Tune using inter_op_parallelism_threads for best performance.\n"
     ]
    }
   ],
   "source": [
    "# Initialize Sequential model\n",
    "model = tf.keras.models.Sequential()\n",
    "\n",
    "# adding layers of inout\n",
    "model.add(tf.keras.layers.Dense(10000, input_dim=20531, activation='relu', kernel_initializer='he_uniform'))\n",
    "\n",
    "\n",
    "# Normalize the data\n",
    "model.add(tf.keras.layers.BatchNormalization())\n",
    "\n",
    "# Add 1st hidden layer\n",
    "model.add(tf.keras.layers.Dense(5000, activation='relu'))\n",
    "\n",
    "# Add 2nd hidden layer\n",
    "model.add(tf.keras.layers.Dense(2000, activation='relu'))\n",
    "\n",
    "# Add 3rd hidden layer\n",
    "model.add(tf.keras.layers.Dense(1000, activation='relu'))\n",
    "\n",
    "# Add 4th hidden layer\n",
    "model.add(tf.keras.layers.Dense(500, activation='relu'))\n",
    "\n",
    "# Add 5th hidden layer\n",
    "model.add(tf.keras.layers.Dense(200, activation='relu'))\n",
    "\n",
    "# Add 6th hidden layer\n",
    "model.add(tf.keras.layers.Dense(100, activation='relu'))\n",
    "\n",
    "# Add OUTPUT layer\n",
    "model.add(tf.keras.layers.Dense(5, activation='softmax'))\n",
    "\n",
    "# Create optimizer with non-default learning rate\n",
    "sgd_optimizer = tf.keras.optimizers.SGD(learning_rate=0.03)\n",
    "\n",
    "# Compile the model\n",
    "model.compile(optimizer=sgd_optimizer, loss='categorical_crossentropy', metrics=['accuracy'])"
   ]
  },
  {
   "cell_type": "code",
   "execution_count": 75,
   "id": "4a78334d",
   "metadata": {
    "execution": {
     "iopub.execute_input": "2022-08-09T11:31:38.937334Z",
     "iopub.status.busy": "2022-08-09T11:31:38.936949Z",
     "iopub.status.idle": "2022-08-09T11:31:38.944551Z",
     "shell.execute_reply": "2022-08-09T11:31:38.943213Z"
    },
    "executionInfo": {
     "elapsed": 395,
     "status": "ok",
     "timestamp": 1655461218827,
     "user": {
      "displayName": "Shibu Mohapatra",
      "userId": "07626953913233812311"
     },
     "user_tz": -330
    },
    "id": "gL64nAhSLUe8",
    "outputId": "603b5561-5ae3-4d56-9769-2efa36efa657",
    "papermill": {
     "duration": 0.061825,
     "end_time": "2022-08-09T11:31:38.947380",
     "exception": false,
     "start_time": "2022-08-09T11:31:38.885555",
     "status": "completed"
    },
    "tags": []
   },
   "outputs": [
    {
     "name": "stdout",
     "output_type": "stream",
     "text": [
      "Model: \"sequential\"\n",
      "_________________________________________________________________\n",
      "Layer (type)                 Output Shape              Param #   \n",
      "=================================================================\n",
      "dense (Dense)                (None, 10000)             205320000 \n",
      "_________________________________________________________________\n",
      "batch_normalization (BatchNo (None, 10000)             40000     \n",
      "_________________________________________________________________\n",
      "dense_1 (Dense)              (None, 5000)              50005000  \n",
      "_________________________________________________________________\n",
      "dense_2 (Dense)              (None, 2000)              10002000  \n",
      "_________________________________________________________________\n",
      "dense_3 (Dense)              (None, 1000)              2001000   \n",
      "_________________________________________________________________\n",
      "dense_4 (Dense)              (None, 500)               500500    \n",
      "_________________________________________________________________\n",
      "dense_5 (Dense)              (None, 200)               100200    \n",
      "_________________________________________________________________\n",
      "dense_6 (Dense)              (None, 100)               20100     \n",
      "_________________________________________________________________\n",
      "dense_7 (Dense)              (None, 5)                 505       \n",
      "=================================================================\n",
      "Total params: 267,989,305\n",
      "Trainable params: 267,969,305\n",
      "Non-trainable params: 20,000\n",
      "_________________________________________________________________\n"
     ]
    }
   ],
   "source": [
    "model.summary()"
   ]
  },
  {
   "cell_type": "code",
   "execution_count": 76,
   "id": "0addd12a",
   "metadata": {
    "execution": {
     "iopub.execute_input": "2022-08-09T11:31:39.050366Z",
     "iopub.status.busy": "2022-08-09T11:31:39.049898Z",
     "iopub.status.idle": "2022-08-09T11:32:53.450150Z",
     "shell.execute_reply": "2022-08-09T11:32:53.449068Z"
    },
    "executionInfo": {
     "elapsed": 176869,
     "status": "ok",
     "timestamp": 1655461405431,
     "user": {
      "displayName": "Shibu Mohapatra",
      "userId": "07626953913233812311"
     },
     "user_tz": -330
    },
    "id": "BN1T4rbSLWMZ",
    "outputId": "3c178a74-8c30-4553-a3e2-ac75877ef650",
    "papermill": {
     "duration": 74.455613,
     "end_time": "2022-08-09T11:32:53.453143",
     "exception": false,
     "start_time": "2022-08-09T11:31:38.997530",
     "status": "completed"
    },
    "tags": []
   },
   "outputs": [
    {
     "name": "stderr",
     "output_type": "stream",
     "text": [
      "2022-08-09 11:31:39.187868: I tensorflow/compiler/mlir/mlir_graph_optimization_pass.cc:185] None of the MLIR Optimization Passes are enabled (registered 2)\n"
     ]
    },
    {
     "name": "stdout",
     "output_type": "stream",
     "text": [
      "Epoch 1/5\n",
      "23/23 [==============================] - 16s 661ms/step - loss: 0.2703 - accuracy: 0.9333 - val_loss: 9.4900 - val_accuracy: 0.3827\n",
      "Epoch 2/5\n",
      "23/23 [==============================] - 14s 625ms/step - loss: 0.0083 - accuracy: 1.0000 - val_loss: 1.8309 - val_accuracy: 0.7407\n",
      "Epoch 3/5\n",
      "23/23 [==============================] - 14s 622ms/step - loss: 0.0035 - accuracy: 1.0000 - val_loss: 1.2548 - val_accuracy: 0.7531\n",
      "Epoch 4/5\n",
      "23/23 [==============================] - 15s 659ms/step - loss: 0.0030 - accuracy: 1.0000 - val_loss: 0.6746 - val_accuracy: 0.8025\n",
      "Epoch 5/5\n",
      "23/23 [==============================] - 14s 624ms/step - loss: 0.0018 - accuracy: 1.0000 - val_loss: 0.0982 - val_accuracy: 0.9630\n"
     ]
    }
   ],
   "source": [
    "history = model.fit(X1_train,y1_train,          \n",
    "          validation_data=(X1_valid,y1_valid),\n",
    "          epochs=5,\n",
    "          batch_size=32)"
   ]
  },
  {
   "cell_type": "code",
   "execution_count": 77,
   "id": "89cd8e0a",
   "metadata": {
    "execution": {
     "iopub.execute_input": "2022-08-09T11:32:53.569356Z",
     "iopub.status.busy": "2022-08-09T11:32:53.568527Z",
     "iopub.status.idle": "2022-08-09T11:32:54.411414Z",
     "shell.execute_reply": "2022-08-09T11:32:54.410330Z"
    },
    "id": "CsJ76bILLXxt",
    "papermill": {
     "duration": 0.904948,
     "end_time": "2022-08-09T11:32:54.414391",
     "exception": false,
     "start_time": "2022-08-09T11:32:53.509443",
     "status": "completed"
    },
    "tags": []
   },
   "outputs": [],
   "source": [
    "xyz = model.predict(X1_valid)"
   ]
  },
  {
   "cell_type": "code",
   "execution_count": 78,
   "id": "73fa08df",
   "metadata": {
    "execution": {
     "iopub.execute_input": "2022-08-09T11:32:54.526225Z",
     "iopub.status.busy": "2022-08-09T11:32:54.525391Z",
     "iopub.status.idle": "2022-08-09T11:32:54.532348Z",
     "shell.execute_reply": "2022-08-09T11:32:54.531336Z"
    },
    "id": "z9ZoE7xrLdLf",
    "papermill": {
     "duration": 0.065936,
     "end_time": "2022-08-09T11:32:54.535386",
     "exception": false,
     "start_time": "2022-08-09T11:32:54.469450",
     "status": "completed"
    },
    "tags": []
   },
   "outputs": [],
   "source": [
    "y_pr=[]\n",
    "for k in xyz:\n",
    "\n",
    "    y_pr.append(np.argmax(k))\n",
    "    \n",
    "y_val=[]\n",
    "\n",
    "for k in y1_valid.values:\n",
    "\n",
    "    y_val.append(np.argmax(k))"
   ]
  },
  {
   "cell_type": "code",
   "execution_count": 79,
   "id": "3d70fbaa",
   "metadata": {
    "execution": {
     "iopub.execute_input": "2022-08-09T11:32:54.648812Z",
     "iopub.status.busy": "2022-08-09T11:32:54.648400Z",
     "iopub.status.idle": "2022-08-09T11:32:54.658585Z",
     "shell.execute_reply": "2022-08-09T11:32:54.657290Z"
    },
    "executionInfo": {
     "elapsed": 3,
     "status": "ok",
     "timestamp": 1655461473216,
     "user": {
      "displayName": "Shibu Mohapatra",
      "userId": "07626953913233812311"
     },
     "user_tz": -330
    },
    "id": "0NEj2eOzLjAt",
    "outputId": "02b63f18-cbfb-4a96-ca77-001bad9207e0",
    "papermill": {
     "duration": 0.068263,
     "end_time": "2022-08-09T11:32:54.660791",
     "exception": false,
     "start_time": "2022-08-09T11:32:54.592528",
     "status": "completed"
    },
    "tags": []
   },
   "outputs": [
    {
     "data": {
      "text/plain": [
       "array([[11,  0,  3,  0,  0],\n",
       "       [ 0, 17,  0,  0,  0],\n",
       "       [ 0,  0, 31,  0,  0],\n",
       "       [ 0,  0,  0, 12,  0],\n",
       "       [ 0,  0,  0,  0,  7]])"
      ]
     },
     "execution_count": 79,
     "metadata": {},
     "output_type": "execute_result"
    }
   ],
   "source": [
    "# Confusion Matrix\n",
    "\n",
    "from sklearn.metrics import confusion_matrix\n",
    "confusion_matrix(y_val, y_pr)"
   ]
  },
  {
   "cell_type": "markdown",
   "id": "9367fc8b",
   "metadata": {
    "id": "qUT1qsSmLmb1",
    "papermill": {
     "duration": 0.055057,
     "end_time": "2022-08-09T11:32:54.771460",
     "exception": false,
     "start_time": "2022-08-09T11:32:54.716403",
     "status": "completed"
    },
    "tags": []
   },
   "source": [
    "Model evaluation"
   ]
  },
  {
   "cell_type": "code",
   "execution_count": 80,
   "id": "38f49736",
   "metadata": {
    "execution": {
     "iopub.execute_input": "2022-08-09T11:32:54.882210Z",
     "iopub.status.busy": "2022-08-09T11:32:54.880852Z",
     "iopub.status.idle": "2022-08-09T11:33:00.691523Z",
     "shell.execute_reply": "2022-08-09T11:33:00.689261Z"
    },
    "executionInfo": {
     "elapsed": 16127,
     "status": "ok",
     "timestamp": 1655461492008,
     "user": {
      "displayName": "Shibu Mohapatra",
      "userId": "07626953913233812311"
     },
     "user_tz": -330
    },
    "id": "Dcoxfrl5LqTJ",
    "outputId": "6d466f6f-9ce4-49fc-d358-e7b53325d5e8",
    "papermill": {
     "duration": 5.870011,
     "end_time": "2022-08-09T11:33:00.695554",
     "exception": false,
     "start_time": "2022-08-09T11:32:54.825543",
     "status": "completed"
    },
    "tags": []
   },
   "outputs": [
    {
     "name": "stdout",
     "output_type": "stream",
     "text": [
      "Train: 0.946, Test: 0.963\n"
     ]
    }
   ],
   "source": [
    "_, train_acc = model.evaluate(X1_train, y1_train, verbose=0)\n",
    "_, test_acc = model.evaluate(X1_valid, y1_valid, verbose=0)\n",
    "print('Train: %.3f, Test: %.3f' % (train_acc, test_acc))"
   ]
  },
  {
   "cell_type": "markdown",
   "id": "57af1a19",
   "metadata": {
    "id": "YIvJGDEzLrJG",
    "papermill": {
     "duration": 0.053565,
     "end_time": "2022-08-09T11:33:00.803783",
     "exception": false,
     "start_time": "2022-08-09T11:33:00.750218",
     "status": "completed"
    },
    "tags": []
   },
   "source": [
    "Plotting"
   ]
  },
  {
   "cell_type": "code",
   "execution_count": 81,
   "id": "705134c9",
   "metadata": {
    "execution": {
     "iopub.execute_input": "2022-08-09T11:33:00.922116Z",
     "iopub.status.busy": "2022-08-09T11:33:00.920800Z",
     "iopub.status.idle": "2022-08-09T11:33:01.167582Z",
     "shell.execute_reply": "2022-08-09T11:33:01.166489Z"
    },
    "executionInfo": {
     "elapsed": 29,
     "status": "ok",
     "timestamp": 1655461492011,
     "user": {
      "displayName": "Shibu Mohapatra",
      "userId": "07626953913233812311"
     },
     "user_tz": -330
    },
    "id": "bYpw_lgqLz2q",
    "outputId": "1cf9ee20-3baf-48f5-bcd6-67e7ce0c9bf8",
    "papermill": {
     "duration": 0.312248,
     "end_time": "2022-08-09T11:33:01.170150",
     "exception": false,
     "start_time": "2022-08-09T11:33:00.857902",
     "status": "completed"
    },
    "tags": []
   },
   "outputs": [
    {
     "data": {
      "image/png": "[encoded data removed]",
      "text/plain": [
       "<Figure size 432x288 with 1 Axes>"
      ]
     },
     "metadata": {
      "needs_background": "light"
     },
     "output_type": "display_data"
    }
   ],
   "source": [
    "plt.plot(history.history['accuracy'], label='train')\n",
    "plt.plot(history.history['val_accuracy'], label='test')\n",
    "plt.xlabel('# of epochs')\n",
    "plt.ylabel('Accuracy')\n",
    "plt.legend()\n",
    "plt.show()"
   ]
  },
  {
   "cell_type": "markdown",
   "id": "04ab38fd",
   "metadata": {
    "id": "JZbVNvwkL4Ed",
    "papermill": {
     "duration": 0.054382,
     "end_time": "2022-08-09T11:33:01.279599",
     "exception": false,
     "start_time": "2022-08-09T11:33:01.225217",
     "status": "completed"
    },
    "tags": []
   },
   "source": [
    "2. Apply the feature selection algorithms, forward selection and backward elimination to refine selected attributes using the classification model from the previous step"
   ]
  },
  {
   "cell_type": "markdown",
   "id": "643ede3a",
   "metadata": {
    "id": "ViVqiT8YMP8P",
    "papermill": {
     "duration": 0.055476,
     "end_time": "2022-08-09T11:33:01.389992",
     "exception": false,
     "start_time": "2022-08-09T11:33:01.334516",
     "status": "completed"
    },
    "tags": []
   },
   "source": [
    "Recursive feature elimination"
   ]
  },
  {
   "cell_type": "code",
   "execution_count": 82,
   "id": "3fa0610a",
   "metadata": {
    "execution": {
     "iopub.execute_input": "2022-08-09T11:33:01.510153Z",
     "iopub.status.busy": "2022-08-09T11:33:01.508882Z",
     "iopub.status.idle": "2022-08-09T11:33:01.617963Z",
     "shell.execute_reply": "2022-08-09T11:33:01.616916Z"
    },
    "id": "WhW-wI9bMJZr",
    "papermill": {
     "duration": 0.1765,
     "end_time": "2022-08-09T11:33:01.621179",
     "exception": false,
     "start_time": "2022-08-09T11:33:01.444679",
     "status": "completed"
    },
    "tags": []
   },
   "outputs": [],
   "source": [
    "# automatically select the number of features for RFE\n",
    "\n",
    "from numpy import mean\n",
    "from numpy import std\n",
    "from sklearn.datasets import make_classification\n",
    "from sklearn.model_selection import cross_val_score\n",
    "from sklearn.model_selection import RepeatedStratifiedKFold\n",
    "from sklearn.feature_selection import RFECV\n",
    "from sklearn.tree import DecisionTreeClassifier\n",
    "from sklearn.pipeline import Pipeline"
   ]
  },
  {
   "cell_type": "code",
   "execution_count": 83,
   "id": "ac8aeee9",
   "metadata": {
    "execution": {
     "iopub.execute_input": "2022-08-09T11:33:01.753323Z",
     "iopub.status.busy": "2022-08-09T11:33:01.752824Z",
     "iopub.status.idle": "2022-08-09T11:33:06.235259Z",
     "shell.execute_reply": "2022-08-09T11:33:06.233596Z"
    },
    "executionInfo": {
     "elapsed": 5795,
     "status": "ok",
     "timestamp": 1655461514242,
     "user": {
      "displayName": "Shibu Mohapatra",
      "userId": "07626953913233812311"
     },
     "user_tz": -330
    },
    "id": "2263O3ERMbtf",
    "outputId": "bc21eecd-a9af-4f9d-a73c-4ea92ffa9320",
    "papermill": {
     "duration": 4.556901,
     "end_time": "2022-08-09T11:33:06.238930",
     "exception": false,
     "start_time": "2022-08-09T11:33:01.682029",
     "status": "completed"
    },
    "tags": []
   },
   "outputs": [
    {
     "name": "stdout",
     "output_type": "stream",
     "text": [
      "Accuracy: 0.887 (0.024)\n"
     ]
    }
   ],
   "source": [
    "# define dataset\n",
    "X, y = make_classification(n_samples=1000, n_features=10, n_informative=5, n_redundant=5, random_state=1)\n",
    "\n",
    "# create pipeline\n",
    "rfe = RFECV(estimator=DecisionTreeClassifier())\n",
    "model = DecisionTreeClassifier()\n",
    "pipeline = Pipeline(steps=[('s',rfe),('m',model)])\n",
    "\n",
    "# evaluate model\n",
    "cv = RepeatedStratifiedKFold(n_splits=10, n_repeats=3, random_state=1)\n",
    "n_scores = cross_val_score(pipeline, X, y, scoring='accuracy', cv=cv, n_jobs=-1, error_score='raise')\n",
    "\n",
    "# report performance\n",
    "print('Accuracy: %.3f (%.3f)' % (mean(n_scores), std(n_scores)))"
   ]
  },
  {
   "cell_type": "markdown",
   "id": "25a6a855",
   "metadata": {
    "id": "GZAFDIiiKYn1",
    "papermill": {
     "duration": 0.060332,
     "end_time": "2022-08-09T11:33:06.358720",
     "exception": false,
     "start_time": "2022-08-09T11:33:06.298388",
     "status": "completed"
    },
    "tags": []
   },
   "source": [
    "3. Validate the genes selected from the last step using statistical significance testing (t-test for one vs. all and F-test)"
   ]
  },
  {
   "cell_type": "markdown",
   "id": "2146f0e5",
   "metadata": {
    "id": "ITpNhGFqMlzy",
    "papermill": {
     "duration": 0.058052,
     "end_time": "2022-08-09T11:33:06.473892",
     "exception": false,
     "start_time": "2022-08-09T11:33:06.415840",
     "status": "completed"
    },
    "tags": []
   },
   "source": [
    "One way F-test"
   ]
  },
  {
   "cell_type": "code",
   "execution_count": 84,
   "id": "ef889a0e",
   "metadata": {
    "execution": {
     "iopub.execute_input": "2022-08-09T11:33:06.591203Z",
     "iopub.status.busy": "2022-08-09T11:33:06.590771Z",
     "iopub.status.idle": "2022-08-09T11:33:06.609728Z",
     "shell.execute_reply": "2022-08-09T11:33:06.608481Z"
    },
    "executionInfo": {
     "elapsed": 12,
     "status": "ok",
     "timestamp": 1655461554003,
     "user": {
      "displayName": "Shibu Mohapatra",
      "userId": "07626953913233812311"
     },
     "user_tz": -330
    },
    "id": "gjviXvBYMobI",
    "outputId": "676ab284-2ffe-4ec6-d499-6c9d65e8a17b",
    "papermill": {
     "duration": 0.081334,
     "end_time": "2022-08-09T11:33:06.612387",
     "exception": false,
     "start_time": "2022-08-09T11:33:06.531053",
     "status": "completed"
    },
    "tags": []
   },
   "outputs": [
    {
     "data": {
      "text/html": [
       "<div>\n",
       "<style scoped>\n",
       "    .dataframe tbody tr th:only-of-type {\n",
       "        vertical-align: middle;\n",
       "    }\n",
       "\n",
       "    .dataframe tbody tr th {\n",
       "        vertical-align: top;\n",
       "    }\n",
       "\n",
       "    .dataframe thead th {\n",
       "        text-align: right;\n",
       "    }\n",
       "</style>\n",
       "<table border=\"1\" class=\"dataframe\">\n",
       "  <thead>\n",
       "    <tr style=\"text-align: right;\">\n",
       "      <th></th>\n",
       "      <th>tsne1</th>\n",
       "      <th>tsne2</th>\n",
       "      <th>cancer_type</th>\n",
       "    </tr>\n",
       "  </thead>\n",
       "  <tbody>\n",
       "    <tr>\n",
       "      <th>0</th>\n",
       "      <td>0.090234</td>\n",
       "      <td>19.857954</td>\n",
       "      <td>PRAD</td>\n",
       "    </tr>\n",
       "    <tr>\n",
       "      <th>1</th>\n",
       "      <td>-28.459469</td>\n",
       "      <td>0.503707</td>\n",
       "      <td>LUAD</td>\n",
       "    </tr>\n",
       "    <tr>\n",
       "      <th>2</th>\n",
       "      <td>-3.624522</td>\n",
       "      <td>26.885788</td>\n",
       "      <td>PRAD</td>\n",
       "    </tr>\n",
       "    <tr>\n",
       "      <th>3</th>\n",
       "      <td>-4.012268</td>\n",
       "      <td>26.119881</td>\n",
       "      <td>PRAD</td>\n",
       "    </tr>\n",
       "    <tr>\n",
       "      <th>4</th>\n",
       "      <td>10.668340</td>\n",
       "      <td>-13.696024</td>\n",
       "      <td>BRCA</td>\n",
       "    </tr>\n",
       "    <tr>\n",
       "      <th>...</th>\n",
       "      <td>...</td>\n",
       "      <td>...</td>\n",
       "      <td>...</td>\n",
       "    </tr>\n",
       "    <tr>\n",
       "      <th>796</th>\n",
       "      <td>12.630139</td>\n",
       "      <td>-11.366964</td>\n",
       "      <td>BRCA</td>\n",
       "    </tr>\n",
       "    <tr>\n",
       "      <th>797</th>\n",
       "      <td>-37.944668</td>\n",
       "      <td>0.040099</td>\n",
       "      <td>LUAD</td>\n",
       "    </tr>\n",
       "    <tr>\n",
       "      <th>798</th>\n",
       "      <td>-22.456291</td>\n",
       "      <td>-26.892941</td>\n",
       "      <td>COAD</td>\n",
       "    </tr>\n",
       "    <tr>\n",
       "      <th>799</th>\n",
       "      <td>-2.958930</td>\n",
       "      <td>21.785620</td>\n",
       "      <td>PRAD</td>\n",
       "    </tr>\n",
       "    <tr>\n",
       "      <th>800</th>\n",
       "      <td>-8.713822</td>\n",
       "      <td>18.918261</td>\n",
       "      <td>PRAD</td>\n",
       "    </tr>\n",
       "  </tbody>\n",
       "</table>\n",
       "<p>801 rows × 3 columns</p>\n",
       "</div>"
      ],
      "text/plain": [
       "         tsne1      tsne2 cancer_type\n",
       "0     0.090234  19.857954        PRAD\n",
       "1   -28.459469   0.503707        LUAD\n",
       "2    -3.624522  26.885788        PRAD\n",
       "3    -4.012268  26.119881        PRAD\n",
       "4    10.668340 -13.696024        BRCA\n",
       "..         ...        ...         ...\n",
       "796  12.630139 -11.366964        BRCA\n",
       "797 -37.944668   0.040099        LUAD\n",
       "798 -22.456291 -26.892941        COAD\n",
       "799  -2.958930  21.785620        PRAD\n",
       "800  -8.713822  18.918261        PRAD\n",
       "\n",
       "[801 rows x 3 columns]"
      ]
     },
     "execution_count": 84,
     "metadata": {},
     "output_type": "execute_result"
    }
   ],
   "source": [
    "df_tsne = pd.DataFrame(data=tnse_features,columns=['tsne1','tsne2'])\n",
    "df_tsne['cancer_type']=label['Class']\n",
    "df_tsne"
   ]
  },
  {
   "cell_type": "code",
   "execution_count": 85,
   "id": "6678128c",
   "metadata": {
    "execution": {
     "iopub.execute_input": "2022-08-09T11:33:06.729802Z",
     "iopub.status.busy": "2022-08-09T11:33:06.729137Z",
     "iopub.status.idle": "2022-08-09T11:33:06.744423Z",
     "shell.execute_reply": "2022-08-09T11:33:06.742542Z"
    },
    "executionInfo": {
     "elapsed": 361,
     "status": "ok",
     "timestamp": 1655461568364,
     "user": {
      "displayName": "Shibu Mohapatra",
      "userId": "07626953913233812311"
     },
     "user_tz": -330
    },
    "id": "_wnbSVYXMtT1",
    "outputId": "239ca97f-7bdd-4c6c-f547-42ea6de99919",
    "papermill": {
     "duration": 0.076963,
     "end_time": "2022-08-09T11:33:06.747134",
     "exception": false,
     "start_time": "2022-08-09T11:33:06.670171",
     "status": "completed"
    },
    "tags": []
   },
   "outputs": [
    {
     "name": "stdout",
     "output_type": "stream",
     "text": [
      "reject null hypothesis\n"
     ]
    }
   ],
   "source": [
    "df_anova_tsne = df_tsne[['tsne2','cancer_type']]\n",
    "grps_tsne = pd.unique(df_anova_tsne.cancer_type.values)\n",
    "\n",
    "d_data = {grp:df_anova_tsne['tsne2'][df_anova_tsne.cancer_type == grp] for grp in grps_tsne}\n",
    "\n",
    "F, p = stats.f_oneway(d_data['LUAD'], d_data['PRAD'], d_data['BRCA'], d_data['KIRC'], d_data['COAD'])\n",
    "\n",
    "if p<0.05:\n",
    "    print(\"reject null hypothesis\")\n",
    "else:\n",
    "    print(\"accept null hypothesis\")"
   ]
  },
  {
   "cell_type": "code",
   "execution_count": 86,
   "id": "94518278",
   "metadata": {
    "execution": {
     "iopub.execute_input": "2022-08-09T11:33:06.860890Z",
     "iopub.status.busy": "2022-08-09T11:33:06.860018Z",
     "iopub.status.idle": "2022-08-09T11:33:06.873278Z",
     "shell.execute_reply": "2022-08-09T11:33:06.871536Z"
    },
    "executionInfo": {
     "elapsed": 373,
     "status": "ok",
     "timestamp": 1655461581749,
     "user": {
      "displayName": "Shibu Mohapatra",
      "userId": "07626953913233812311"
     },
     "user_tz": -330
    },
    "id": "SqnBa4oRMwex",
    "outputId": "b2eb3098-f160-4c5d-c2cf-fc40d952b41a",
    "papermill": {
     "duration": 0.073756,
     "end_time": "2022-08-09T11:33:06.876287",
     "exception": false,
     "start_time": "2022-08-09T11:33:06.802531",
     "status": "completed"
    },
    "tags": []
   },
   "outputs": [
    {
     "name": "stdout",
     "output_type": "stream",
     "text": [
      "accept null hypothesis\n"
     ]
    }
   ],
   "source": [
    "df_anova_tsne = df_tsne[['tsne1','cancer_type']]\n",
    "grps_tsne = pd.unique(df_anova_tsne.cancer_type.values)\n",
    "\n",
    "d_data = {grp:df_anova_tsne['tsne1'][df_anova_tsne.cancer_type == grp] for grp in grps_tsne}\n",
    "\n",
    "F, p = stats.f_oneway(d_data['LUAD'], d_data['PRAD'], d_data['BRCA'], d_data['KIRC'], d_data['COAD'])\n",
    "\n",
    "if p>0.05:\n",
    "    print(\"reject null hypothesis\")\n",
    "else:\n",
    "    print(\"accept null hypothesis\")"
   ]
  }
 ],
 "metadata": {
  "kernelspec": {
   "display_name": "Python 3",
   "language": "python",
   "name": "python3"
  },
  "language_info": {
   "codemirror_mode": {
    "name": "ipython",
    "version": 3
   },
   "file_extension": ".py",
   "mimetype": "text/x-python",
   "name": "python",
   "nbconvert_exporter": "python",
   "pygments_lexer": "ipython3",
   "version": "3.7.12"
  },
  "papermill": {
   "default_parameters": {},
   "duration": 295.223465,
   "end_time": "2022-08-09T11:33:09.756667",
   "environment_variables": {},
   "exception": null,
   "input_path": "__notebook__.ipynb",
   "output_path": "__notebook__.ipynb",
   "parameters": {},
   "start_time": "2022-08-09T11:28:14.533202",
   "version": "2.3.4"
  }
 },
 "nbformat": 4,
 "nbformat_minor": 5
}
